{
 "cells": [
  {
   "cell_type": "markdown",
   "metadata": {},
   "source": []
  },
  {
   "cell_type": "code",
   "execution_count": 9,
   "metadata": {},
   "outputs": [],
   "source": [
    "import Tools\n",
    "from photoObject import *\n",
    "from MCMCObject import *\n",
    "import emcee\n",
    "import numpy as np\n",
    "import seaborn as sns\n",
    "import pandas as pd\n",
    "import matplotlib.pyplot as plt\n",
    "import numpy as np\n",
    "from astropy.io import fits\n",
    "from Tools import *\n",
    "from joblib import Parallel, delayed"
   ]
  },
  {
   "cell_type": "code",
   "execution_count": 40,
   "metadata": {},
   "outputs": [],
   "source": [
    "Catalog=ascii.read(\"../A-Catalogs/Binospec-Candels.cat\")\n",
    "Catalog_old=ascii.read(\"../A-Catalogs/Binospec-Candels_FWHMold.cat\")"
   ]
  },
  {
   "cell_type": "code",
   "execution_count": 41,
   "metadata": {},
   "outputs": [],
   "source": [
    "restorevoff=Catalog_old[\"voff\"]\n",
    "restoredvoff=Catalog_old[\"dvoff\"]\n",
    "\n",
    "Catalog[\"voff\"]=restorevoff\n",
    "Catalog[\"dvoff\"]=restoredvoff\n",
    "ascii.write(Catalog,\"../A-Catalogs/Binospec-Candels.cat\",overwrite=True)"
   ]
  },
  {
   "cell_type": "code",
   "execution_count": null,
   "metadata": {},
   "outputs": [],
   "source": []
  },
  {
   "cell_type": "code",
   "execution_count": 32,
   "metadata": {},
   "outputs": [],
   "source": [
    "zsys=Catalog[\"zsys\"]\n",
    "zlya=Catalog[\"z\"]\n",
    "\n",
    "voffset=Catalog[\"voff\"]\n",
    "\n",
    "newvoffset=Tools.vOffset(zlya,zsys)\n",
    "Catalog[\"voff\"]=newvoffset\n",
    "\n",
    "for gal in Catalog:\n",
    "    if gal[\"voff\"]<0:\n",
    "        gal[\"voff\"]=60\n",
    "        gal[\"dvoff\"]=np.nan\n",
    "\n",
    "ascii.write(Catalog,\"../A-Catalogs/Binospec-Candels.cat\",overwrite=True)"
   ]
  },
  {
   "cell_type": "code",
   "execution_count": 33,
   "metadata": {},
   "outputs": [
    {
     "data": {
      "image/png": "[encoded data removed]",
      "text/plain": [
       "<Figure size 432x288 with 1 Axes>"
      ]
     },
     "metadata": {
      "needs_background": "light"
     },
     "output_type": "display_data"
    }
   ],
   "source": [
    "plt.scatter(voffset,newvoffset)\n",
    "plt.plot([0,500],[0,500],color=\"black\")\n",
    "plt.xlabel(\"Old voff\")\n",
    "plt.ylabel(\"New voff\")\n",
    "plt.show()"
   ]
  },
  {
   "cell_type": "code",
   "execution_count": 38,
   "metadata": {},
   "outputs": [
    {
     "name": "stdout",
     "output_type": "stream",
     "text": [
      "    id_charlotte   \n",
      "-------------------\n",
      "       z6_GNW_14511\n",
      "       z6_GND_36100\n",
      "       z6_GND_43125\n",
      "        z7_GND_8358\n",
      "       z5_GND_39445\n",
      "       z5_GND_27819\n",
      "       z5_GND_21153\n",
      "       z5_GND_17752\n",
      "   Stark11_33_17705\n",
      "   Stark11_34_24923\n",
      "Jung18_z6_GND_28438\n"
     ]
    }
   ],
   "source": [
    "print(Catalog[~np.isnan(Catalog[\"voff\"])][\"id_charlotte\"])"
   ]
  },
  {
   "cell_type": "code",
   "execution_count": 39,
   "metadata": {},
   "outputs": [
    {
     "name": "stdout",
     "output_type": "stream",
     "text": [
      "       voff       \n",
      "------------------\n",
      "174.55498707110712\n",
      "243.80359893811166\n",
      " 69.36531200315174\n",
      "243.14350220141066\n",
      "25.087363940987586\n",
      "213.23169173925726\n",
      "250.45973482636285\n",
      "              60.0\n",
      " 451.9369003829553\n",
      " 63.46731083032625\n",
      " 301.0853038271308\n"
     ]
    }
   ],
   "source": [
    "print(Catalog[~np.isnan(Catalog[\"voff\"])][\"voff\"])"
   ]
  },
  {
   "cell_type": "code",
   "execution_count": null,
   "metadata": {},
   "outputs": [],
   "source": []
  }
 ],
 "metadata": {
  "kernelspec": {
   "display_name": "base",
   "language": "python",
   "name": "python3"
  },
  "language_info": {
   "codemirror_mode": {
    "name": "ipython",
    "version": 3
   },
   "file_extension": ".py",
   "mimetype": "text/x-python",
   "name": "python",
   "nbconvert_exporter": "python",
   "pygments_lexer": "ipython3",
   "version": "3.8.8"
  }
 },
 "nbformat": 4,
 "nbformat_minor": 2
}
