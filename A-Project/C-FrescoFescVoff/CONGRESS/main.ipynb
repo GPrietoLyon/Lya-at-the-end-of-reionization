{
 "cells": [
  {
   "cell_type": "code",
   "execution_count": 10,
   "metadata": {},
   "outputs": [],
   "source": [
    "import xmatch\n",
    "import numpy as np\n",
    "import pandas as pd\n",
    "import matplotlib.pyplot as plt\n",
    "from astropy.io import ascii\n",
    "import Tools\n",
    "\n",
    "\n",
    "Binospec=ascii.read(\"../../A-Catalogs/Binospec-Candels.cat\")\n",
    "Fresco=ascii.read(\"Ha_fresco_GN_v2.csv\")\n",
    "Congress=ascii.read(\"Ha_congress_v2.csv\")"
   ]
  },
  {
   "cell_type": "code",
   "execution_count": 26,
   "metadata": {},
   "outputs": [
    {
     "data": {
      "text/plain": [
       "60"
      ]
     },
     "execution_count": 26,
     "metadata": {},
     "output_type": "execute_result"
    }
   ],
   "source": [
    "82-22"
   ]
  },
  {
   "cell_type": "code",
   "execution_count": 41,
   "metadata": {},
   "outputs": [
    {
     "name": "stdout",
     "output_type": "stream",
     "text": [
      "104\n"
     ]
    }
   ],
   "source": [
    "count=0\n",
    "\n",
    "for gal in Binospec:\n",
    "    if (gal[\"zsys\"]>0 or gal[\"z\"]>0) and (gal[\"FluxLim\"]<0 or gal[\"LyaFlux\"]<0) :\n",
    "        count+=1\n",
    "print(count)"
   ]
  },
  {
   "cell_type": "code",
   "execution_count": 42,
   "metadata": {},
   "outputs": [
    {
     "data": {
      "text/plain": [
       "<matplotlib.collections.PathCollection at 0x7ff3506935b0>"
      ]
     },
     "execution_count": 42,
     "metadata": {},
     "output_type": "execute_result"
    },
    {
     "data": {
      "image/png": "[encoded data removed]",
      "text/plain": [
       "<Figure size 432x288 with 1 Axes>"
      ]
     },
     "metadata": {
      "needs_background": "light"
     },
     "output_type": "display_data"
    }
   ],
   "source": [
    "plt.scatter(Binospec[\"LyaFWHM\"],Binospec[\"voff\"])"
   ]
  },
  {
   "cell_type": "code",
   "execution_count": 5,
   "metadata": {},
   "outputs": [
    {
     "name": "stdout",
     "output_type": "stream",
     "text": [
      "nan\n"
     ]
    }
   ],
   "source": [
    "for gal in Binospec:\n",
    "    if gal[\"id_charlotte\"]==\"Stark11_42_13066\":\n",
    "        gal[\"fesc\"]=np.nan"
   ]
  },
  {
   "cell_type": "code",
   "execution_count": null,
   "metadata": {},
   "outputs": [],
   "source": [
    "ascii.write(Binospec,\"../../A-Catalogs/Binospec-Candels.cat\",overwrite=True)"
   ]
  },
  {
   "cell_type": "code",
   "execution_count": 75,
   "metadata": {},
   "outputs": [
    {
     "name": "stdout",
     "output_type": "stream",
     "text": [
      "Bino ID | zlya | zphot | zsys\n",
      "z6_GNW_11543 5.769585403180398 5.7 nan\n",
      "Fresco ID | zHa | q_final\n",
      "32735 5.611 3.0\n",
      "Voff\n",
      "7191.454821112164\n",
      "   \n",
      "Bino ID | zlya | zphot | zsys\n",
      "z6_GND_36553 5.610946246224566 5.72 nan\n",
      "Fresco ID | zHa | q_final\n",
      "29820 5.606 2.0\n",
      "Voff\n",
      "224.46977195518974\n",
      "   \n",
      "Bino ID | zlya | zphot | zsys\n",
      "z6_GND_32408 nan 6.0 nan\n",
      "Fresco ID | zHa | q_final\n",
      "26982 5.608 2.0\n",
      "Voff\n",
      "nan\n",
      "   \n",
      "Bino ID | zlya | zphot | zsys\n",
      "z5_GND_7766 5.5912848204122305 5.58 nan\n",
      "Fresco ID | zHa | q_final\n",
      "3869 5.591 3.0\n",
      "Voff\n",
      "12.955092015035989\n",
      "   \n",
      "Bino ID | zlya | zphot | zsys\n",
      "z5_GND_13996 nan 5.51 6.01536418811046\n",
      "Fresco ID | zHa | q_final\n",
      "10648 6.315 3.0\n",
      "Voff\n",
      "nan\n",
      "   \n",
      "Bino ID | zlya | zphot | zsys\n",
      "z5_GND_23860 6.584699244519547 5.29 nan\n",
      "Fresco ID | zHa | q_final\n",
      "20071 5.092 2.25\n",
      "Voff\n",
      "73456.98876711396\n",
      "   \n",
      "Bino ID | zlya | zphot | zsys\n",
      "z5_GND_10047 6.010827192429243 5.5 nan\n",
      "Fresco ID | zHa | q_final\n",
      "6732 5.194 3.0\n",
      "Voff\n",
      "39534.813009299614\n",
      "   \n",
      "Bino ID | zlya | zphot | zsys\n",
      "z5_GND_28693 nan 5.23 nan\n",
      "Fresco ID | zHa | q_final\n",
      "1000023 5.344 3.0\n",
      "Voff\n",
      "nan\n",
      "   \n",
      "Bino ID | zlya | zphot | zsys\n",
      "z8_GND_35384 6.874310778098622 7.6 nan\n",
      "Fresco ID | zHa | q_final\n",
      "28978 6.55 2.0\n",
      "Voff\n",
      "12877.606002924318\n",
      "   \n",
      "Bino ID | zlya | zphot | zsys\n",
      "Hu10_z6_12 nan 5.429999828338623 nan\n",
      "Fresco ID | zHa | q_final\n",
      "21046 5.189 3.0\n",
      "Voff\n",
      "nan\n",
      "   \n",
      "Bino ID | zlya | zphot | zsys\n",
      "Hu10_z6_9 nan 5.510000228881836 nan\n",
      "Fresco ID | zHa | q_final\n",
      "10916 5.241 3.0\n",
      "Voff\n",
      "nan\n",
      "   \n",
      "Bino ID | zlya | zphot | zsys\n",
      "Stark11_43_3982 5.7079772054167845 5.570000171661377 nan\n",
      "Fresco ID | zHa | q_final\n",
      "16141 5.703 2.0\n",
      "Voff\n",
      "222.60609366979963\n",
      "   \n",
      "Bino ID | zlya | zphot | zsys\n",
      "Stark11_42_13066 5.611516765989035 5.71999979019165 nan\n",
      "Fresco ID | zHa | q_final\n",
      "29820 5.606 2.0\n",
      "Voff\n",
      "250.3610106060531\n",
      "   \n"
     ]
    }
   ],
   "source": [
    "idx,dist2d=xmatch.xmatch(Binospec['ra_candels'],Binospec['dec_candels'],Fresco['ra'],Fresco['dec'])\n",
    "mask2d=xmatch.Filter_separation(dist2d,0.3/3600)\n",
    "\n",
    "Bino_Fresco=Binospec[mask2d]\n",
    "Fresco_Bino=Fresco[idx[mask2d]]\n",
    "\n",
    "\n",
    "Bino_z=Bino_Fresco[\"zsys\"]\n",
    "Fresco_z=Fresco_Bino[\"z_map\"]\n",
    "mask_to_crosscheck = np.isnan(Bino_z) ^ (np.abs(Bino_z - Fresco_z) >= 0.05)\n",
    "\n",
    "Bino_crosscheck=Bino_Fresco[mask_to_crosscheck]\n",
    "Fresco_crosscheck=Fresco_Bino[mask_to_crosscheck]\n",
    "\n",
    "for i in range(0,len(Bino_crosscheck)):\n",
    "    if Fresco_crosscheck[i][\"q_final\"]>1.75:\n",
    "        print(\"Bino ID | zlya | zphot | zsys\")\n",
    "        print(Bino_crosscheck[i][\"id_charlotte\"],Bino_crosscheck[i][\"z\"],Bino_crosscheck[i][\"photoz\"],Bino_crosscheck[i][\"zsys\"])\n",
    "        print(\"Fresco ID | zHa | q_final\")\n",
    "        print(Fresco_crosscheck[i][\"id\"],Fresco_crosscheck[i][\"z_map\"],Fresco_crosscheck[i][\"q_final\"])\n",
    "        print(\"Voff\")\n",
    "        print(Tools.vOffset(Bino_crosscheck[i][\"z\"],Fresco_crosscheck[i][\"z_map\"]))\n",
    "        print(\"   \")"
   ]
  },
  {
   "cell_type": "code",
   "execution_count": 80,
   "metadata": {},
   "outputs": [
    {
     "name": "stdout",
     "output_type": "stream",
     "text": [
      "Bino ID | zlya | zphot | zsys\n",
      "z5_GND_44499 nan 5.58 nan\n",
      "Congress ID | zHa | q_final\n",
      "4571 4.477 2.5\n",
      "Voff\n",
      "nan\n",
      "   \n",
      "Bino ID | zlya | zphot | zsys\n",
      "z5_GND_14131 nan 5.41 5.197174093385477\n",
      "Congress ID | zHa | q_final\n",
      "1000033 4.972 2.25\n",
      "Voff\n",
      "nan\n",
      "   \n"
     ]
    }
   ],
   "source": [
    "idx, dist2d = xmatch.xmatch(Binospec['ra_candels'], Binospec['dec_candels'], Congress['ra'], Congress['dec'])\n",
    "mask2d = xmatch.Filter_separation(dist2d, 0.3 / 3600)\n",
    "\n",
    "Bino_Congress = Binospec[mask2d]\n",
    "Congress_Bino = Congress[idx[mask2d]]\n",
    "\n",
    "Bino_z = Bino_Congress[\"zsys\"]\n",
    "Congress_z = Congress_Bino[\"z_map\"]\n",
    "mask_to_crosscheck = np.isnan(Bino_z) ^ (np.abs(Bino_z - Congress_z) >= 0.05)\n",
    "\n",
    "Bino_crosscheck = Bino_Congress[mask_to_crosscheck]\n",
    "Congress_crosscheck = Congress_Bino[mask_to_crosscheck]\n",
    "\n",
    "for i in range(0, len(Bino_crosscheck)):\n",
    "    if Congress_crosscheck[i][\"q\"] > 1.75:\n",
    "        print(\"Bino ID | zlya | zphot | zsys\")\n",
    "        print(Bino_crosscheck[i][\"id_charlotte\"], Bino_crosscheck[i][\"z\"], Bino_crosscheck[i][\"photoz\"], Bino_crosscheck[i][\"zsys\"])\n",
    "        print(\"Congress ID | zHa | q_final\")\n",
    "        print(Congress_crosscheck[i][\"id\"], Congress_crosscheck[i][\"z_map\"], Congress_crosscheck[i][\"q\"])\n",
    "        print(\"Voff\")\n",
    "        print(Tools.vOffset(Bino_crosscheck[i][\"z\"], Congress_crosscheck[i][\"z_map\"]))\n",
    "        print(\"   \")\n"
   ]
  },
  {
   "cell_type": "code",
   "execution_count": 115,
   "metadata": {},
   "outputs": [],
   "source": [
    "Add_changes=False\n",
    "Keys=[\"Type\",\"z\",\"zsys\"]\n",
    "Dic_ChangeCat={\n",
    "    \"z6_GNW_11543\":[[Keys[0],\"NonDetect\"],[Keys[1],np.nan],[\"LyaFlux\",np.nan],[\"fesc\",np.nan],[\"voff\",np.nan],[\"dvoff\",np.nan],[\"EWLya\",np.nan],[\"dEWLya\",np.nan]],\n",
    "    \"z5_GND_13996\":[[Keys[2],np.nan]],\n",
    "    \"z5_GND_23860\":[[Keys[1],np.nan],[Keys[0],\"NonDetect\"],[\"LyaFlux\",np.nan],[\"fesc\",np.nan],[\"voff\",np.nan],[\"dvoff\",np.nan],[\"EWLya\",np.nan],[\"dEWLya\",np.nan]],\n",
    "    \"z5_GND_10047\":[[Keys[1],np.nan],[Keys[0],\"NonDetect\"],[\"LyaFlux\",np.nan],[\"fesc\",np.nan],[\"voff\",np.nan],[\"dvoff\",np.nan],[\"EWLya\",np.nan],[\"dEWLya\",np.nan]]\n",
    "}\n",
    "\n",
    "if Add_changes:\n",
    "    for el in Dic_ChangeCat.keys():\n",
    "        ID=list(Binospec[\"id_charlotte\"])\n",
    "        i=ID.index(el)\n",
    "        Temp_change=Dic_ChangeCat[el]\n",
    "        for values in Temp_change:\n",
    "            Binospec[values[0]][i]=values[1]\n",
    "            \n",
    "\n",
    "    ascii.write(Binospec,\"../../A-Catalogs/Binospec-Candels.cat\",overwrite=True)\n",
    "    print(\"Done\")\n"
   ]
  },
  {
   "cell_type": "code",
   "execution_count": 104,
   "metadata": {},
   "outputs": [],
   "source": [
    "Dic={\"z6_GNW_11543\":5.611,\n",
    "     \"z6_GND_36553\":5.606,\n",
    "    \"z5_GND_7766\":5.591,\n",
    "    \"z5_GND_13996\":6.315,\n",
    "    \"z5_GND_23860\":5.092,\n",
    "    \"z5_GND_10047\":5.194,\n",
    "    \"z5_GND_28693\":5.344,\n",
    "    \"Hu10_z6_12\":5.189,\n",
    "    \"Hu10_z6_9\":5.241,\n",
    "    \"Stark11_43_3982\":5.703,\n",
    "    \"Stark11_42_13066\":5.606\n",
    "     }"
   ]
  },
  {
   "cell_type": "code",
   "execution_count": 6,
   "metadata": {},
   "outputs": [],
   "source": [
    "Results= np.load(\"../../A-Catalogs/ForMaster/Any.npy\",allow_pickle=True)"
   ]
  },
  {
   "cell_type": "code",
   "execution_count": 107,
   "metadata": {},
   "outputs": [],
   "source": [
    "#Add zsys and voff\n",
    "Add_zsys_voff=False\n",
    "if Add_zsys_voff:\n",
    "    for result in Results:\n",
    "        id = result[\"ID\"]\n",
    "        print(id, result[\"Off\"])\n",
    "        maskID = Binospec[\"id_charlotte\"] == id\n",
    "        Binospec[\"zsys\"][maskID] = result[\"zsys\"][0]\n",
    "        Binospec[\"voff\"][maskID] = result[\"Off\"][0]\n",
    "        Binospec[\"dvoff\"][maskID] = np.abs(result[\"Off\"][1])\n",
    "        Binospec[\"inFresco\"][maskID] = \"inFresco\"\n",
    "\n",
    "    ascii.write(Binospec,\"../../A-Catalogs/Binospec-Candels.cat\",overwrite=True)"
   ]
  },
  {
   "cell_type": "code",
   "execution_count": 112,
   "metadata": {},
   "outputs": [],
   "source": [
    "#Dust Correction\n",
    "def Lam_unattenuation(slope):\n",
    "    if slope<-2.23:\n",
    "        return 1\n",
    "    else:\n",
    "        return (10**(1.1*(slope+2.23)/-2.5))**(2.6/13.2)\n",
    "    \n",
    "\n",
    "def Calculate_fesc(ha,dha,lya,dlya,slope):\n",
    "    fesc=lya/(8.7*ha)\n",
    "    fesc_unattenuated=fesc*Lam_unattenuation(slope)\n",
    "    dfesc=(fesc_unattenuated)*(np.sqrt(  (dha/ha)*2  + (dlya/lya)**2  ))\n",
    "    return fesc_unattenuated,dfesc\n",
    "\n",
    "\n",
    "\n",
    "Add_HaFlux=False\n",
    "if Add_HaFlux:\n",
    "    for result in Results:\n",
    "        id = result[\"ID\"]\n",
    "        maskID = Binospec[\"id_charlotte\"] == id\n",
    "        if id==\"z5_GND_13996\":\n",
    "            flux=result[\"HaFlux\"][0]\n",
    "            fluxerr=result[\"HaFlux\"][1]\n",
    "            Lya=10**Binospec[maskID][\"LyaFlux\"][0]\n",
    "            dLya=10**Binospec[maskID][\"LyaErr\"][0]\n",
    "            slope=Binospec[maskID][\"slope\"][0]\n",
    "            fesc,dfesc=Calculate_fesc(flux,fluxerr,Lya,dLya,slope)\n",
    "            logflux=np.log10(flux)\n",
    "            Binospec[\"HaFlux\"][maskID] = logflux\n",
    "            Binospec[\"fesc\"][maskID] = fesc\n",
    "            Binospec[\"dfesc\"][maskID] = dfesc\n",
    "            print(id,fesc,dfesc)\n",
    "            continue\n",
    "\n",
    "        \n",
    "\n",
    "        flux=result[\"HaFlux\"][0]\n",
    "        fluxerr=result[\"HaFlux\"][1]\n",
    "        Lya=10**Binospec[maskID][\"LyaFlux\"][0]\n",
    "        dLya=10**Binospec[maskID][\"LyaErr\"][0]\n",
    "        slope=Binospec[maskID][\"slope\"][0]\n",
    "        fesc,dfesc=Calculate_fesc(flux,fluxerr,Lya,dLya,slope)\n",
    "        print(id,fesc,dfesc)\n",
    "        logflux=np.log10(flux)\n",
    "        logfluxerr=np.log10(logflux)\n",
    "\n",
    "        Binospec[\"HaFlux\"][maskID] = logflux\n",
    "        Binospec[\"dHaFlux\"][maskID] = result[\"HaFlux\"][1]\n",
    "        Binospec[\"fesc\"][maskID] = fesc\n",
    "        Binospec[\"dfesc\"][maskID] = dfesc\n",
    "\n",
    "    ascii.write(Binospec,\"../../A-Catalogs/Binospec-Candels.cat\",overwrite=True)"
   ]
  }
 ],
 "metadata": {
  "kernelspec": {
   "display_name": "base",
   "language": "python",
   "name": "python3"
  },
  "language_info": {
   "codemirror_mode": {
    "name": "ipython",
    "version": 3
   },
   "file_extension": ".py",
   "mimetype": "text/x-python",
   "name": "python",
   "nbconvert_exporter": "python",
   "pygments_lexer": "ipython3",
   "version": "3.8.8"
  }
 },
 "nbformat": 4,
 "nbformat_minor": 2
}
