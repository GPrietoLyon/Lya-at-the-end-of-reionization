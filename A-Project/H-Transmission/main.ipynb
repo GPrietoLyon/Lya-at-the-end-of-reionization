{
 "cells": [
  {
   "cell_type": "code",
   "execution_count": 1,
   "metadata": {},
   "outputs": [],
   "source": [
    "import numpy as np\n",
    "from astropy import units as u\n",
    "import matplotlib.pyplot as plt\n"
   ]
  },
  {
   "cell_type": "code",
   "execution_count": 2,
   "metadata": {},
   "outputs": [
    {
     "data": {
      "text/plain": [
       "0.7352941176470588"
      ]
     },
     "execution_count": 2,
     "metadata": {},
     "output_type": "execute_result"
    }
   ],
   "source": [
    "1/1.36"
   ]
  },
  {
   "cell_type": "code",
   "execution_count": 3,
   "metadata": {},
   "outputs": [
    {
     "data": {
      "text/plain": [
       "130.4247461159109"
      ]
     },
     "execution_count": 3,
     "metadata": {},
     "output_type": "execute_result"
    }
   ],
   "source": [
    "10**(0.32*-0.3*(-20+20+0.26*9)+2.34)"
   ]
  },
  {
   "cell_type": "code",
   "execution_count": 4,
   "metadata": {},
   "outputs": [],
   "source": [
    "def Trans_IGM(dv, z):\n",
    "    dv = dv.to(u.km/u.s)\n",
    "    opacity = 2.3 * (600 * (u.km/u.s) / dv) * ((1 + z) / 10) ** (3 / 2)\n",
    "    T = np.e ** -opacity\n",
    "    T[dv < 0] = 0  # Set transmission to 0 for dv < 0\n",
    "    return T"
   ]
  },
  {
   "cell_type": "code",
   "execution_count": 5,
   "metadata": {},
   "outputs": [
    {
     "name": "stdout",
     "output_type": "stream",
     "text": [
      "82.46364347543123 m / s\n"
     ]
    }
   ],
   "source": [
    "from astropy.constants import G\n",
    "from astropy.cosmology import Planck18 as cosmo\n",
    "\n",
    "# Define the Hubble constant at redshift 9\n",
    "H_z9 = cosmo.H(9).to(u.s**-1)\n",
    "MH=(10.9 * u.M_sun).to(u.kg)\n",
    "G=G.to(u.m**3/u.kg/u.s**2)\n",
    "# Calculate v\n",
    "v = (10 * G * MH * H_z9)**(1/3)\n",
    "print(v)"
   ]
  },
  {
   "cell_type": "code",
   "execution_count": 11,
   "metadata": {},
   "outputs": [
    {
     "data": {
      "text/plain": [
       "245.4708915685031"
      ]
     },
     "execution_count": 11,
     "metadata": {},
     "output_type": "execute_result"
    }
   ],
   "source": [
    "10**2.39"
   ]
  },
  {
   "cell_type": "code",
   "execution_count": null,
   "metadata": {},
   "outputs": [
    {
     "name": "stdout",
     "output_type": "stream",
     "text": [
      "100.00000000000001\n"
     ]
    },
    {
     "name": "stderr",
     "output_type": "stream",
     "text": [
      "/Users/gonzalo/opt/anaconda3/lib/python3.8/site-packages/astropy/units/quantity.py:673: RuntimeWarning: overflow encountered in power\n",
      "  result = super().__array_ufunc__(function, method, *arrays, **kwargs)\n"
     ]
    },
    {
     "data": {
      "image/png": "[encoded data removed]",
      "text/plain": [
       "<Figure size 432x288 with 1 Axes>"
      ]
     },
     "metadata": {
      "needs_background": "light"
     },
     "output_type": "display_data"
    },
    {
     "name": "stdout",
     "output_type": "stream",
     "text": [
      "0.876508736433639  % transmitted in ours\n",
      "0.10968780217391765 s / km  % transmitted in Mason2019\n",
      "Ratio: 7.990940825342397 km / s\n"
     ]
    }
   ],
   "source": [
    "from scipy.integrate import simps\n",
    "from scipy.signal import convolve\n",
    "\n",
    "\n",
    "redshift=9\n",
    "\n",
    "dv=np.linspace(-500,2500,1000)*u.km/u.s\n",
    "\n",
    "T=Trans_IGM(dv,redshift)\n",
    "\n",
    "\n",
    "def Gaussian(x,A,mu,FWHM):\n",
    "    sigma=FWHM/2.355\n",
    "    A=A*u.km/u.s\n",
    "    return A/(sigma*np.sqrt(2*np.pi))*np.e**(-(x-mu)**2/(2*sigma**2))\n",
    "\n",
    "plt.plot(dv,T)\n",
    "plt.xlabel('dv [kms-1]')\n",
    "plt.ylabel('Transmission')\n",
    "plt.ylim(-0.5,1.1)\n",
    "\n",
    "\n",
    "mean = 258 * u.km/u.s\n",
    "fwhm = 250 * u.km/u.s\n",
    "A=100\n",
    "our_gaussian = Gaussian(dv, A, mean, fwhm)\n",
    "\n",
    "plt.plot(dv, our_gaussian, label='Gaussian This work')\n",
    "\n",
    "c_mean = 150 * u.km/u.s\n",
    "c_fwhm = 155 * u.km/u.s\n",
    "c_A=100\n",
    "c_gaussian = Gaussian(dv, c_A, c_mean, c_fwhm)\n",
    "c_gaussian[dv < 82* u.km/u.s] = 0\n",
    "\n",
    "c_gaussian/=np.trapz(c_gaussian,dv)\n",
    "c_gaussian=c_gaussian*100\n",
    "print(np.trapz(c_gaussian,dv))\n",
    "\n",
    "\n",
    "\n",
    "plt.plot(dv, c_gaussian, label='Gaussian Mason2019')\n",
    "plt.legend()\n",
    "\n",
    "\n",
    "def Transmitted_lya(dv,T,profile):\n",
    "    transmitted=T*profile\n",
    "    return transmitted\n",
    "\n",
    "def integrate_Trans(dv,T,profile):\n",
    "    transmitted=T*profile\n",
    "    return np.trapz(transmitted,dv)*u.s/u.km\n",
    "\n",
    "\n",
    "plt.plot(dv,Transmitted_lya(dv,T,our_gaussian),label='Transmitted')\n",
    "plt.plot(dv,Transmitted_lya(dv,T,c_gaussian),label='Transmitted')\n",
    "plt.show()\n",
    "\n",
    "print(integrate_Trans(dv,T,our_gaussian), \" % transmitted in ours\")\n",
    "print(integrate_Trans(dv,T,c_gaussian), \" % transmitted in Mason2019\")\n",
    "print(\"Ratio:\",integrate_Trans(dv,T,our_gaussian)/integrate_Trans(dv,T,c_gaussian))"
   ]
  },
  {
   "cell_type": "code",
   "execution_count": 35,
   "metadata": {},
   "outputs": [],
   "source": [
    "integrated_c_gaussian = np.trapz(c_gaussian,dv)\n"
   ]
  },
  {
   "cell_type": "code",
   "execution_count": 59,
   "metadata": {},
   "outputs": [
    {
     "data": {
      "text/plain": [
       "3.6333333333333333"
      ]
     },
     "execution_count": 59,
     "metadata": {},
     "output_type": "execute_result"
    }
   ],
   "source": [
    "10.9**1/3"
   ]
  },
  {
   "cell_type": "code",
   "execution_count": null,
   "metadata": {},
   "outputs": [],
   "source": []
  },
  {
   "cell_type": "code",
   "execution_count": 36,
   "metadata": {},
   "outputs": [
    {
     "data": {
      "text/latex": [
       "$99.817962 \\; \\mathrm{\\frac{km}{s}}$"
      ],
      "text/plain": [
       "<Quantity 99.81796188 km / s>"
      ]
     },
     "execution_count": 36,
     "metadata": {},
     "output_type": "execute_result"
    }
   ],
   "source": [
    "integrated_c_gaussian"
   ]
  },
  {
   "cell_type": "code",
   "execution_count": 44,
   "metadata": {},
   "outputs": [],
   "source": [
    "a=[238,250,429,160,725,233,385,351,169,297,242,237,286,408,232,342,210,589,242,179,73,85,115,86,251,77,261,163,79,119,310,140,60,193,326,273,113,201,147,234,111,177,135,258,186,156,236,263,470,249,263,186,227,318,161,119,62,219,330,188,253,235,154,91,136,285,360,130,335,295,147,215,210,222,278,216,133,232,100]"
   ]
  },
  {
   "cell_type": "code",
   "execution_count": 46,
   "metadata": {},
   "outputs": [
    {
     "data": {
      "text/plain": [
       "225.9620253164557"
      ]
     },
     "execution_count": 46,
     "metadata": {},
     "output_type": "execute_result"
    }
   ],
   "source": [
    "np.mean(a)"
   ]
  },
  {
   "cell_type": "code",
   "execution_count": null,
   "metadata": {},
   "outputs": [],
   "source": []
  }
 ],
 "metadata": {
  "kernelspec": {
   "display_name": "base",
   "language": "python",
   "name": "python3"
  },
  "language_info": {
   "codemirror_mode": {
    "name": "ipython",
    "version": 3
   },
   "file_extension": ".py",
   "mimetype": "text/x-python",
   "name": "python",
   "nbconvert_exporter": "python",
   "pygments_lexer": "ipython3",
   "version": "3.8.8"
  }
 },
 "nbformat": 4,
 "nbformat_minor": 2
}
