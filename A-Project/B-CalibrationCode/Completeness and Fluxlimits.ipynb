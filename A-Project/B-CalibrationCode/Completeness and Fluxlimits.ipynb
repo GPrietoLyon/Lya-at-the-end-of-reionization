{
 "cells": [
  {
   "cell_type": "markdown",
   "metadata": {},
   "source": []
  },
  {
   "cell_type": "code",
   "execution_count": 6,
   "metadata": {},
   "outputs": [],
   "source": [
    "from astropy.io.fits import hdu\n",
    "from Spectra import *\n",
    "from SpectraData import *\n",
    "from Inventory import *\n",
    "import matplotlib.pyplot as plt\n",
    "from astropy.io import fits\n",
    "import numpy as np\n",
    "from rescaleSky import *\n",
    "import glob \n",
    "from mergeExpositions import *\n",
    "from HighSeeing import HighSeeing_Filter\n",
    "import warnings\n",
    "from astropy.stats import sigma_clip\n",
    "import seaborn as sns\n",
    "from Tools import *\n",
    "import pandas\n",
    "from FluxLims import *\n",
    "\n",
    "plt.style.use(\"seaborn-poster\")\n",
    "warnings.filterwarnings('ignore')\n",
    "catalog=ascii.read(\"/Users/gonzalo/Desktop/Code/Gonzalo_Binospec/A-Project/A-Catalogs/Binospec-Candels.cat\")\n"
   ]
  },
  {
   "cell_type": "code",
   "execution_count": 7,
   "metadata": {},
   "outputs": [
    {
     "name": "stdout",
     "output_type": "stream",
     "text": [
      "Not found\n",
      "Not found\n",
      "Not found\n",
      "Not found\n",
      "Not found\n",
      "Not found\n",
      "Not found\n",
      "Not found\n",
      "Not found\n",
      "Not found\n",
      "Not found\n",
      "Not found\n",
      "Not found\n",
      "Not found\n",
      "Not found\n",
      "Not found\n",
      "Not found\n",
      "Not found\n",
      "Not found\n",
      "Not found\n",
      "Not found\n",
      "Not found\n",
      "Not found\n",
      "Not found\n",
      "Not found\n",
      "Not found\n",
      "Not found\n",
      "Not found\n",
      "Not found\n",
      "Not found\n",
      "Not found\n",
      "Not found\n",
      "Not found\n",
      "Not found\n",
      "Not found\n",
      "Not found\n",
      "Not found\n",
      "Not found\n",
      "Not found\n"
     ]
    }
   ],
   "source": [
    "#Select LBGS without Lya\n",
    "def getNonDetectionLBGs(mask_name,cat):\n",
    "    NamesnonDetect    =   nonDetections(pandas.read_csv('../../Docs/'+mask_name+'.csv',sep=\";\"),cat)[1]\n",
    "    fname_data=readDataLBG(\"/Users/gonzalo/Desktop/Code/Gonzalo_Binospec/A-Project/A-Catalogs/data/large_files/Reduced_Data/\"+mask_name+\"/2D/noiseCorrected/*.fits\")\n",
    "    mask=[True if s.Data.header[\"SLITOBJ\"] in NamesnonDetect else False for s in fname_data ]\n",
    "    fname_data=fname_data[mask]\n",
    "    return fname_data\n",
    "\n",
    "def nonDetections(df,catalog):\n",
    "    \"\"\"\"\n",
    "    Reads the catalogs and gets whatever doesnt have a lyman detection (only Include possible LAES)\n",
    "    normally should be an X or other type of text\n",
    "\n",
    "    df : csv file\n",
    "    \n",
    "    returns:\n",
    "    Ids of non detections\n",
    "    \"\"\"\n",
    "    mascara=[]\n",
    "    for name in df[\"name\"].values:\n",
    "        if \"HST\" not in name and \"f_\" not in name:\n",
    "            mascara.append(True)\n",
    "        else: \n",
    "            mascara.append(False)\n",
    "    df=df[mascara]\n",
    "    Mask=[]\n",
    "    names=df[\"name\"].values\n",
    "\n",
    "    NDnames=[]\n",
    "    for n in names:\n",
    "        found=\" \"\n",
    "        for c in catalog:\n",
    "            if n==c[\"id_charlotte\"]:\n",
    "                found=c\n",
    "        if found==\" \":\n",
    "            print(\"Not found\")\n",
    "            Mask.append(False)\n",
    "            continue\n",
    "                \n",
    "        if found[\"Type\"]==\"LAE\":\n",
    "            Mask.append(False)\n",
    "        if found[\"Type\"]==\"NonDetect\":\n",
    "            Mask.append(True)\n",
    "            NDnames.append(found[\"id_charlotte\"])\n",
    "    return Mask,NDnames\n",
    "\n",
    "NLya1   =   getNonDetectionLBGs(\"Mask1\",catalog)\n",
    "NLya2   =   getNonDetectionLBGs(\"Mask2_1\",catalog)\n",
    "NLya3   =   getNonDetectionLBGs(\"Mask2_2\",catalog)\n",
    "NLya4   =   getNonDetectionLBGs(\"Mask2_3\",catalog)"
   ]
  },
  {
   "cell_type": "code",
   "execution_count": null,
   "metadata": {},
   "outputs": [],
   "source": [
    "#Select LBGS without Lya\n",
    "def getNonDetectionLBGs(mask_name,cat):\n",
    "    NamesnonDetect    =   nonDetections(pandas.read_csv('../../Docs/'+mask_name+'.csv',sep=\";\"),cat)[1]\n",
    "    fname_data=readDataLBG(\"/Users/gonzalo/Desktop/Code/Gonzalo_Binospec/A-Project/A-Catalogs/data/large_files/Reduced_Data/\"+mask_name+\"/2D/noiseCorrected/*.fits\")\n",
    "    mask=[True if s.Data.header[\"SLITOBJ\"] in NamesnonDetect else False for s in fname_data ]\n",
    "    fname_data=fname_data[mask]\n",
    "    return NamesnonDetect\n",
    "\n",
    "def nonDetections(df,catalog):\n",
    "    \"\"\"\"\n",
    "    Reads the catalogs and gets whatever doesnt have a lyman detection (only Include possible LAES)\n",
    "    normally should be an X or other type of text\n",
    "\n",
    "    df : csv file\n",
    "    \n",
    "    returns:\n",
    "    Ids of non detections\n",
    "    \"\"\"\n",
    "    mascara=[]\n",
    "    for name in df[\"name\"].values:\n",
    "        if \"HST\" not in name and \"f_\" not in name:\n",
    "            mascara.append(True)\n",
    "        else: \n",
    "            mascara.append(False)\n",
    "    df=df[mascara]\n",
    "    Mask=[]\n",
    "    names=df[\"name\"].values\n",
    "\n",
    "    NDnames=[]\n",
    "    for n in names:\n",
    "        found=\" \"\n",
    "        for c in catalog:\n",
    "            if n==c[\"id_charlotte\"]:\n",
    "                found=c\n",
    "        if found==\" \":\n",
    "            continue\n",
    "                \n",
    "        if found[\"Type\"]==\"LAE\":\n",
    "            NDnames.append(found)\n",
    "        if found[\"Type\"]==\"NonDetect\":\n",
    "            NDnames.append(found)\n",
    "    return Mask,NDnames\n",
    "\"\"\"\n",
    "NLya1   =   getNonDetectionLBGs(\"Mask1\",catalog)\n",
    "NLya2   =   getNonDetectionLBGs(\"Mask2_1\",catalog)\n",
    "NLya3   =   getNonDetectionLBGs(\"Mask2_2\",catalog)\n",
    "NLya4   =   getNonDetectionLBGs(\"Mask2_3\",catalog)\n",
    "\"\"\""
   ]
  },
  {
   "cell_type": "code",
   "execution_count": 8,
   "metadata": {},
   "outputs": [
    {
     "data": {
      "image/png": "[encoded data removed]",
      "text/plain": [
       "<Figure size 921.6x633.6 with 1 Axes>"
      ]
     },
     "metadata": {},
     "output_type": "display_data"
    },
    {
     "data": {
      "image/png": "[encoded data removed]",
      "text/plain": [
       "<Figure size 921.6x633.6 with 1 Axes>"
      ]
     },
     "metadata": {},
     "output_type": "display_data"
    }
   ],
   "source": [
    "wave=np.arange(6760.0,6760.0+5631*0.620000004768,0.620000004768)\n",
    "Wavemask= (  ( (wave > 7893.) & (wave < 7908.) ) | ( (wave > 8106.) & (wave < 8271.) ) \\\n",
    "| ( (wave > 8314.) & (wave < 8337.) ) | ( (wave > 8469.) & (wave < 8489.) ) | ( (wave > 8508.) & (wave < 8534.) ) \\\n",
    "| ( (wave > 8552.) & (wave < 8754.) ) | ( (wave > 8795.) & (wave < 8821.) )  )\n",
    "\n",
    "means=[]\n",
    "stds=[]\n",
    "\n",
    "for gal in NLya3:\n",
    "    gal=gal.Data\n",
    "    dat=gal.rawData[:,Wavemask]\n",
    "    err=gal.error[:,Wavemask]\n",
    "\n",
    "    dat[dat == 0.0] = np.nan\n",
    "    err[dat == 0.0] = np.nan\n",
    "\n",
    "    signal=dat.flatten()*0.8\n",
    "    noise=err.flatten()*0.8\n",
    "    SNR=signal/noise\n",
    "    SNR=SNR[(SNR<5) & (SNR>-5)]\n",
    "    mean=np.nanmean(SNR)\n",
    "    std=np.nanstd(SNR)\n",
    "\n",
    "    if np.abs(mean)>0.5:\n",
    "        print(gal.header[\"SLITOBJ\"])\n",
    "        plt.hist(SNR,bins=200,range=(-5,5))\n",
    "        plt.axvline(mean,color=\"red\",label=\"Mean\")\n",
    "        plt.axvline(mean+std,color=\"green\",label=\"Mean+std\")\n",
    "        plt.axvline(mean-std,color=\"green\",label=\"Mean-std\")\n",
    "        plt.legend()\n",
    "        plt.show() \n",
    "\n",
    "\n",
    "    means.append(mean)\n",
    "    stds.append(std)\n",
    "\n",
    "plt.hist(means,bins=10)\n",
    "plt.show()\n",
    "plt.hist(stds,bins=10)\n",
    "plt.show()\n"
   ]
  },
  {
   "cell_type": "code",
   "execution_count": 9,
   "metadata": {},
   "outputs": [
    {
     "ename": "TypeError",
     "evalue": "'Spectra' object is not subscriptable",
     "output_type": "error",
     "traceback": [
      "\u001b[0;31m---------------------------------------------------------------------------\u001b[0m",
      "\u001b[0;31mTypeError\u001b[0m                                 Traceback (most recent call last)",
      "\u001b[0;32m<ipython-input-9-47f9b8096d6d>\u001b[0m in \u001b[0;36m<module>\u001b[0;34m\u001b[0m\n\u001b[0;32m----> 1\u001b[0;31m \u001b[0mid1\u001b[0m\u001b[0;34m=\u001b[0m\u001b[0;34m[\u001b[0m\u001b[0mgal\u001b[0m\u001b[0;34m[\u001b[0m\u001b[0;34m\"id_charlotte\"\u001b[0m\u001b[0;34m]\u001b[0m \u001b[0;32mfor\u001b[0m \u001b[0mgal\u001b[0m \u001b[0;32min\u001b[0m \u001b[0mNLya1\u001b[0m\u001b[0;34m]\u001b[0m\u001b[0;34m\u001b[0m\u001b[0;34m\u001b[0m\u001b[0m\n\u001b[0m\u001b[1;32m      2\u001b[0m \u001b[0mid2\u001b[0m\u001b[0;34m=\u001b[0m\u001b[0;34m[\u001b[0m\u001b[0mgal\u001b[0m\u001b[0;34m[\u001b[0m\u001b[0;34m\"id_charlotte\"\u001b[0m\u001b[0;34m]\u001b[0m \u001b[0;32mfor\u001b[0m \u001b[0mgal\u001b[0m \u001b[0;32min\u001b[0m \u001b[0mNLya2\u001b[0m\u001b[0;34m]\u001b[0m\u001b[0;34m\u001b[0m\u001b[0;34m\u001b[0m\u001b[0m\n\u001b[1;32m      3\u001b[0m \u001b[0mid3\u001b[0m\u001b[0;34m=\u001b[0m\u001b[0;34m[\u001b[0m\u001b[0mgal\u001b[0m\u001b[0;34m[\u001b[0m\u001b[0;34m\"id_charlotte\"\u001b[0m\u001b[0;34m]\u001b[0m \u001b[0;32mfor\u001b[0m \u001b[0mgal\u001b[0m \u001b[0;32min\u001b[0m \u001b[0mNLya3\u001b[0m\u001b[0;34m]\u001b[0m\u001b[0;34m\u001b[0m\u001b[0;34m\u001b[0m\u001b[0m\n\u001b[1;32m      4\u001b[0m \u001b[0mid4\u001b[0m\u001b[0;34m=\u001b[0m\u001b[0;34m[\u001b[0m\u001b[0mgal\u001b[0m\u001b[0;34m[\u001b[0m\u001b[0;34m\"id_charlotte\"\u001b[0m\u001b[0;34m]\u001b[0m \u001b[0;32mfor\u001b[0m \u001b[0mgal\u001b[0m \u001b[0;32min\u001b[0m \u001b[0mNLya4\u001b[0m\u001b[0;34m]\u001b[0m\u001b[0;34m\u001b[0m\u001b[0;34m\u001b[0m\u001b[0m\n\u001b[1;32m      5\u001b[0m \u001b[0mx\u001b[0m\u001b[0;34m=\u001b[0m\u001b[0mnp\u001b[0m\u001b[0;34m.\u001b[0m\u001b[0mload\u001b[0m\u001b[0;34m(\u001b[0m\u001b[0;34m\"/Users/gonzalo/Desktop/Code/Gonzalo_Binospec/A-Project/A-Catalogs/measurements/FluxLims.npy\"\u001b[0m\u001b[0;34m,\u001b[0m\u001b[0mallow_pickle\u001b[0m\u001b[0;34m=\u001b[0m\u001b[0;32mTrue\u001b[0m\u001b[0;34m)\u001b[0m\u001b[0;34m\u001b[0m\u001b[0;34m\u001b[0m\u001b[0m\n",
      "\u001b[0;32m<ipython-input-9-47f9b8096d6d>\u001b[0m in \u001b[0;36m<listcomp>\u001b[0;34m(.0)\u001b[0m\n\u001b[0;32m----> 1\u001b[0;31m \u001b[0mid1\u001b[0m\u001b[0;34m=\u001b[0m\u001b[0;34m[\u001b[0m\u001b[0mgal\u001b[0m\u001b[0;34m[\u001b[0m\u001b[0;34m\"id_charlotte\"\u001b[0m\u001b[0;34m]\u001b[0m \u001b[0;32mfor\u001b[0m \u001b[0mgal\u001b[0m \u001b[0;32min\u001b[0m \u001b[0mNLya1\u001b[0m\u001b[0;34m]\u001b[0m\u001b[0;34m\u001b[0m\u001b[0;34m\u001b[0m\u001b[0m\n\u001b[0m\u001b[1;32m      2\u001b[0m \u001b[0mid2\u001b[0m\u001b[0;34m=\u001b[0m\u001b[0;34m[\u001b[0m\u001b[0mgal\u001b[0m\u001b[0;34m[\u001b[0m\u001b[0;34m\"id_charlotte\"\u001b[0m\u001b[0;34m]\u001b[0m \u001b[0;32mfor\u001b[0m \u001b[0mgal\u001b[0m \u001b[0;32min\u001b[0m \u001b[0mNLya2\u001b[0m\u001b[0;34m]\u001b[0m\u001b[0;34m\u001b[0m\u001b[0;34m\u001b[0m\u001b[0m\n\u001b[1;32m      3\u001b[0m \u001b[0mid3\u001b[0m\u001b[0;34m=\u001b[0m\u001b[0;34m[\u001b[0m\u001b[0mgal\u001b[0m\u001b[0;34m[\u001b[0m\u001b[0;34m\"id_charlotte\"\u001b[0m\u001b[0;34m]\u001b[0m \u001b[0;32mfor\u001b[0m \u001b[0mgal\u001b[0m \u001b[0;32min\u001b[0m \u001b[0mNLya3\u001b[0m\u001b[0;34m]\u001b[0m\u001b[0;34m\u001b[0m\u001b[0;34m\u001b[0m\u001b[0m\n\u001b[1;32m      4\u001b[0m \u001b[0mid4\u001b[0m\u001b[0;34m=\u001b[0m\u001b[0;34m[\u001b[0m\u001b[0mgal\u001b[0m\u001b[0;34m[\u001b[0m\u001b[0;34m\"id_charlotte\"\u001b[0m\u001b[0;34m]\u001b[0m \u001b[0;32mfor\u001b[0m \u001b[0mgal\u001b[0m \u001b[0;32min\u001b[0m \u001b[0mNLya4\u001b[0m\u001b[0;34m]\u001b[0m\u001b[0;34m\u001b[0m\u001b[0;34m\u001b[0m\u001b[0m\n\u001b[1;32m      5\u001b[0m \u001b[0mx\u001b[0m\u001b[0;34m=\u001b[0m\u001b[0mnp\u001b[0m\u001b[0;34m.\u001b[0m\u001b[0mload\u001b[0m\u001b[0;34m(\u001b[0m\u001b[0;34m\"/Users/gonzalo/Desktop/Code/Gonzalo_Binospec/A-Project/A-Catalogs/measurements/FluxLims.npy\"\u001b[0m\u001b[0;34m,\u001b[0m\u001b[0mallow_pickle\u001b[0m\u001b[0;34m=\u001b[0m\u001b[0;32mTrue\u001b[0m\u001b[0;34m)\u001b[0m\u001b[0;34m\u001b[0m\u001b[0;34m\u001b[0m\u001b[0m\n",
      "\u001b[0;31mTypeError\u001b[0m: 'Spectra' object is not subscriptable"
     ]
    }
   ],
   "source": [
    "id1=[gal[\"id_charlotte\"] for gal in NLya1]\n",
    "id2=[gal[\"id_charlotte\"] for gal in NLya2]\n",
    "id3=[gal[\"id_charlotte\"] for gal in NLya3]\n",
    "id4=[gal[\"id_charlotte\"] for gal in NLya4]\n",
    "x=np.load(\"/Users/gonzalo/Desktop/Code/Gonzalo_Binospec/A-Project/A-Catalogs/measurements/FluxLims.npy\",allow_pickle=True)\n",
    "x = dict(x.item())\n"
   ]
  },
  {
   "cell_type": "code",
   "execution_count": null,
   "metadata": {},
   "outputs": [],
   "source": [
    "# Search for elements of id1 in x and print the results\n",
    "els=[]\n",
    "for element in id1:\n",
    "    try:\n",
    "        els.append(x[element])\n",
    "    except:\n",
    "        continue\n",
    "    \n",
    "e1=np.nanmedian(els)\n",
    "print(10**np.nanmedian(els))\n",
    "\n",
    "\n",
    "# Search for elements of id2 in x and print the results\n",
    "els2 = []\n",
    "for element in id2:\n",
    "    try:\n",
    "        els2.append(x[element])\n",
    "    except:\n",
    "        continue\n",
    "\n",
    "e2=np.nanmedian(els2)\n",
    "print(10**np.nanmedian(els2))\n",
    "\n",
    "# Search for elements of id3 in x and print the results\n",
    "els3 = []\n",
    "for element in id3:\n",
    "    try:\n",
    "        els3.append(x[element])\n",
    "    except:\n",
    "        continue\n",
    "e3=np.nanmedian(els3)\n",
    "print(10**np.nanmedian(els3))\n",
    "\n",
    "# Search for elements of id4 in x and print the results\n",
    "els4 = []\n",
    "for element in id4:\n",
    "    try:\n",
    "        els4.append(x[element])\n",
    "    except:\n",
    "        continue\n",
    "e4=np.nanmedian(els4)\n",
    "print(10**np.nanmedian(els4))\n",
    "\n",
    "\n",
    "print(np.nanmean([e1,e2,e3,e4]))"
   ]
  },
  {
   "cell_type": "code",
   "execution_count": 10,
   "metadata": {},
   "outputs": [
    {
     "ename": "TypeError",
     "evalue": "'Spectra' object is not subscriptable",
     "output_type": "error",
     "traceback": [
      "\u001b[0;31m---------------------------------------------------------------------------\u001b[0m",
      "\u001b[0;31mTypeError\u001b[0m                                 Traceback (most recent call last)",
      "\u001b[0;32m<ipython-input-10-c628c530c944>\u001b[0m in \u001b[0;36m<module>\u001b[0;34m\u001b[0m\n\u001b[1;32m      2\u001b[0m \u001b[0mtnonLAE\u001b[0m\u001b[0;34m=\u001b[0m\u001b[0;36m0\u001b[0m\u001b[0;34m\u001b[0m\u001b[0;34m\u001b[0m\u001b[0m\n\u001b[1;32m      3\u001b[0m \u001b[0;32mfor\u001b[0m \u001b[0mgal\u001b[0m \u001b[0;32min\u001b[0m \u001b[0mNLya4\u001b[0m\u001b[0;34m:\u001b[0m\u001b[0;34m\u001b[0m\u001b[0;34m\u001b[0m\u001b[0m\n\u001b[0;32m----> 4\u001b[0;31m     \u001b[0;32mif\u001b[0m \u001b[0mgal\u001b[0m\u001b[0;34m[\u001b[0m\u001b[0;34m\"Type\"\u001b[0m\u001b[0;34m]\u001b[0m\u001b[0;34m==\u001b[0m\u001b[0;34m\"LAE\"\u001b[0m\u001b[0;34m:\u001b[0m\u001b[0;34m\u001b[0m\u001b[0;34m\u001b[0m\u001b[0m\n\u001b[0m\u001b[1;32m      5\u001b[0m         \u001b[0mtLAE\u001b[0m\u001b[0;34m+=\u001b[0m\u001b[0;36m1\u001b[0m\u001b[0;34m\u001b[0m\u001b[0;34m\u001b[0m\u001b[0m\n\u001b[1;32m      6\u001b[0m     \u001b[0;32mif\u001b[0m \u001b[0mgal\u001b[0m\u001b[0;34m[\u001b[0m\u001b[0;34m\"Type\"\u001b[0m\u001b[0;34m]\u001b[0m\u001b[0;34m==\u001b[0m\u001b[0;34m\"NonDetect\"\u001b[0m\u001b[0;34m:\u001b[0m\u001b[0;34m\u001b[0m\u001b[0;34m\u001b[0m\u001b[0m\n",
      "\u001b[0;31mTypeError\u001b[0m: 'Spectra' object is not subscriptable"
     ]
    }
   ],
   "source": [
    "tLAE=0\n",
    "tnonLAE=0\n",
    "for gal in NLya4:\n",
    "    if gal[\"Type\"]==\"LAE\":\n",
    "        tLAE+=1\n",
    "    if gal[\"Type\"]==\"NonDetect\":\n",
    "        tnonLAE+=1\n",
    "\n",
    "print(tLAE,tnonLAE)"
   ]
  },
  {
   "cell_type": "code",
   "execution_count": 11,
   "metadata": {},
   "outputs": [],
   "source": [
    "####################\n",
    "LinePixLocations=[1401,1646,1823,2023,2237,2644,2670,2885,3399,4322,4903,5088,5226]\n",
    "\n",
    "def GetFWHMres(Specs,Skylinepix,range=7,resolution=0.62):\n",
    "    errors=[s.Data.error for s in Specs]\n",
    "    errors1D=[np.median(e,axis=0) for e in errors]\n",
    "    xvalues=np.linspace(-10,10,range*2)\n",
    "    FWHMres=[]\n",
    "    for gal in errors1D[:]:\n",
    "        fwhms=[]\n",
    "        for l in Skylinepix:\n",
    "            normFlux=gal[l-range:l+range]/max(gal[l-range:l+range])\n",
    "            initialParams=[1,0,0.5,0.3]\n",
    "            params=FitGaussian(xvalues,normFlux,np.sqrt(normFlux),*initialParams)\n",
    "            fwhms.append(2.355*params[2])\n",
    "            #print(2.355*params[2])\n",
    "            #print(params)\n",
    "            #plt.plot(xvalues,gaussian_ML(xvalues,*params))\n",
    "            #plt.plot(xvalues,normFlux)\n",
    "            #plt.show()\n",
    "        FWHMres.append(np.median(fwhms))\n",
    "    return np.array(FWHMres)*resolution\n",
    "\n",
    "fwhmres1    =   GetFWHMres(NLya1,LinePixLocations)\n",
    "fwhmres2    =   GetFWHMres(NLya2,LinePixLocations)\n",
    "fwhmres3    =   GetFWHMres(NLya3,LinePixLocations)\n",
    "fwhmres4    =   GetFWHMres(NLya4,LinePixLocations)\n",
    "\n",
    "\n",
    "\n",
    "\n"
   ]
  },
  {
   "cell_type": "code",
   "execution_count": 15,
   "metadata": {},
   "outputs": [],
   "source": [
    "\n",
    "def fluxLimEquation(data,FWHMres,sn,res):\n",
    "    wave=np.arange(6760.0,6760.0+5631*0.620000004768,0.620000004768)\n",
    "    mask=np.where((wave>8000) & (wave<9000))\n",
    "    dat=data.rawData\n",
    "    err=data.error\n",
    "    #dat[dat==0.0]=np.nan #make all the 0s into nans\n",
    "    SIGMA   =   np.nanstd(dat,axis=0)[mask]\n",
    "    fLim    =   5*np.sqrt(2*FWHMres/res)*SIGMA*res\n",
    "    med,std=np.median(fLim),np.std(fLim)\n",
    "    for i in range(0,len(fLim)): #change 0s for nans\n",
    "        if fLim[i]<med-0.3*med:\n",
    "            fLim[i]=np.nan\n",
    "    return fLim\n",
    "\n",
    "\n",
    "FluxLimit1  =   np.nanmean([fluxLimEquation(NLya1[i].Data,fwhmres1[i],5,0.62) for i in range(0,len(fwhmres1))],axis=0)\n",
    "FluxLimit2  =   np.nanmean([fluxLimEquation(NLya2[i].Data,fwhmres2[i],5,0.62) for i in range(0,len(fwhmres2))],axis=0)\n",
    "FluxLimit3  =   np.nanmean([fluxLimEquation(NLya3[i].Data,fwhmres3[i],5,0.62) for i in range(0,len(fwhmres3))],axis=0)\n",
    "FluxLimit4  =   np.nanmean([fluxLimEquation(NLya4[i].Data,fwhmres4[i],5,0.62) for i in range(0,len(fwhmres4))],axis=0)\n",
    "\n",
    "\n",
    "#Steps: \n",
    "#First get the FWHMresolution from skylines in error file. Pick like 10 of them and just fit a gaussian ; Done\n",
    "#Then do sqrt of the signal and take it to 1D median\n",
    "\n"
   ]
  },
  {
   "cell_type": "code",
   "execution_count": 16,
   "metadata": {},
   "outputs": [
    {
     "name": "stdout",
     "output_type": "stream",
     "text": [
      "1.1524810662301337e-18\n",
      "1.2656521323105577e-18\n",
      "1.7346645673329917e-18\n",
      "1.7462979753205015e-18\n"
     ]
    }
   ],
   "source": [
    "print(np.nanmean(FluxLimit1))\n",
    "print(np.nanmean(FluxLimit2))\n",
    "print(np.nanmean(FluxLimit3))\n",
    "print(np.nanmean(FluxLimit4))"
   ]
  },
  {
   "cell_type": "code",
   "execution_count": 17,
   "metadata": {},
   "outputs": [
    {
     "name": "stdout",
     "output_type": "stream",
     "text": [
      "6.983570985821551e-18\n",
      "7.181727206786628e-18\n",
      "7.931637737545079e-18\n",
      "9.921356756065357e-18\n"
     ]
    }
   ],
   "source": [
    "with open(\"/Users/gonzalo/Desktop/Code/Gonzalo_Binospec/A-Project/A-Catalogs/measurements/FluxLims_Nov21.npy\", \"rb\") as f:\n",
    "    Fluxlimits = np.load(f, allow_pickle=True).item()\n",
    "medians=[]\n",
    "for key, values in Fluxlimits.items():\n",
    "    median_value = np.nanmedian(values)\n",
    "    #print(f\"{key}: {median_value}\")\n",
    "    medians.append(median_value)\n",
    "\n",
    "def get_flux_lims(NLya, Fluxlimits):\n",
    "    # Get all IDs from NLya\n",
    "    ids_nlya = [gal.Data.header[\"SLITOBJ\"] for gal in NLya]\n",
    "\n",
    "    # Crossmatch with Fluxlimits to get the median flux limit\n",
    "    flux_lims = []\n",
    "    for gal_id in ids_nlya:\n",
    "        if gal_id in Fluxlimits:\n",
    "            flux_lims.append(np.nanmedian(Fluxlimits[gal_id]))\n",
    "\n",
    "    return flux_lims\n",
    "\n",
    "# Get flux limits for NLya1, NLya2, NLya3, and NLya4\n",
    "flux_lims_nlya1 = get_flux_lims(NLya1, Fluxlimits)\n",
    "flux_lims_nlya2 = get_flux_lims(NLya2, Fluxlimits)\n",
    "flux_lims_nlya3 = get_flux_lims(NLya3, Fluxlimits)\n",
    "flux_lims_nlya4 = get_flux_lims(NLya4, Fluxlimits)\n",
    "\n",
    "# Print the minimum flux limits\n",
    "print(np.nanmean(flux_lims_nlya1))\n",
    "print(np.nanmean(flux_lims_nlya2))\n",
    "print(np.nanmean(flux_lims_nlya3) * 0.8)\n",
    "print(np.nanmean(flux_lims_nlya4))\n",
    "\n",
    "\n",
    "FluxLimit1=np.nanmean(flux_lims_nlya1)\n",
    "FluxLimit2=np.nanmean(flux_lims_nlya2)\n",
    "FluxLimit3=np.nanmean(flux_lims_nlya3) * 0.8\n",
    "FluxLimit4=np.nanmean(flux_lims_nlya4)\n"
   ]
  },
  {
   "cell_type": "code",
   "execution_count": 18,
   "metadata": {},
   "outputs": [
    {
     "data": {
      "image/png": "[encoded data removed]",
      "text/plain": [
       "<Figure size 921.6x633.6 with 1 Axes>"
      ]
     },
     "metadata": {},
     "output_type": "display_data"
    }
   ],
   "source": [
    "plt.hist(fwhmres1,label=\"Mask1\")\n",
    "plt.hist(fwhmres2,label=\"Mask2_1\")\n",
    "plt.hist(fwhmres3,label=\"Mask2_2\")\n",
    "plt.hist(fwhmres4,label=\"Mask2_3\")\n",
    "plt.legend()\n",
    "plt.show()"
   ]
  },
  {
   "cell_type": "code",
   "execution_count": 19,
   "metadata": {},
   "outputs": [
    {
     "name": "stdout",
     "output_type": "stream",
     "text": [
      "6.983570985821551e-18\n",
      "7.181727206786628e-18\n",
      "6.345310190036063e-18\n",
      "9.921356756065357e-18\n",
      "-17.15592244802717\n",
      "-17.143771095288656\n",
      "-17.197547142595564\n",
      "-17.00342893355332\n"
     ]
    }
   ],
   "source": [
    "print(np.nanmean(FluxLimit1))\n",
    "print(np.nanmean(FluxLimit2))\n",
    "print(np.nanmean(FluxLimit3)*0.8)\n",
    "print(np.nanmean(FluxLimit4))\n",
    "\n",
    "print(np.log10(np.nanmean(FluxLimit1)))\n",
    "print(np.log10(np.nanmean(FluxLimit2)))\n",
    "print(np.log10(np.nanmean(FluxLimit3) * 0.8))\n",
    "print(np.log10(np.nanmean(FluxLimit4)))"
   ]
  },
  {
   "cell_type": "code",
   "execution_count": 20,
   "metadata": {},
   "outputs": [
    {
     "data": {
      "text/plain": [
       "64"
      ]
     },
     "execution_count": 20,
     "metadata": {},
     "output_type": "execute_result"
    }
   ],
   "source": [
    "len(NLya2)"
   ]
  },
  {
   "cell_type": "code",
   "execution_count": null,
   "metadata": {},
   "outputs": [],
   "source": []
  },
  {
   "cell_type": "code",
   "execution_count": 21,
   "metadata": {},
   "outputs": [
    {
     "data": {
      "text/plain": [
       "2.4744343867768937e-18"
      ]
     },
     "execution_count": 21,
     "metadata": {},
     "output_type": "execute_result"
    }
   ],
   "source": [
    "1.3626509411460982e-18\n",
    "1.518419359703428e-18\n",
    "2.057397195368291e-18\n",
    "2.4744343867768937e-18"
   ]
  },
  {
   "cell_type": "code",
   "execution_count": 22,
   "metadata": {},
   "outputs": [
    {
     "data": {
      "image/png": "[encoded data removed]",
      "text/plain": [
       "<Figure size 360x360 with 1 Axes>"
      ]
     },
     "metadata": {},
     "output_type": "display_data"
    }
   ],
   "source": [
    "Exp1,Exp2,Exp3,Exp4=63-1,66-14,56-3,40-9\n",
    "plt.rcParams[\"figure.figsize\"] = (5,5)\n",
    "Flim1,Flim2,Flim3,Flim4=FluxLimit1,FluxLimit2,FluxLimit3,FluxLimit4\n",
    "\n",
    "flim=np.array([Flim1,Flim2,Flim3,Flim4])/Flim1\n",
    "Nexp=np.array([Exp1,Exp2,Exp3,Exp4])/Exp1\n",
    "\n",
    "x=np.linspace(0.1,2,100)\n",
    "plt.scatter(Nexp[0],flim[0],label=\"mask1\")\n",
    "plt.scatter(Nexp[1],flim[1],label=\"mask2\")\n",
    "plt.scatter(Nexp[2],flim[2],label=\"mask3\")\n",
    "plt.scatter(Nexp[3],flim[3],label=\"mask4\")\n",
    "plt.plot(x,1/np.sqrt(x))\n",
    "plt.xlim(0.1,1.5)\n",
    "plt.ylim(0.5,3)\n",
    "plt.xlabel(\"Nexp-mask1 / Nexp\")\n",
    "plt.ylabel(\"Flim-mask1 / Flim\")\n",
    "plt.legend()\n",
    "plt.show()\n"
   ]
  },
  {
   "cell_type": "code",
   "execution_count": 24,
   "metadata": {},
   "outputs": [
    {
     "name": "stdout",
     "output_type": "stream",
     "text": [
      "55800 46800 47700 27900\n"
     ]
    }
   ],
   "source": [
    "print(Exp1*900,Exp2*900,Exp3*900,Exp4*900)"
   ]
  },
  {
   "cell_type": "code",
   "execution_count": 25,
   "metadata": {},
   "outputs": [
    {
     "ename": "ValueError",
     "evalue": "x and y must have same first dimension, but have shapes (5632,) and (1,)",
     "output_type": "error",
     "traceback": [
      "\u001b[0;31m---------------------------------------------------------------------------\u001b[0m",
      "\u001b[0;31mValueError\u001b[0m                                Traceback (most recent call last)",
      "\u001b[0;32m<ipython-input-25-a8b77286302d>\u001b[0m in \u001b[0;36m<module>\u001b[0;34m\u001b[0m\n\u001b[1;32m      4\u001b[0m \u001b[0;31m#plt.plot(wave,FluxLimit1,label=\"mask1\")\u001b[0m\u001b[0;34m\u001b[0m\u001b[0;34m\u001b[0m\u001b[0;34m\u001b[0m\u001b[0m\n\u001b[1;32m      5\u001b[0m \u001b[0;31m#plt.plot(wave,FluxLimit2,color=\"black\",label=\"mask2\")\u001b[0m\u001b[0;34m\u001b[0m\u001b[0;34m\u001b[0m\u001b[0;34m\u001b[0m\u001b[0m\n\u001b[0;32m----> 6\u001b[0;31m \u001b[0mplt\u001b[0m\u001b[0;34m.\u001b[0m\u001b[0mplot\u001b[0m\u001b[0;34m(\u001b[0m\u001b[0mwave\u001b[0m\u001b[0;34m,\u001b[0m\u001b[0mFluxLimit3\u001b[0m\u001b[0;34m,\u001b[0m\u001b[0mlabel\u001b[0m\u001b[0;34m=\u001b[0m\u001b[0;34m\"mask3\"\u001b[0m\u001b[0;34m)\u001b[0m\u001b[0;34m\u001b[0m\u001b[0;34m\u001b[0m\u001b[0m\n\u001b[0m\u001b[1;32m      7\u001b[0m \u001b[0mplt\u001b[0m\u001b[0;34m.\u001b[0m\u001b[0mplot\u001b[0m\u001b[0;34m(\u001b[0m\u001b[0mwave\u001b[0m\u001b[0;34m,\u001b[0m\u001b[0mFluxLimit4\u001b[0m\u001b[0;34m,\u001b[0m\u001b[0mlabel\u001b[0m\u001b[0;34m=\u001b[0m\u001b[0;34m\"mask4\"\u001b[0m\u001b[0;34m,\u001b[0m\u001b[0malpha\u001b[0m\u001b[0;34m=\u001b[0m\u001b[0;36m0.4\u001b[0m\u001b[0;34m)\u001b[0m\u001b[0;34m\u001b[0m\u001b[0;34m\u001b[0m\u001b[0m\n\u001b[1;32m      8\u001b[0m \u001b[0;31m#plt.axhline(y=np.median(FluxLimit1[0]))\u001b[0m\u001b[0;34m\u001b[0m\u001b[0;34m\u001b[0m\u001b[0;34m\u001b[0m\u001b[0m\n",
      "\u001b[0;32m~/opt/anaconda3/lib/python3.8/site-packages/matplotlib/pyplot.py\u001b[0m in \u001b[0;36mplot\u001b[0;34m(scalex, scaley, data, *args, **kwargs)\u001b[0m\n\u001b[1;32m   2838\u001b[0m \u001b[0;34m@\u001b[0m\u001b[0m_copy_docstring_and_deprecators\u001b[0m\u001b[0;34m(\u001b[0m\u001b[0mAxes\u001b[0m\u001b[0;34m.\u001b[0m\u001b[0mplot\u001b[0m\u001b[0;34m)\u001b[0m\u001b[0;34m\u001b[0m\u001b[0;34m\u001b[0m\u001b[0m\n\u001b[1;32m   2839\u001b[0m \u001b[0;32mdef\u001b[0m \u001b[0mplot\u001b[0m\u001b[0;34m(\u001b[0m\u001b[0;34m*\u001b[0m\u001b[0margs\u001b[0m\u001b[0;34m,\u001b[0m \u001b[0mscalex\u001b[0m\u001b[0;34m=\u001b[0m\u001b[0;32mTrue\u001b[0m\u001b[0;34m,\u001b[0m \u001b[0mscaley\u001b[0m\u001b[0;34m=\u001b[0m\u001b[0;32mTrue\u001b[0m\u001b[0;34m,\u001b[0m \u001b[0mdata\u001b[0m\u001b[0;34m=\u001b[0m\u001b[0;32mNone\u001b[0m\u001b[0;34m,\u001b[0m \u001b[0;34m**\u001b[0m\u001b[0mkwargs\u001b[0m\u001b[0;34m)\u001b[0m\u001b[0;34m:\u001b[0m\u001b[0;34m\u001b[0m\u001b[0;34m\u001b[0m\u001b[0m\n\u001b[0;32m-> 2840\u001b[0;31m     return gca().plot(\n\u001b[0m\u001b[1;32m   2841\u001b[0m         \u001b[0;34m*\u001b[0m\u001b[0margs\u001b[0m\u001b[0;34m,\u001b[0m \u001b[0mscalex\u001b[0m\u001b[0;34m=\u001b[0m\u001b[0mscalex\u001b[0m\u001b[0;34m,\u001b[0m \u001b[0mscaley\u001b[0m\u001b[0;34m=\u001b[0m\u001b[0mscaley\u001b[0m\u001b[0;34m,\u001b[0m\u001b[0;34m\u001b[0m\u001b[0;34m\u001b[0m\u001b[0m\n\u001b[1;32m   2842\u001b[0m         **({\"data\": data} if data is not None else {}), **kwargs)\n",
      "\u001b[0;32m~/opt/anaconda3/lib/python3.8/site-packages/matplotlib/axes/_axes.py\u001b[0m in \u001b[0;36mplot\u001b[0;34m(self, scalex, scaley, data, *args, **kwargs)\u001b[0m\n\u001b[1;32m   1741\u001b[0m         \"\"\"\n\u001b[1;32m   1742\u001b[0m         \u001b[0mkwargs\u001b[0m \u001b[0;34m=\u001b[0m \u001b[0mcbook\u001b[0m\u001b[0;34m.\u001b[0m\u001b[0mnormalize_kwargs\u001b[0m\u001b[0;34m(\u001b[0m\u001b[0mkwargs\u001b[0m\u001b[0;34m,\u001b[0m \u001b[0mmlines\u001b[0m\u001b[0;34m.\u001b[0m\u001b[0mLine2D\u001b[0m\u001b[0;34m)\u001b[0m\u001b[0;34m\u001b[0m\u001b[0;34m\u001b[0m\u001b[0m\n\u001b[0;32m-> 1743\u001b[0;31m         \u001b[0mlines\u001b[0m \u001b[0;34m=\u001b[0m \u001b[0;34m[\u001b[0m\u001b[0;34m*\u001b[0m\u001b[0mself\u001b[0m\u001b[0;34m.\u001b[0m\u001b[0m_get_lines\u001b[0m\u001b[0;34m(\u001b[0m\u001b[0;34m*\u001b[0m\u001b[0margs\u001b[0m\u001b[0;34m,\u001b[0m \u001b[0mdata\u001b[0m\u001b[0;34m=\u001b[0m\u001b[0mdata\u001b[0m\u001b[0;34m,\u001b[0m \u001b[0;34m**\u001b[0m\u001b[0mkwargs\u001b[0m\u001b[0;34m)\u001b[0m\u001b[0;34m]\u001b[0m\u001b[0;34m\u001b[0m\u001b[0;34m\u001b[0m\u001b[0m\n\u001b[0m\u001b[1;32m   1744\u001b[0m         \u001b[0;32mfor\u001b[0m \u001b[0mline\u001b[0m \u001b[0;32min\u001b[0m \u001b[0mlines\u001b[0m\u001b[0;34m:\u001b[0m\u001b[0;34m\u001b[0m\u001b[0;34m\u001b[0m\u001b[0m\n\u001b[1;32m   1745\u001b[0m             \u001b[0mself\u001b[0m\u001b[0;34m.\u001b[0m\u001b[0madd_line\u001b[0m\u001b[0;34m(\u001b[0m\u001b[0mline\u001b[0m\u001b[0;34m)\u001b[0m\u001b[0;34m\u001b[0m\u001b[0;34m\u001b[0m\u001b[0m\n",
      "\u001b[0;32m~/opt/anaconda3/lib/python3.8/site-packages/matplotlib/axes/_base.py\u001b[0m in \u001b[0;36m__call__\u001b[0;34m(self, data, *args, **kwargs)\u001b[0m\n\u001b[1;32m    271\u001b[0m                 \u001b[0mthis\u001b[0m \u001b[0;34m+=\u001b[0m \u001b[0margs\u001b[0m\u001b[0;34m[\u001b[0m\u001b[0;36m0\u001b[0m\u001b[0;34m]\u001b[0m\u001b[0;34m,\u001b[0m\u001b[0;34m\u001b[0m\u001b[0;34m\u001b[0m\u001b[0m\n\u001b[1;32m    272\u001b[0m                 \u001b[0margs\u001b[0m \u001b[0;34m=\u001b[0m \u001b[0margs\u001b[0m\u001b[0;34m[\u001b[0m\u001b[0;36m1\u001b[0m\u001b[0;34m:\u001b[0m\u001b[0;34m]\u001b[0m\u001b[0;34m\u001b[0m\u001b[0;34m\u001b[0m\u001b[0m\n\u001b[0;32m--> 273\u001b[0;31m             \u001b[0;32myield\u001b[0m \u001b[0;32mfrom\u001b[0m \u001b[0mself\u001b[0m\u001b[0;34m.\u001b[0m\u001b[0m_plot_args\u001b[0m\u001b[0;34m(\u001b[0m\u001b[0mthis\u001b[0m\u001b[0;34m,\u001b[0m \u001b[0mkwargs\u001b[0m\u001b[0;34m)\u001b[0m\u001b[0;34m\u001b[0m\u001b[0;34m\u001b[0m\u001b[0m\n\u001b[0m\u001b[1;32m    274\u001b[0m \u001b[0;34m\u001b[0m\u001b[0m\n\u001b[1;32m    275\u001b[0m     \u001b[0;32mdef\u001b[0m \u001b[0mget_next_color\u001b[0m\u001b[0;34m(\u001b[0m\u001b[0mself\u001b[0m\u001b[0;34m)\u001b[0m\u001b[0;34m:\u001b[0m\u001b[0;34m\u001b[0m\u001b[0;34m\u001b[0m\u001b[0m\n",
      "\u001b[0;32m~/opt/anaconda3/lib/python3.8/site-packages/matplotlib/axes/_base.py\u001b[0m in \u001b[0;36m_plot_args\u001b[0;34m(self, tup, kwargs)\u001b[0m\n\u001b[1;32m    397\u001b[0m \u001b[0;34m\u001b[0m\u001b[0m\n\u001b[1;32m    398\u001b[0m         \u001b[0;32mif\u001b[0m \u001b[0mx\u001b[0m\u001b[0;34m.\u001b[0m\u001b[0mshape\u001b[0m\u001b[0;34m[\u001b[0m\u001b[0;36m0\u001b[0m\u001b[0;34m]\u001b[0m \u001b[0;34m!=\u001b[0m \u001b[0my\u001b[0m\u001b[0;34m.\u001b[0m\u001b[0mshape\u001b[0m\u001b[0;34m[\u001b[0m\u001b[0;36m0\u001b[0m\u001b[0;34m]\u001b[0m\u001b[0;34m:\u001b[0m\u001b[0;34m\u001b[0m\u001b[0;34m\u001b[0m\u001b[0m\n\u001b[0;32m--> 399\u001b[0;31m             raise ValueError(f\"x and y must have same first dimension, but \"\n\u001b[0m\u001b[1;32m    400\u001b[0m                              f\"have shapes {x.shape} and {y.shape}\")\n\u001b[1;32m    401\u001b[0m         \u001b[0;32mif\u001b[0m \u001b[0mx\u001b[0m\u001b[0;34m.\u001b[0m\u001b[0mndim\u001b[0m \u001b[0;34m>\u001b[0m \u001b[0;36m2\u001b[0m \u001b[0;32mor\u001b[0m \u001b[0my\u001b[0m\u001b[0;34m.\u001b[0m\u001b[0mndim\u001b[0m \u001b[0;34m>\u001b[0m \u001b[0;36m2\u001b[0m\u001b[0;34m:\u001b[0m\u001b[0;34m\u001b[0m\u001b[0;34m\u001b[0m\u001b[0m\n",
      "\u001b[0;31mValueError\u001b[0m: x and y must have same first dimension, but have shapes (5632,) and (1,)"
     ]
    },
    {
     "data": {
      "image/png": "[encoded data removed]",
      "text/plain": [
       "<Figure size 1440x216 with 1 Axes>"
      ]
     },
     "metadata": {},
     "output_type": "display_data"
    }
   ],
   "source": [
    "\n",
    "wave=np.arange(6760.0,6760.0+5631*0.620000004768,0.620000004768)\n",
    "plt.rcParams[\"figure.figsize\"] = (20,3)\n",
    "plt.title(\"A random source\")\n",
    "#plt.plot(wave,FluxLimit1,label=\"mask1\")\n",
    "#plt.plot(wave,FluxLimit2,color=\"black\",label=\"mask2\")\n",
    "plt.plot(wave,FluxLimit3,label=\"mask3\")\n",
    "plt.plot(wave,FluxLimit4,label=\"mask4\",alpha=0.4)\n",
    "#plt.axhline(y=np.median(FluxLimit1[0]))\n",
    "plt.ylim(-0.01e-17,0.25e-17)\n",
    "plt.xlabel(\"Pixel\")\n",
    "plt.ylabel(\"Flux ergscm2\")\n",
    "plt.legend(loc=\"best\")\n",
    "plt.show\n",
    "\n",
    "\n"
   ]
  },
  {
   "cell_type": "code",
   "execution_count": 26,
   "metadata": {},
   "outputs": [
    {
     "name": "stdout",
     "output_type": "stream",
     "text": [
      "[1.56412154 1.56419327 1.56426499 ... 1.92601054 1.92606878 1.92612703]\n"
     ]
    },
    {
     "data": {
      "text/plain": [
       "<function matplotlib.pyplot.show(close=None, block=None)>"
      ]
     },
     "execution_count": 26,
     "metadata": {},
     "output_type": "execute_result"
    },
    {
     "data": {
      "image/png": "[encoded data removed]",
      "text/plain": [
       "<Figure size 1440x216 with 1 Axes>"
      ]
     },
     "metadata": {},
     "output_type": "display_data"
    }
   ],
   "source": [
    "proport=np.sqrt(kmsToangstrom(380.0,wave)/3.5)\n",
    "print(proport)\n",
    "wave=np.arange(6760.0,6760.0+5631*0.620000004768,0.620000004768)\n",
    "plt.rcParams[\"figure.figsize\"] = (20,3)\n",
    "plt.title(\"A random source\")\n",
    "plt.plot(wave,FluxLimit1*proport,label=\"mask1\")\n",
    "plt.plot(wave,FluxLimit2*proport,color=\"black\",label=\"mask2\")\n",
    "plt.plot(wave,FluxLimit3*proport,label=\"mask3\")\n",
    "plt.plot(wave,FluxLimit4*proport,label=\"mask4\")\n",
    "#plt.axhline(y=np.median(FluxLimit1[0]))\n",
    "plt.ylim(-0.01e-17,0.25e-17)\n",
    "plt.xlabel(\"Pixel\")\n",
    "plt.ylabel(\"Flux ergscm2\")\n",
    "plt.legend(loc=\"best\")\n",
    "plt.show\n"
   ]
  },
  {
   "cell_type": "code",
   "execution_count": 27,
   "metadata": {},
   "outputs": [],
   "source": [
    "import random\n",
    "\n",
    "def addAtPos(mat1, mat2, xypos):\n",
    "    \"\"\"\n",
    "    Add two matrices of different sizes in place, offset by xy coordinates\n",
    "    Usage:\n",
    "      - mat1: base matrix\n",
    "      - mat2: add this matrix to mat1\n",
    "      - xypos: tuple (x,y) containing coordinates\n",
    "    \"\"\"\n",
    "    x, y = xypos\n",
    "    ysize, xsize = int(mat2.shape[0]/2),int(mat2.shape[1]/2)\n",
    "    #xmax, ymax = (x + xsize), (y + ysize)\n",
    "    try:\n",
    "        for i in np.transpose(mat1[y-ysize:y+ysize, x-xsize:x+xsize]):\n",
    "            if np.sum(i)==0.0:\n",
    "                return [None]\n",
    "                \n",
    "        mat1[y-ysize:y+ysize, x-xsize:x+xsize] += mat2\n",
    "        return mat1\n",
    "    except:\n",
    "        return [None]\n",
    "\n",
    "def makeGaussian(size, fwhm = 3, center=None):\n",
    "    \"\"\" Make a square gaussian kernel.\n",
    "    size is the length of a side of the square\n",
    "    fwhm is full-width-half-maximum, which\n",
    "    can be thought of as an effective radius. \n",
    "\n",
    "    ##Need to fix FWHM with what was discussed with Charlotte###\n",
    "\n",
    "\n",
    "    \"\"\"\n",
    "\n",
    "    x = np.arange(0, size, 1, float)\n",
    "    y = x[:,np.newaxis]\n",
    "\n",
    "    if center is None:\n",
    "        x0 = y0 = size // 2\n",
    "    else:\n",
    "        x0 = center[0]\n",
    "        y0 = center[1]\n",
    "\n",
    "    return np.exp(-4*np.log(2) * ((x-x0)**2 / fwhm**2 + (y-y0)**2 / 5**2 ) ) # 5 is the typical line width in x axis\n",
    "\n",
    "def LineSelection(Specs,SkyLines,width=5,SNRthresh=3,PIXthresh=3,scanArea=5,remove=False):\n",
    "    data_dir = 'data/'\n",
    "    \"\"\"\n",
    "        Its really the same code that I used before but in function form. In this case it locates the lines by collapsing Yaxis in width.\n",
    "        Scan area will remove the 5pix from the edges. When both treshholds are met, we are left with a Possiblew source detection.\n",
    "        \n",
    "        Args:\n",
    "\n",
    "            Specs: Spectra Object\n",
    "            width: Yaxis size to be collapsed\n",
    "            SNRthresh: Signal to noise to be labeled as a possible detection\n",
    "            Pixthresh: Amount of continious pixels needed above SNR thresh\n",
    "            scanArea: size of borders to ignore\n",
    "            remove: Used when we want to ignore a given list of possible line coordinates\n",
    "            \n",
    "        Returns:\n",
    "            List of Possible lines                                   \n",
    "    \"\"\"    \n",
    "    PossibleLines=[]\n",
    "    for s in Specs[:]:\n",
    "        lineData={}\n",
    "        lineData[\"ID\"]=s.ID\n",
    "\n",
    "        originalY=np.shape(s.Data.rawData)[0]/2\n",
    "        foundCandidates=[]\n",
    "\n",
    "        for y in np.arange(-scanArea,scanArea+1):\n",
    "            d,e=s.Data.collapse(ywidth=width,YPIX=originalY+y)\n",
    "            SNR=d/e\n",
    "            consecutiveSigmas=0\n",
    "\n",
    "            for i in range(0,len(SNR)):\n",
    "                if SNR[i]>=SNRthresh and SkyLines[i]==True:\n",
    "                    consecutiveSigmas+=1\n",
    "\n",
    "                elif consecutiveSigmas>=PIXthresh:\n",
    "                    foundCandidates.append((i-1,originalY+y))\n",
    "                    consecutiveSigmas=0\n",
    "\n",
    "                else:\n",
    "                    consecutiveSigmas=0\n",
    "\n",
    "        if remove==False:\n",
    "            lineData[\"Candidates\"]=foundCandidates\n",
    "        \n",
    "        if remove!=False:\n",
    "            newfound=[]\n",
    "            for i in foundCandidates:\n",
    "                if i not in remove:\n",
    "                    newfound.append(i)\n",
    "            lineData[\"Candidates\"]=newfound\n",
    "            \n",
    "        PossibleLines.append(lineData)\n",
    "        return PossibleLines\n",
    "\n"
   ]
  },
  {
   "cell_type": "markdown",
   "metadata": {},
   "source": [
    "# FWHM Distribution random sampler\n"
   ]
  },
  {
   "cell_type": "code",
   "execution_count": 28,
   "metadata": {},
   "outputs": [
    {
     "name": "stdout",
     "output_type": "stream",
     "text": [
      "17.5 332.5\n"
     ]
    },
    {
     "data": {
      "text/plain": [
       "array([146.87894798, 212.61286491, 108.08741389, 192.73796226,\n",
       "       148.13920757, 138.40307625,  95.87561067, 117.71168723,\n",
       "        85.95403606, 256.21507376])"
      ]
     },
     "execution_count": 28,
     "metadata": {},
     "output_type": "execute_result"
    },
    {
     "data": {
      "image/png": "[encoded data removed]",
      "text/plain": [
       "<Figure size 1440x216 with 1 Axes>"
      ]
     },
     "metadata": {},
     "output_type": "display_data"
    }
   ],
   "source": [
    "Catalog=ascii.read(\"/Users/gonzalo/Desktop/Code/Gonzalo_Binospec/A-Project/A-Catalogs/Binospec-Candels.cat\")\n",
    "fwhmDist=np.array(list(Catalog[\"LyaFWHM\"]))\n",
    "import numpy.polynomial.polynomial as poly\n",
    "\n",
    "def RandomSampler(dist,N_points=50):\n",
    "    counts,bins,__=plt.hist(dist,bins=10,range=[0,350])\n",
    "    bins=[(bins[i]+bins[i+1])/2 for i in range(0,len(bins)-1)]\n",
    "    x=np.linspace(30,350,10000)\n",
    "    coefs = poly.polyfit(bins, counts, 5)\n",
    "    ffit = poly.Polynomial(coefs) \n",
    "    print(bins[0],bins[-1])\n",
    "    peak=max(ffit(x))\n",
    "    cex= np.zeros(N_points)\n",
    "    cey= np.zeros(N_points)\n",
    "    Ntry = 0\n",
    "    r = np.random\n",
    "    for i in range(N_points):\n",
    "        while True:\n",
    "            Ntry += 1\n",
    "            x2 = r.uniform(30, 350)  \n",
    "            y2 = r.uniform(0, peak)        \n",
    "            if (y2 < ffit(x2)) :   # If the (x,y)-point fulfills the accept condition...\n",
    "                break\n",
    "                \n",
    "        cex[i] = x2 \n",
    "        cey[i] = y2   \n",
    "    \n",
    "    #plt.scatter(cex,cey,s=0.4,color=\"red\",zorder=10)\n",
    "    #plt.plot(x,ffit(x))\n",
    "    #plt.xlabel(\"FWHM km/s\")\n",
    "    #plt.show()\n",
    "    return cex\n",
    "\n",
    "\n",
    "\n",
    "RandomSampler(fwhmDist,N_points=10)"
   ]
  },
  {
   "cell_type": "markdown",
   "metadata": {},
   "source": [
    "## FLUX LIMITS: METHOD 2, SIMULATE GAUSSIANS"
   ]
  },
  {
   "cell_type": "code",
   "execution_count": null,
   "metadata": {},
   "outputs": [],
   "source": [
    "# First run on slit normally\n",
    "\n",
    "import copy\n",
    "\n",
    "\n",
    "def FluxLimits(data,z):\n",
    "    SkyLines    =   GetStrongSky()\n",
    "    pixScale=0.62 #1 pixel is this amount of Angstroms\n",
    "    N = 120  # kernel size\n",
    "    wave=np.arange(6760.0,6760.0+5631*0.620000004768,0.620000004768)\n",
    "    maskSkyLines=[]\n",
    "    for w in wave:\n",
    "        temp=True\n",
    "        for s in SkyLines:\n",
    "            if w>=s-(3.0*0.62) and w<=s+(3.0*0.62):\n",
    "                temp=False\n",
    "        maskSkyLines.append(temp)\n",
    "\n",
    "    gridFlux=10**np.arange(-18,-16.5,0.1) #FLux grid real range is -17.4 to -16, so I will go lower to -18\n",
    "\n",
    "\n",
    "    \n",
    "    strip_center = data[0].Data.rawData[len(data[0].Data.rawData) // 2]\n",
    "    first_non_nan_index = next((i for i, x in enumerate(strip_center) if not np.isnan(x)), None)\n",
    "    first_non_nan_wave = wave[first_non_nan_index] if first_non_nan_index is not None else None\n",
    "    print(\"First non-nan value index in strip_center:\", first_non_nan_index)\n",
    "    print(\"Corresponding wave:\", first_non_nan_wave)\n",
    "    plt.plot(wave, strip_center)\n",
    "    plt.axvline(x=7602)\n",
    "    plt.show()\n",
    "\n",
    "\n",
    "    zmin = max(z - 0.5, ((first_non_nan_wave+20)/1215.6)-1)\n",
    "    gridz = np.arange(zmin, z + 0.5, 0.05)\n",
    "    print(gridz)\n",
    "    BaseLine    =   LineSelection(data,maskSkyLines,SNRthresh=3.3,PIXthresh=3,scanArea=10)\n",
    "    #BaseLine_Highfwhm    =   LineSelection(data,maskSkyLines,SNRthresh=2.5,PIXthresh=5,scanArea=10)\n",
    "    data=data[0]\n",
    "    TOTALGrid=[]\n",
    "\n",
    "\n",
    "    \n",
    "    for nn,redshift in enumerate(gridz):\n",
    "        print(redshift)\n",
    "        zwave=redshiftToWave(redshift)\n",
    "        zpix=list(wave).index(min(wave, key=lambda x:abs(x-zwave))) #find closest value and its index (so we have pixel location)\n",
    "        Y = int(np.round(data.Ypix))  #kernel size subtracted so gaussian doesnt colide with edges\n",
    "        X = int(np.round(zpix))\n",
    "        temp1=[]\n",
    "        gridFWHM=RandomSampler(fwhmDist,N_points=5)#\n",
    "        for FWHM in gridFWHM:\n",
    "            temp2=[]\n",
    "            for scale in gridFlux:\n",
    "                Datacopy=copy.deepcopy(data)\n",
    "                kernel = makeGaussian(N,(kmsToangstrom(FWHM,zwave)/ pixScale))\n",
    "                newkernel = (kernel/np.sum(kernel) )*(scale) \n",
    "                newkernel=newkernel[53:-53,30:-30]\n",
    "                #plt.imshow(newkernel)\n",
    "                #plt.show()\n",
    "                #print(np.shape(Datacopy.Data.rawData))\n",
    "                Datacopy.Data.rawData = addAtPos(Datacopy.Data.rawData,newkernel,(X,Y))\n",
    "                #print(np.shape(Datacopy.Data.rawData),np.shape(newkernel))\n",
    "                if len(Datacopy.Data.rawData)==1:\n",
    "                    temp2.append([np.nan,np.nan,np.nan,redshift])\n",
    "                    continue\n",
    "                #Datacopy.Data.save2fitsNew(Datacopy.Data.rawData,Datacopy.Data.error,Datacopy.Ypix,folder=\"FluxLimSlits/\",name=Datacopy.ID+\"_redshift\"+str(redshift)+\"_fwhm\"+str(FWHM)+\"_flux\"+str(scale))\n",
    "                #if FWHM>550.:\n",
    "                #    FullDetections = LineSelection([Datacopy],SkyLines=maskSkyLines,SNRthresh=2.5,PIXthresh=5,scanArea=10,remove=BaseLine_Highfwhm[0][\"Candidates\"])\n",
    "                #else:\n",
    "                FullDetections = LineSelection([Datacopy],SkyLines=maskSkyLines,SNRthresh=3.3,PIXthresh=3,scanArea=10,remove=BaseLine[0][\"Candidates\"])\n",
    "                \n",
    "                if len(FullDetections[0][\"Candidates\"])>0:\n",
    "                    found=[1,str(FWHM),str(scale),str(redshift)]\n",
    "                    #print(FullDetections[0][\"Candidates\"])\n",
    "                else:\n",
    "                    found=[0,str(FWHM),str(scale),str(redshift)]\n",
    "                #print(\"FluxLimSlits/\"+Datacopy.ID+\"_redshift\"+str(redshift)+\"_fwhm\"+str(FWHM)+\"_flux\"+str(scale))\n",
    "                #print(found)\n",
    "                temp2.append(found)\n",
    "            temp1.append(temp2)\n",
    "        TOTALGrid.append(temp1)\n",
    "    print(\"Complete: \",Datacopy.ID)\n",
    "    np.save(\"FluxLims/\"+str(Datacopy.ID)+\".npy\",TOTALGrid)\n",
    "    return TOTALGrid\n",
    "\n",
    "from joblib import Parallel, delayed\n",
    "\n",
    "\n",
    "\n",
    "Parallel(n_jobs=4)(delayed(FluxLimits)([d],d.z) for d in NLya1)\n",
    "Parallel(n_jobs=4)(delayed(FluxLimits)([d],d.z) for d in NLya2)\n",
    "Parallel(n_jobs=4)(delayed(FluxLimits)([d],d.z) for d in NLya3)\n",
    "Parallel(n_jobs=4)(delayed(FluxLimits)([d],d.z) for d in NLya4)\n",
    "\n",
    "#for  d in NLya1[30:31]:\n",
    "#    x=FluxLimits([d],d.z)\n",
    "\n"
   ]
  },
  {
   "cell_type": "code",
   "execution_count": null,
   "metadata": {},
   "outputs": [],
   "source": [
    "def angstromTokms(centralA,As):\n",
    "    c=300000\n",
    "    v=c*(As-centralA)/centralA\n",
    "    return v+c\n",
    "\n",
    "def kmsToangstrom(v,centralA):\n",
    "    c=300000\n",
    "    As = centralA*(v+c)/c\n",
    "    return np.abs(centralA-As)\n",
    "\n",
    "\n",
    "\n",
    "A=kmsToangstrom(110.0,8000.0)\n",
    "print(A)\n",
    "\n",
    "kms=angstromTokms(11000.0,4)\n",
    "print(kms)"
   ]
  },
  {
   "cell_type": "code",
   "execution_count": null,
   "metadata": {},
   "outputs": [],
   "source": [
    "LimMatrixs=glob.glob(\"FluxLims/*.npy\")\n",
    "Fluxlimits={}\n",
    "for f in LimMatrixs[:]:\n",
    "    name=f.split(\"/\")[-1].split(\".\")[0]\n",
    "    file=np.load(f)\n",
    "    temp=[]\n",
    "    for i in file:\n",
    "        for j in i:\n",
    "            k = next((item for item in j if item[0] == '1'), None)\n",
    "            if type(k)!=type(None):\n",
    "                temp.append(float(k[2]))\n",
    "    Fluxlimits[name]=temp\n",
    "\n",
    "np.save(\"/Users/gonzalo/Desktop/Code/Gonzalo_Binospec/A-Project/A-Catalogs/measurements/FluxLims_Nov21.npy\",Fluxlimits)\n",
    "\n",
    "\n"
   ]
  },
  {
   "cell_type": "code",
   "execution_count": null,
   "metadata": {},
   "outputs": [],
   "source": []
  },
  {
   "cell_type": "code",
   "execution_count": null,
   "metadata": {},
   "outputs": [],
   "source": []
  },
  {
   "cell_type": "code",
   "execution_count": null,
   "metadata": {},
   "outputs": [],
   "source": []
  },
  {
   "cell_type": "code",
   "execution_count": null,
   "metadata": {},
   "outputs": [],
   "source": []
  },
  {
   "cell_type": "code",
   "execution_count": null,
   "metadata": {},
   "outputs": [],
   "source": []
  },
  {
   "cell_type": "code",
   "execution_count": null,
   "metadata": {},
   "outputs": [],
   "source": [
    "\n",
    "for gal in Catalog:\n",
    "    id=gal[\"id_charlotte\"]\n",
    "    try:\n",
    "        #print(Fluxlimits[id])\n",
    "        flim=np.log10(np.nanmedian(Fluxlimits[id]))\n",
    "        #print(flim)\n",
    "        #print(gal[\"FluxLim\"])\n",
    "        plt.scatter(gal[\"FluxLim\"],flim)\n",
    "        gal[\"FluxLim\"]=flim\n",
    "    except:\n",
    "        continue\n",
    "\n",
    "plt.xlim(-17.,-16.2)\n",
    "plt.plot([-17,-16.2],[-17,-16.2])\n",
    "plt.show()\n",
    "\n",
    "ascii.write(Catalog,\"/Users/gonzalo/Desktop/Code/Gonzalo_Binospec/A-Project/A-Catalogs/Binospec-Candels.cat\",overwrite=True)\n"
   ]
  },
  {
   "cell_type": "code",
   "execution_count": null,
   "metadata": {},
   "outputs": [],
   "source": [
    "plt.hist(Catalog[\"LyaFlux\"],range=[-18,-16],density=True,bins=10)\n",
    "plt.hist(np.log10(medians),alpha=0.6,range=[-18,-16],density=True,bins=15)"
   ]
  },
  {
   "cell_type": "code",
   "execution_count": null,
   "metadata": {},
   "outputs": [],
   "source": []
  },
  {
   "cell_type": "code",
   "execution_count": null,
   "metadata": {},
   "outputs": [],
   "source": []
  },
  {
   "cell_type": "code",
   "execution_count": null,
   "metadata": {},
   "outputs": [],
   "source": [
    "LimMatrixs=glob.glob(\"/Users/gonzalo/Desktop/Code/Gonzalo_Binospec/code/data/large_files/LowLim/*.npy\")\n",
    "Matrixs=[]\n",
    "EmptyVariable=[Matrixs.append(LimMatrix([np.nan],d.split(\"/\")[-1][:-4])) for d in LimMatrixs]\n",
    "\n",
    "%load_ext autoreload\n",
    "\n",
    "%autoreload\n",
    "Datos={}\n",
    "for x,flx in zip(Matrixs[:],LimMatrixs[:]):\n",
    "    x.UpperFlux(b=50,fluxes=np.load(flx))\n",
    "    Datos[str(x.ID)]=np.log10(x.FluxLim)\n",
    "np.save(\"/Users/gonzalo/Desktop/Code/Gonzalo_Binospec/code/files/FluxLims.npy\",Datos)\n",
    "np.save(\"/Users/gonzalo/Desktop/Code/Gonzalo_Binospec/code/Photometry/Catalogs/FluxLims.npy\",Datos)\n",
    "\n",
    "\n",
    "\n",
    "\n",
    "\n",
    "\n",
    "\n",
    "#fluxes=[l[\"Flux\"] for l in LowestAll]\n",
    "#fwhm=[l[\"FWHM\"] for l in LowestAll]\n",
    "\n",
    "#plt.hist(fluxes,bins=20)"
   ]
  },
  {
   "cell_type": "code",
   "execution_count": null,
   "metadata": {},
   "outputs": [],
   "source": [
    "Datos"
   ]
  },
  {
   "cell_type": "code",
   "execution_count": null,
   "metadata": {},
   "outputs": [],
   "source": []
  },
  {
   "cell_type": "code",
   "execution_count": null,
   "metadata": {},
   "outputs": [],
   "source": []
  },
  {
   "cell_type": "code",
   "execution_count": null,
   "metadata": {},
   "outputs": [],
   "source": [
    "print(type(None)==type(None))"
   ]
  },
  {
   "cell_type": "code",
   "execution_count": null,
   "metadata": {},
   "outputs": [],
   "source": [
    "print(np.shape(Matrixs))"
   ]
  },
  {
   "cell_type": "code",
   "execution_count": null,
   "metadata": {},
   "outputs": [],
   "source": [
    "print(len(LowestAll))"
   ]
  },
  {
   "cell_type": "code",
   "execution_count": null,
   "metadata": {},
   "outputs": [],
   "source": [
    "Flx=[]\n",
    "for i in LowestAll:\n",
    "    if float(i[\"Flux\"])<100e-17 and np.isnan(i[\"Flux\"])==False:\n",
    "        Flx.append(i[\"Flux\"])\n",
    "\n",
    "plt.hist(Flx,bins=10)\n",
    "plt.show()"
   ]
  },
  {
   "cell_type": "code",
   "execution_count": null,
   "metadata": {},
   "outputs": [],
   "source": [
    "np.arange(50,800,400)"
   ]
  },
  {
   "cell_type": "code",
   "execution_count": null,
   "metadata": {},
   "outputs": [],
   "source": [
    "def LineSelection(Specs,SkyLines,width=5,SNRthresh=3,PIXthresh=3,scanArea=5,remove=False):\n",
    "    \"\"\"\n",
    "        Its really the same code that I used before but in function form. In this case it locates the lines by collapsing Yaxis in width.\n",
    "        Scan area will remove the 5pix from the edges. When both treshholds are met, we are left with a Possiblew source detection.\n",
    "        \n",
    "        Args:\n",
    "\n",
    "            Specs: Spectra Object\n",
    "            width: Yaxis size to be collapsed\n",
    "            SNRthresh: Signal to noise to be labeled as a possible detection\n",
    "            Pixthresh: Amount of continious pixels needed above SNR thresh\n",
    "            scanArea: size of borders to ignore\n",
    "            remove: Used when we want to ignore a given list of possible line coordinates\n",
    "            \n",
    "        Returns:\n",
    "            List of Possible lines                                   \n",
    "    \"\"\"    \n",
    "    PossibleLines=[]\n",
    "    for s in Specs[:]:\n",
    "        lineData={}\n",
    "        lineData[\"ID\"]=s.ID\n",
    "\n",
    "        originalY=np.shape(s.Data.rawData)[0]/2\n",
    "        foundCandidates=[]\n",
    "\n",
    "        for y in np.arange(-scanArea,scanArea+1):\n",
    "            d,e=s.Data.collapse(ywidth=width,YPIX=originalY+y)\n",
    "            SNR=d/e\n",
    "            consecutiveSigmas=0\n",
    "            for i in range(0,len(SNR)):\n",
    "                if SNR[i]>=SNRthresh and SkyLines[i]==True:\n",
    "                    consecutiveSigmas+=1\n",
    "\n",
    "                elif consecutiveSigmas>=PIXthresh:\n",
    "                    foundCandidates.append((i-1,originalY+y))\n",
    "                    consecutiveSigmas=0\n",
    "\n",
    "                else:\n",
    "                    consecutiveSigmas=0\n",
    "\n",
    "        if remove==False:\n",
    "            lineData[\"Candidates\"]=foundCandidates\n",
    "        \n",
    "        if remove!=False:\n",
    "            newfound=[]\n",
    "            for i in foundCandidates:\n",
    "                if i not in remove:\n",
    "                    newfound.append(i)\n",
    "            lineData[\"Candidates\"]=newfound\n",
    "            \n",
    "        PossibleLines.append(lineData)\n",
    "        return PossibleLines\n",
    "\n"
   ]
  },
  {
   "cell_type": "code",
   "execution_count": null,
   "metadata": {},
   "outputs": [],
   "source": [
    "# range pix : x = 1359-5427 ,y = 2-60, add gaussians in random locations within these ranges and add 3 less in each axis so line fits\n",
    "#Select empty slit\n",
    "\n",
    "import random\n",
    "import copy\n",
    "from joblib import Parallel, delayed\n",
    "data_dir = '/Users/gonzalo/Desktop/Code/Gonzalo_Binospec/A-Project/A-Catalogs/data/large_files/'\n",
    "fname_data = np.sort(glob.glob(data_dir+\"completeness/EmptySlit.fits\"))\n",
    "\n",
    "\"\"\" Runs completeness\n",
    "\n",
    "We fill the empty slit with gaussians following the grids that we assign\n",
    "And then run the line detection again to see if the code finds them\n",
    "\n",
    "\"\"\"\n",
    "\n",
    "def Completeness(data):\n",
    "    SkyLines    =   GetStrongSky()\n",
    "    pixScale=0.62 #1 pixel is this amount of Angstroms\n",
    "    N = 120  # kernel size\n",
    "    #FWHM=150 #FWHM km/s (not used)\n",
    "    #scale = 1e-17 #total flux not used\n",
    "    wave=np.arange(6760.0,6760.0+5631*0.620000004768,0.620000004768)\n",
    "    maskSkyLines=[]\n",
    "    for w in wave:\n",
    "        temp=True\n",
    "        for s in SkyLines:\n",
    "            if w>=s-(3.0*0.62) and w<=s+(3.0*0.62):\n",
    "                temp=False\n",
    "        maskSkyLines.append(temp)\n",
    "\n",
    "    Empty=[data]\n",
    "    start_wave_index=[]\n",
    "    end_wave_index=[]\n",
    "\n",
    "    strip_center = Empty[0].Data.rawData[len(Empty[0].Data.rawData) // 2]\n",
    "    first_non_nan_index = next((i for i, x in enumerate(strip_center) if not (np.isnan(x) or x == 0)), None)\n",
    "    first_non_nan_wave = wave[first_non_nan_index] if first_non_nan_index is not None else None\n",
    "    wave_lya_z5=1215.6*(1+5)\n",
    "    lya_index = (np.abs(wave - wave_lya_z5)).argmin()\n",
    "    first_index = max(lya_index, first_non_nan_index)\n",
    "\n",
    "    start_wave_index.append(first_index)\n",
    "    \n",
    "\n",
    "    strip_center = Empty[0].Data.rawData[len(Empty[0].Data.rawData) // 2]\n",
    "    last_non_nan_index = next((i for i in range(len(strip_center) - 1, -1, -1) if not (np.isnan(strip_center[i]) or strip_center[i] == 0)), None)\n",
    "    last_non_nan_wave = wave[last_non_nan_index] if last_non_nan_index is not None else None\n",
    "    wave_lya_z65=1215.6*(1+6.5)\n",
    "    lya_index = (np.abs(wave - wave_lya_z65)).argmin()\n",
    "    last_index = min(lya_index, last_non_nan_index)\n",
    "    end_wave_index.append(last_index)\n",
    "\n",
    "\n",
    "    gridFWHM=[130]#np.linspace(50,600,7)#np.arange(350,600,100)#FWHM grid\n",
    "    gridFlux=[10**-17]  #np.linspace(-17.3,-15.5,7)#np.arange(-18,-16.5,0.5) #FLux grid\n",
    "    total=10 #100 per grid location\n",
    "    Comp=[]#NxN  filas son fwhm, columnas son flujo\n",
    "    Empty=Empty[0]\n",
    "    Y=int(Empty.Ypix)\n",
    "    topY = min(Y+15,np.shape(Empty.Data.rawData)[0]-3)\n",
    "    botY = max(Y-15,3)\n",
    "    Area=topY-botY\n",
    "    BaseLine = LineSelection([Empty],maskSkyLines,SNRthresh=3.5,PIXthresh=3,scanArea=Area)  \n",
    "\n",
    "    for FWHM in gridFWHM:\n",
    "        print(FWHM)\n",
    "        temp1=[]\n",
    "        for scale in gridFlux:\n",
    "            temp2=[]\n",
    "            for t in range(0,total):\n",
    "                Datacopy=copy.deepcopy(Empty)\n",
    "                kernelSize=40\n",
    "\n",
    "                RandY = random.randint(botY,topY) #kernel size subtracted so gaussian doesnt colide with edges\n",
    "                RandX = random.randint(first_index+kernelSize,last_index-kernelSize)\n",
    "                obsWavelength=wave[RandX]\n",
    "                kernel = makeGaussian(N,(kmsToangstrom(FWHM*2 ,obsWavelength)/ pixScale))\n",
    "                newkernel=kernel[53:-53,60:100]\n",
    "                newkernel = (newkernel/np.sum(newkernel) )*(scale)\n",
    "\n",
    "\n",
    "                Datacopy.Data.rawData = addAtPos(Datacopy.Data.rawData,newkernel,(RandX,RandY))\n",
    "                if len(Datacopy.Data.rawData)==1:\n",
    "                    temp2.append([np.nan,np.nan,np.nan])\n",
    "                    continue\n",
    "                Datacopy.Data.save2fitsNew(Datacopy.Data.rawData,Datacopy.Data.error,Datacopy.Ypix,folder=\"FluxLimSlits_test/\",name=Datacopy.ID+\"_wave\"+str(obsWavelength)+\"_fwhm\"+str(FWHM)+\"_flux\"+str(scale))\n",
    "\n",
    "                FullDetections = LineSelection([Datacopy],SkyLines=maskSkyLines,SNRthresh=3.5,PIXthresh=3,scanArea=Area,remove=BaseLine[0][\"Candidates\"])\n",
    "\n",
    "                if len(FullDetections[0][\"Candidates\"])>0:\n",
    "                    found=[1,str(FWHM),str(scale)]\n",
    "                    #print(FullDetections[0][\"Candidates\"])\n",
    "                else:\n",
    "                    found=[0,str(FWHM),str(scale)]\n",
    "                temp2.append(found)\n",
    "            temp1.append(temp2)\n",
    "        Comp.append(temp1)\n",
    "    np.save(\"Completeness_test/\"+str(Datacopy.ID)+\".npy\",Comp)\n",
    "    return Comp\n",
    "\n",
    "\n",
    "\n",
    "\n",
    "def run_completeness(gal):\n",
    "    return Completeness(gal)\n",
    "\n",
    "\n",
    "\n",
    "#Parallel(n_jobs=4)(delayed(run_completeness)(gal) for gal in NLya1)\n",
    "#Parallel(n_jobs=4)(delayed(run_completeness)(gal) for gal in NLya2)\n",
    "#Parallel(n_jobs=4)(delayed(run_completeness)(gal) for gal in NLya3)\n",
    "#Parallel(n_jobs=4)(delayed(run_completeness)(gal) for gal in NLya4)\n",
    "\n"
   ]
  },
  {
   "cell_type": "code",
   "execution_count": 49,
   "metadata": {},
   "outputs": [
    {
     "name": "stdout",
     "output_type": "stream",
     "text": [
      "130\n"
     ]
    }
   ],
   "source": [
    "result=run_completeness(NLya1[0])"
   ]
  },
  {
   "cell_type": "code",
   "execution_count": 50,
   "metadata": {},
   "outputs": [
    {
     "data": {
      "text/plain": [
       "[[[[0, '130', '1e-17'],\n",
       "   [nan, nan, nan],\n",
       "   [1, '130', '1e-17'],\n",
       "   [1, '130', '1e-17'],\n",
       "   [1, '130', '1e-17'],\n",
       "   [1, '130', '1e-17'],\n",
       "   [0, '130', '1e-17'],\n",
       "   [1, '130', '1e-17'],\n",
       "   [nan, nan, nan],\n",
       "   [1, '130', '1e-17'],\n",
       "   [1, '130', '1e-17'],\n",
       "   [1, '130', '1e-17'],\n",
       "   [1, '130', '1e-17'],\n",
       "   [1, '130', '1e-17'],\n",
       "   [1, '130', '1e-17'],\n",
       "   [1, '130', '1e-17'],\n",
       "   [1, '130', '1e-17'],\n",
       "   [1, '130', '1e-17'],\n",
       "   [1, '130', '1e-17'],\n",
       "   [1, '130', '1e-17'],\n",
       "   [0, '130', '1e-17'],\n",
       "   [0, '130', '1e-17'],\n",
       "   [1, '130', '1e-17'],\n",
       "   [1, '130', '1e-17'],\n",
       "   [1, '130', '1e-17'],\n",
       "   [1, '130', '1e-17'],\n",
       "   [1, '130', '1e-17'],\n",
       "   [1, '130', '1e-17'],\n",
       "   [0, '130', '1e-17'],\n",
       "   [0, '130', '1e-17'],\n",
       "   [0, '130', '1e-17'],\n",
       "   [0, '130', '1e-17'],\n",
       "   [1, '130', '1e-17'],\n",
       "   [1, '130', '1e-17'],\n",
       "   [1, '130', '1e-17'],\n",
       "   [1, '130', '1e-17'],\n",
       "   [1, '130', '1e-17'],\n",
       "   [0, '130', '1e-17'],\n",
       "   [0, '130', '1e-17'],\n",
       "   [1, '130', '1e-17'],\n",
       "   [0, '130', '1e-17'],\n",
       "   [1, '130', '1e-17'],\n",
       "   [1, '130', '1e-17'],\n",
       "   [1, '130', '1e-17'],\n",
       "   [1, '130', '1e-17'],\n",
       "   [1, '130', '1e-17'],\n",
       "   [0, '130', '1e-17'],\n",
       "   [1, '130', '1e-17'],\n",
       "   [nan, nan, nan],\n",
       "   [0, '130', '1e-17'],\n",
       "   [1, '130', '1e-17'],\n",
       "   [1, '130', '1e-17'],\n",
       "   [0, '130', '1e-17'],\n",
       "   [1, '130', '1e-17'],\n",
       "   [1, '130', '1e-17'],\n",
       "   [1, '130', '1e-17'],\n",
       "   [1, '130', '1e-17'],\n",
       "   [1, '130', '1e-17'],\n",
       "   [1, '130', '1e-17'],\n",
       "   [0, '130', '1e-17'],\n",
       "   [1, '130', '1e-17'],\n",
       "   [1, '130', '1e-17'],\n",
       "   [1, '130', '1e-17'],\n",
       "   [1, '130', '1e-17'],\n",
       "   [1, '130', '1e-17'],\n",
       "   [nan, nan, nan],\n",
       "   [1, '130', '1e-17'],\n",
       "   [nan, nan, nan],\n",
       "   [1, '130', '1e-17'],\n",
       "   [0, '130', '1e-17'],\n",
       "   [0, '130', '1e-17'],\n",
       "   [1, '130', '1e-17'],\n",
       "   [1, '130', '1e-17'],\n",
       "   [0, '130', '1e-17'],\n",
       "   [1, '130', '1e-17'],\n",
       "   [1, '130', '1e-17'],\n",
       "   [1, '130', '1e-17'],\n",
       "   [1, '130', '1e-17'],\n",
       "   [1, '130', '1e-17'],\n",
       "   [1, '130', '1e-17'],\n",
       "   [nan, nan, nan],\n",
       "   [1, '130', '1e-17'],\n",
       "   [0, '130', '1e-17'],\n",
       "   [1, '130', '1e-17'],\n",
       "   [1, '130', '1e-17'],\n",
       "   [1, '130', '1e-17'],\n",
       "   [1, '130', '1e-17'],\n",
       "   [1, '130', '1e-17'],\n",
       "   [1, '130', '1e-17'],\n",
       "   [1, '130', '1e-17'],\n",
       "   [nan, nan, nan],\n",
       "   [0, '130', '1e-17'],\n",
       "   [1, '130', '1e-17'],\n",
       "   [1, '130', '1e-17'],\n",
       "   [1, '130', '1e-17'],\n",
       "   [1, '130', '1e-17'],\n",
       "   [1, '130', '1e-17'],\n",
       "   [1, '130', '1e-17'],\n",
       "   [1, '130', '1e-17'],\n",
       "   [0, '130', '1e-17']]]]"
      ]
     },
     "execution_count": 50,
     "metadata": {},
     "output_type": "execute_result"
    }
   ],
   "source": [
    "result"
   ]
  },
  {
   "cell_type": "code",
   "execution_count": null,
   "metadata": {},
   "outputs": [],
   "source": [
    "data_dir = '/Users/gonzalo/Desktop/Code/Gonzalo_Binospec/A-Project/A-Catalogs/data/large_files/'\n",
    "fname_data = np.sort(glob.glob(data_dir+\"completeness/EmptySlit.fits\"))\n",
    "\n",
    "Empty=[]\n",
    "HDU = fits.open(fname_data[0])\n",
    "flux=HDU[0]\n",
    "error=HDU[1]\n",
    "Inventory(Spectra(flux,SpectraData(flux,error))).addSpectra(Empty,flux) \n",
    "\n",
    "Catalog=ascii.read(\"/Users/gonzalo/Desktop/Code/Gonzalo_Binospec/A-Project/A-Catalogs/Binospec-Candels.cat\")\n",
    "Catalog=Catalog[Catalog[\"EWLya\"]<500]\n",
    "Catalog=Catalog[Catalog[\"Type\"]==\"NonDetect\"]\n",
    "\n",
    "Redshift={}\n",
    "for gal in Catalog:\n",
    "    zsys = gal[\"zsys\"]\n",
    "    Redshift[gal[\"id_charlotte\"]]=[zsys,\"zsys\"]\n",
    "    if np.isnan(zsys):\n",
    "        photoz = gal[\"photoz\"]\n",
    "        Redshift[gal[\"id_charlotte\"]]=[photoz,\"photoz\"]\n",
    "\n",
    "\n",
    "#######\n",
    "#######\n",
    "\n",
    "\n",
    "\n",
    "def Completeness_from_noise(Data,galaxy):\n",
    "\n",
    "    flux1d,err1d=Data.Data.collapse(ywidth=15)\n",
    "    mask=flux1d>0\n",
    "    wave=np.arange(6760.0,6760.0+5631*0.620000004768,0.620000004768)\n",
    "\n",
    "    err1d=err1d[mask]\n",
    "    wave=wave[mask]\n",
    "\n",
    "    if galaxy[1]==\"photoz\":\n",
    "        min_wave=1215.6*(1+galaxy[0]-0.5)\n",
    "        max_wave=1215.6*(1+galaxy[0]+0.5)\n",
    "\n",
    "    if galaxy[1]==\"zsys\":    \n",
    "        min_wave=1215.6*(1+galaxy[0]-0.001)\n",
    "        max_wave=1215.6*(1+galaxy[0]+0.005)\n",
    "\n",
    "    ### Calculate std and find the mask for everything\n",
    "    mask_std_range=(wave>7800) & (wave<9200)\n",
    "    median_error=np.nanmedian(err1d[mask_std_range])\n",
    "    std=np.nanstd(err1d[mask_std_range])\n",
    "\n",
    "    std_mask=err1d>2.5*std\n",
    "    err1d_sky=err1d[std_mask]\n",
    "    wave_sky=wave[std_mask]\n",
    "\n",
    "\n",
    "    ###Calculate for redshift range\n",
    "\n",
    "    mask_wave_range=(wave>min_wave) & (wave<max_wave)\n",
    "    mask_sky_wave_range=(wave_sky>min_wave) & (wave_sky<max_wave)\n",
    "    err1d_sky_wave_range=err1d_sky[mask_sky_wave_range]\n",
    "    err1d_wave_range=err1d[mask_wave_range]\n",
    "    wave_wave_range=wave[mask_wave_range]\n",
    "    wave_sky_wave_range=wave_sky[mask_sky_wave_range]\n",
    "\n",
    "\n",
    "    #plt.plot(wave_wave_range,err1d_wave_range)\n",
    "    #plt.plot(wave_sky_wave_range,err1d_sky_wave_range,\"s\")\n",
    "    #plt.ylim(0,1e-17)\n",
    "    #plt.show()\n",
    "    print(galaxy)\n",
    "    try:\n",
    "        #print(len(err1d_wave_range),len(err1d_sky_wave_range),1-(len(err1d_sky_wave_range)/len(err1d_wave_range)))\n",
    "        C=1-(len(err1d_sky_wave_range)/len(err1d_wave_range))\n",
    "    except:\n",
    "        print(Data.ID)\n",
    "        print(\"Not in Range\")\n",
    "        C=np.nan\n",
    "    \n",
    "    return [Data.ID,C]\n",
    "        \n",
    "    \n",
    "print(NLya1[0].ID)\n",
    "\n",
    "Completeness_simple=[]\n",
    "count=0\n",
    "NLya=[NLya1,NLya2,NLya3,NLya4]\n",
    "NLya = np.concatenate(NLya)\n",
    "for gal in NLya:\n",
    "    try:\n",
    "        c=Completeness_from_noise(gal,Redshift[gal.ID])\n",
    "        Completeness_simple.append(c)\n",
    "        count+=1\n",
    "    except:\n",
    "        count+=0\n",
    "\n",
    "\n",
    "np.save(\"Completeness_simple.npy\",Completeness_simple)\n",
    "\n"
   ]
  },
  {
   "cell_type": "code",
   "execution_count": null,
   "metadata": {},
   "outputs": [],
   "source": []
  },
  {
   "cell_type": "code",
   "execution_count": null,
   "metadata": {},
   "outputs": [],
   "source": [
    "mask=Catalog[\"id_charlotte\"]==\"z5_GNW_28602\"\n",
    "Catalog[mask]"
   ]
  },
  {
   "cell_type": "code",
   "execution_count": null,
   "metadata": {},
   "outputs": [],
   "source": [
    "1215.6*(1+7.24)"
   ]
  },
  {
   "cell_type": "code",
   "execution_count": null,
   "metadata": {},
   "outputs": [],
   "source": []
  },
  {
   "cell_type": "code",
   "execution_count": null,
   "metadata": {},
   "outputs": [],
   "source": [
    "def vOffset(zLya,zSys):\n",
    "    c=299792.458 #km/s\n",
    "    offset=c*((zLya-zSys)/(1+zSys))\n",
    "    return offset\n",
    "\n",
    "\n",
    "vOffset(5,5.004)"
   ]
  },
  {
   "cell_type": "code",
   "execution_count": null,
   "metadata": {},
   "outputs": [],
   "source": [
    "for gal in Redshift.keys():\n",
    "    print(Redshift[gal])"
   ]
  },
  {
   "cell_type": "code",
   "execution_count": null,
   "metadata": {},
   "outputs": [],
   "source": [
    "Empty[0].Data.rawData"
   ]
  },
  {
   "cell_type": "code",
   "execution_count": null,
   "metadata": {},
   "outputs": [],
   "source": [
    "fname_data"
   ]
  },
  {
   "cell_type": "code",
   "execution_count": null,
   "metadata": {},
   "outputs": [],
   "source": [
    "Completeness= np.load(\"/Users/gonzalo/Desktop/Code/Gonzalo_Binospec/A-Project/A-Catalogs/data/large_files/completeness/Completeness.npy\")\n",
    "import seaborn as sns\n",
    "import matplotlib.colors as colors\n",
    "\n",
    "\n",
    "gridFWHM=np.arange(100,430,30)\n",
    "gridFlux=10**np.arange(-18,-16.35,0.15)\n",
    "def truncate_colormap(cmap, minval=0.0, maxval=1.0, n=100):\n",
    "    new_cmap = colors.LinearSegmentedColormap.from_list(\n",
    "        'trunc({n},{a:.2f},{b:.2f})'.format(n=cmap.name, a=minval, b=maxval),\n",
    "        cmap(np.linspace(minval, maxval, n)))\n",
    "    return new_cmap\n",
    "\n",
    "\n",
    "\n",
    "\n",
    "cmap = plt.get_cmap('plasma_r')\n",
    "new_cmap = truncate_colormap(cmap, 0.05, 0.8)\n",
    "fig = plt.figure()\n",
    "ax = sns.heatmap(np.array(Completeness)/100,cmap=new_cmap,linewidths=0.5,annot=True)\n",
    "\n",
    "plt.rcParams[\"figure.figsize\"] = (10,10)\n",
    "ax.set_xticklabels(np.round(np.log10(gridFlux),1))#[0,-18,-17.6,-17.2,-16.8,-16.4,-16])\n",
    "ax.set_yticklabels(gridFWHM)#[0,100,160,220,280,340,400])\n",
    "ax.set_xlabel(r\"log$_{10}$Flux [erg/s/cm2]\")\n",
    "ax.set_ylabel(\"FWHM [km/s]\")\n",
    "plt.show()"
   ]
  },
  {
   "cell_type": "code",
   "execution_count": null,
   "metadata": {},
   "outputs": [],
   "source": [
    "###### Under construction ##########"
   ]
  },
  {
   "cell_type": "code",
   "execution_count": null,
   "metadata": {},
   "outputs": [],
   "source": [
    "Empty=[]\n",
    "for data in fname_data[:]:\n",
    "    HDU = fits.open(data)\n",
    "    flux=HDU[0]\n",
    "    error=HDU[1]\n",
    "    Inventory(Spectra(flux,SpectraData(flux,error))).addSpectra(Empty,flux) \n",
    "\n",
    "summed=np.sum(Empty[0].Data.error,axis=0)"
   ]
  },
  {
   "cell_type": "code",
   "execution_count": null,
   "metadata": {},
   "outputs": [],
   "source": [
    "pos=[(1590,1604),(1684,1700),(1737,1752),(2092,2110),(2942,2957)]\n",
    "from scipy.optimize import curve_fit\n",
    "\n",
    "\n",
    "def gauss_pdf(x,amp=1, mu=7, sigma=0.3,C=0.2) :\n",
    "    \"\"\"Gaussian\"\"\"\n",
    "    return amp * np.exp( -0.5 * (x-mu)**2 / sigma**2) + C\n",
    "\n",
    "\n",
    "\n",
    "\n",
    "FWHM_intrinsic=[]\n",
    "for cord in pos:\n",
    "    signal=summed[cord[0]:cord[1]]/max(summed[cord[0]:cord[1]])\n",
    "    #plt.plot(signal)\n",
    "    x=np.arange(0,len(signal))\n",
    "    popt, pcov = curve_fit(gauss_pdf,x,signal,p0=[1,7,2,0.2])\n",
    "    print(popt[2]*2*np.sqrt(2*np.log(2)))\n",
    "    #plt.plot(gauss_pdf(x,popt[0],popt[1],popt[2],popt[3]))\n",
    "    FWHM_intrinsic.append(popt[2]*2*np.sqrt(2*np.log(2)))\n",
    "    #plt.xlim(2092,2110)\n",
    "    #plt.ylim(0,4e-17)\n",
    "    #plt.show()\n",
    "print('Sky Lines FWHM : ', np.median(FWHM_intrinsic))"
   ]
  },
  {
   "cell_type": "code",
   "execution_count": null,
   "metadata": {},
   "outputs": [],
   "source": [
    "FWHM_res=np.sqrt(0.62**2 + np.median(FWHM_intrinsic)**2)\n",
    "print(FWHM_res)\n",
    "print(angstromTokms(10000,10000+FWHM_res))"
   ]
  },
  {
   "cell_type": "code",
   "execution_count": null,
   "metadata": {},
   "outputs": [],
   "source": []
  },
  {
   "cell_type": "code",
   "execution_count": null,
   "metadata": {},
   "outputs": [],
   "source": []
  },
  {
   "cell_type": "code",
   "execution_count": null,
   "metadata": {},
   "outputs": [],
   "source": []
  }
 ],
 "metadata": {
  "kernelspec": {
   "display_name": "base",
   "language": "python",
   "name": "python3"
  },
  "language_info": {
   "codemirror_mode": {
    "name": "ipython",
    "version": 3
   },
   "file_extension": ".py",
   "mimetype": "text/x-python",
   "name": "python",
   "nbconvert_exporter": "python",
   "pygments_lexer": "ipython3",
   "version": "3.8.8"
  },
  "orig_nbformat": 4
 },
 "nbformat": 4,
 "nbformat_minor": 2
}
