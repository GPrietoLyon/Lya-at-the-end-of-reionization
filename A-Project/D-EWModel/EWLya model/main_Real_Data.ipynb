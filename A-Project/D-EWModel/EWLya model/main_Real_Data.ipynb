{
 "cells": [
  {
   "cell_type": "code",
   "execution_count": 1,
   "metadata": {},
   "outputs": [],
   "source": [
    "\n",
    "#from Tools import *\n",
    "from photoObject import *\n",
    "import numpy as np\n",
    "import seaborn as sns\n",
    "import pandas as pd\n",
    "from BayesianInference import *\n",
    "from random import Random\n",
    "import random\n",
    "from scipy.interpolate import interp1d\n",
    "from scipy.stats import rv_continuous\n",
    "from astropy.io import ascii\n",
    "import emcee\n",
    "import pathos.multiprocessing as multiproc\n",
    "from multiprocessing import Pool\n",
    "import corner\n",
    "from IPython.display import display, Math\n",
    "from astropy import cosmology\n"
   ]
  },
  {
   "cell_type": "code",
   "execution_count": null,
   "metadata": {},
   "outputs": [],
   "source": []
  },
  {
   "cell_type": "code",
   "execution_count": null,
   "metadata": {},
   "outputs": [],
   "source": []
  },
  {
   "cell_type": "code",
   "execution_count": 2,
   "metadata": {},
   "outputs": [],
   "source": [
    "\n",
    "def line_equation(x, coefficients):\n",
    "    \"\"\"\n",
    "    Calculate the y-values of a line given the x-values and coefficients of the line equation.\n",
    "\n",
    "    Args:\n",
    "        x (array-like): x-values.\n",
    "        coefficients (array-like): Coefficients of the line equation.\n",
    "\n",
    "    Returns:\n",
    "        array-like: y-values of the line.\n",
    "    \"\"\"\n",
    "    y = np.polyval(coefficients, x)\n",
    "    y = np.maximum(y, 0.5)\n",
    "    return y\n",
    "\n",
    "\n",
    "\n"
   ]
  },
  {
   "cell_type": "code",
   "execution_count": 3,
   "metadata": {},
   "outputs": [],
   "source": [
    "\n",
    "Catalog=ascii.read('../../A-Catalogs/Binospec-Candels.cat')\n",
    "mask=np.isnan(Catalog[\"EWLya\"])==False\n",
    "Catalog=Catalog[mask]\n",
    "mask=Catalog[\"EWLya\"]<500\n",
    "Catalog=Catalog[mask]\n",
    "mask=Catalog[\"Muv\"]>-23.5\n",
    "Catalog=Catalog[mask]\n",
    "mask=Catalog[\"slope\"]>-3\n",
    "Catalog=Catalog[mask]"
   ]
  },
  {
   "cell_type": "code",
   "execution_count": 4,
   "metadata": {},
   "outputs": [
    {
     "data": {
      "image/png": "[encoded data removed]",
      "text/plain": [
       "<Figure size 720x576 with 1 Axes>"
      ]
     },
     "metadata": {
      "needs_background": "light"
     },
     "output_type": "display_data"
    }
   ],
   "source": [
    "from scipy.optimize import curve_fit\n",
    "plt.rcParams[\"figure.figsize\"] = (10, 8)\n",
    "\n",
    "\n",
    "C=Catalog[Catalog[\"dEWLya\"]>0]\n",
    "C=C[C[\"dEWLya\"]>0]\n",
    "plt.scatter(C[\"Muv\"], C[\"dEWLya\"])\n",
    "intervals = np.arange(np.min(C[\"Muv\"]), np.max(C[\"Muv\"]), 0.5)\n",
    "median_values = []\n",
    "for interval in intervals:\n",
    "    mask = (C[\"Muv\"] >= interval) & (C[\"Muv\"] < interval + 0.5)\n",
    "    median = np.nanmedian(C[\"dEWLya\"][mask])\n",
    "    median_values.append(median)\n",
    "\n",
    "intervals=np.append(intervals, -18)\n",
    "median_values=np.append(median_values, 11)\n",
    "#plt.scatter(intervals[:-1], median_values[:-1], color=\"green\")\n",
    "plt.xlabel('Muv')\n",
    "plt.ylabel('log10 Median dEWLya')\n",
    "plt.title('Median dEWLya vs Muv')\n",
    "\n",
    "# Fit 1D polynomial to data\n",
    "\n",
    "coefficients = np.polyfit(intervals, median_values, 1)\n",
    "plt.yscale('log')\n",
    "# Plot the fitted line\n",
    "#plt.plot(intervals,line_equation(intervals,coefficients), color='red')\n",
    "#plt.scatter(-20, line_equation(-20, coefficients), color='black')\n",
    "plt.show()\n",
    "\n",
    "\n",
    "\n"
   ]
  },
  {
   "cell_type": "code",
   "execution_count": 5,
   "metadata": {},
   "outputs": [],
   "source": [
    "highest_muv_index = np.argmin(C['Muv'])\n",
    "highest_muv = C['Muv'][highest_muv_index]\n",
    "highest_dewlya = C['dEWLya'][highest_muv_index]"
   ]
  },
  {
   "cell_type": "code",
   "execution_count": 6,
   "metadata": {},
   "outputs": [
    {
     "name": "stdout",
     "output_type": "stream",
     "text": [
      "0.6812522772297129\n"
     ]
    }
   ],
   "source": [
    "print(highest_dewlya)"
   ]
  },
  {
   "cell_type": "code",
   "execution_count": null,
   "metadata": {},
   "outputs": [],
   "source": []
  },
  {
   "cell_type": "code",
   "execution_count": null,
   "metadata": {},
   "outputs": [],
   "source": []
  },
  {
   "cell_type": "code",
   "execution_count": 210,
   "metadata": {},
   "outputs": [
    {
     "name": "stdout",
     "output_type": "stream",
     "text": [
      "The autoreload extension is already loaded. To reload it, use:\n",
      "  %reload_ext autoreload\n"
     ]
    }
   ],
   "source": [
    "%load_ext autoreload\n",
    "%autoreload\n",
    "\n",
    "Muv=Catalog[\"Muv\"]\n",
    "\n",
    "Beta=Catalog[\"slope\"]\n",
    "BInf=BayesInf()\n",
    "BInf.Muv=Muv\n",
    "EW_obs=Catalog[\"EWLya\"]\n",
    "BInf.EW_obs=np.array(EW_obs)\n",
    "dEW=[]\n",
    "for gal in Catalog:\n",
    "    if np.isnan(gal[\"dEWLya\"])==False:\n",
    "        dEW.append(gal[\"dEWLya\"])\n",
    "    else:\n",
    "        #dEW.append(np.nanmedian(Catalog[\"dEWLya\"]))\n",
    "        err=line_equation(gal[\"Muv\"],coefficients)\n",
    "        dEW.append(err)\n",
    "\n",
    "\n",
    "\n",
    "\n",
    "dEW=np.array(dEW)\n",
    "BInf.dEW=dEW\n",
    "Detection_type=Catalog[\"Type\"]\n",
    "wtab=BInf.GenerateWtab_real()\n"
   ]
  },
  {
   "cell_type": "code",
   "execution_count": 211,
   "metadata": {},
   "outputs": [
    {
     "data": {
      "text/plain": [
       "<matplotlib.collections.PathCollection at 0x7fb52f9addc0>"
      ]
     },
     "execution_count": 211,
     "metadata": {},
     "output_type": "execute_result"
    },
    {
     "data": {
      "image/png": "[encoded data removed]",
      "text/plain": [
       "<Figure size 432x288 with 1 Axes>"
      ]
     },
     "metadata": {
      "needs_background": "light"
     },
     "output_type": "display_data"
    }
   ],
   "source": [
    "plt.scatter(EW_obs, dEW)\n",
    "\n"
   ]
  },
  {
   "cell_type": "code",
   "execution_count": 212,
   "metadata": {},
   "outputs": [],
   "source": [
    "def Likelihood(ew,dEW,Wo):\n",
    "    \"\"\"\n",
    "    Likelihood : Probability of having a certain value of EW given the exponential parameters A and Wo\n",
    "\n",
    "    Args:\n",
    "        ew: Equivalent widths observed\n",
    "        A : Parameter exponential (should depend on our other observables, such as uvslope and muv)\n",
    "        Wo : Parameter exponential (should depend on our other observables, such as uvslope and muv)\n",
    "    \"\"\"\n",
    "    A=1\n",
    "    dEW_2 = dEW**2.\n",
    "    p1 = (1. - A) * np.exp(-0.5 * ew**2./dEW_2) / np.sqrt(2.*np.pi) / dEW\n",
    "    X  = (dEW_2/Wo - ew) / np.sqrt(2.) / dEW\n",
    "    p2 = 0.5 * A / Wo * np.exp(0.5*(dEW_2 - 2*ew*Wo)/Wo**2.)*scipy.special.erfc(X)\n",
    "    p = p1 + p2\n",
    "    return p\n",
    "\n",
    "def ParameterModel(physParams,mathParams):\n",
    "    \"\"\"\n",
    "    ParameterModel: Given the physical parameters and the mathematical parameters, it returns the parameter of the model\n",
    "    \n",
    "    Input:\n",
    "    - physParams: Physical parameters (Muv)\n",
    "    - mathParams: Mathematical parameters (Constants of the model A and Wo)\n",
    "    Output:\n",
    "    - Parameter: Parameter of the model A or Wo\n",
    "    \"\"\"\n",
    "    Muv,Beta=physParams\n",
    "    cMuv,cBeta,cte= mathParams[0],mathParams[1],mathParams[2]\n",
    "    Parameter   =   ((Muv+20)*cMuv) + ((Beta+2)*cBeta)  +   cte \n",
    "    return Parameter\n",
    "\n",
    "\n",
    "def LikNoDet(wtab,dew,Wo):\n",
    "        like = Likelihood(wtab,dew,Wo)\n",
    "        return integrate.trapz(like,wtab)\n",
    "\n",
    "\n",
    "def Posterior(ew,dew,physParams,mathParamsW):\n",
    "    \"\"\"\n",
    "    \n",
    "\n",
    "    \"\"\"\n",
    "    Wo=ParameterModel(physParams,mathParamsW)\n",
    "    #probLike=self.Likelihood(ew,A,Wo)\n",
    "    probLike=[]\n",
    "    for i in range(0,len(Detection_type)):\n",
    "        if Detection_type[i]==\"LAE\":\n",
    "            p   =   Likelihood(ew[i],dew[i],Wo[i])\n",
    "        if Detection_type[i]==\"NonDetect\":\n",
    "            p   =   LikNoDet(wtab[i],dew[i],Wo[i])\n",
    "        if np.isnan(p)==True:\n",
    "            continue\n",
    "\n",
    "        probLike.append(p)\n",
    "        \n",
    "    return np.array(probLike)\n",
    "\n",
    "def log_prior(theta,physParams):\n",
    "    # I can put priors here or in the equation in the BInf object \n",
    "    Wuv,Wb,Wc= theta\n",
    "    W =   ParameterModel(physParams,[Wuv,Wb,Wc])\n",
    "    #print(A,W)\n",
    "    if  (W > 0.).all():# and (W < 500.).all():\n",
    "        return 0.0 \n",
    "\n",
    "    return -np.inf\n",
    "\n",
    "def log_likelihood(theta,y,yerr,physParams):\n",
    "    Wuv,Wb,Wc= theta\n",
    "    model = Posterior(y,yerr,physParams,[Wuv,Wb,Wc]) # Does thus have to be exp, so it gets outside the logaritm?\n",
    "\n",
    "    return np.sum(np.log(model))\n",
    "\n",
    "\n",
    "def log_probability(theta, y, yerr,Muv,Beta):\n",
    "    DrawnphysParams=[Muv,Beta]\n",
    "    \n",
    "    lp = log_prior(theta,DrawnphysParams)\n",
    "    if not np.isfinite(lp):\n",
    "        return -np.inf\n",
    "    \n",
    "    lL=log_likelihood(theta, y, yerr,DrawnphysParams)\n",
    "    #print(lL)\n",
    "    if np.isnan(lL)==True:\n",
    "        return -np.inf\n",
    "    else:\n",
    "        return lp + lL"
   ]
  },
  {
   "cell_type": "code",
   "execution_count": 217,
   "metadata": {},
   "outputs": [
    {
     "name": "stderr",
     "output_type": "stream",
     "text": [
      "  0%|          | 4/10000 [00:02<1:27:34,  1.90it/s]<ipython-input-212-867ffd1478ba>:14: RuntimeWarning: overflow encountered in exp\n",
      "  p2 = 0.5 * A / Wo * np.exp(0.5*(dEW_2 - 2*ew*Wo)/Wo**2.)*scipy.special.erfc(X)\n",
      "<ipython-input-212-867ffd1478ba>:14: RuntimeWarning: invalid value encountered in double_scalars\n",
      "  p2 = 0.5 * A / Wo * np.exp(0.5*(dEW_2 - 2*ew*Wo)/Wo**2.)*scipy.special.erfc(X)\n",
      "  0%|          | 14/10000 [00:07<1:27:25,  1.90it/s]<ipython-input-212-867ffd1478ba>:14: RuntimeWarning: overflow encountered in multiply\n",
      "  p2 = 0.5 * A / Wo * np.exp(0.5*(dEW_2 - 2*ew*Wo)/Wo**2.)*scipy.special.erfc(X)\n",
      "<ipython-input-212-867ffd1478ba>:14: RuntimeWarning: invalid value encountered in multiply\n",
      "  p2 = 0.5 * A / Wo * np.exp(0.5*(dEW_2 - 2*ew*Wo)/Wo**2.)*scipy.special.erfc(X)\n",
      " 73%|███████▎  | 7274/10000 [42:50<15:05,  3.01it/s]  <ipython-input-212-867ffd1478ba>:73: RuntimeWarning: divide by zero encountered in log\n",
      "  return np.sum(np.log(model))\n",
      "100%|██████████| 10000/10000 [59:18<00:00,  2.81it/s]\n"
     ]
    },
    {
     "data": {
      "text/plain": [
       "State([[11.50018375 -0.50934995 39.21411957]\n",
       " [ 7.41461275 -4.98798437 34.8061468 ]\n",
       " [13.83954464  3.11359544 41.33264811]\n",
       " [10.58296908  4.85960087 32.97476593]\n",
       " [ 8.79610257 -2.75277326 33.49771414]\n",
       " [11.48392454 -3.11394839 39.5662062 ]\n",
       " [10.25885519 -0.33849187 33.00293467]\n",
       " [12.2892045  -1.20157443 39.9885209 ]\n",
       " [12.24619721 -0.09324359 40.50167673]\n",
       " [ 8.36498173 -1.00494005 28.50567734]\n",
       " [12.24660632 -2.91032124 43.65450091]\n",
       " [ 8.57928365 -2.59406911 32.65001657]\n",
       " [ 7.44416938  1.35472058 33.12899141]\n",
       " [ 9.92361748 -1.76602238 33.88650888]\n",
       " [ 8.95053835 -2.84150427 33.67417018]\n",
       " [10.13968485  1.49701374 31.13587277]\n",
       " [ 9.76987094 -0.74439099 31.93606651]\n",
       " [ 9.3848038  -4.16072902 37.23605081]\n",
       " [10.39350151 -1.55106543 34.32908101]\n",
       " [10.27733884  1.15286522 31.38436484]\n",
       " [ 9.7905501  -0.75680737 33.90518402]\n",
       " [11.25633777 -2.24270002 39.22172468]\n",
       " [10.56441089 -2.80440793 37.63142713]\n",
       " [11.48374901 -0.27582166 37.12947445]\n",
       " [ 8.99379087  0.21747571 30.96496275]], log_prob=[-338.835529   -340.83282617 -340.26977821 -342.26142761 -338.36142227\n",
       " -337.74672961 -337.17291643 -337.58733487 -339.11749667 -340.63447397\n",
       " -340.58695252 -338.61499364 -343.73948497 -336.98352429 -338.1147383\n",
       " -338.95952504 -337.54119541 -338.82843114 -336.5741727  -338.41397336\n",
       " -337.9106376  -337.88256766 -337.45980089 -337.18117269 -339.61918511], blobs=None, random_state=('MT19937', array([1654620996, 4065135194,  541109236, 1693955290,  447090067,\n",
       "       3244063413, 4281462789, 3661314866, 2734049848, 3517372521,\n",
       "       4022937873, 1960041466, 1991060570, 2012211393, 2810553048,\n",
       "        958353876, 2108036201, 3624779934,  687048081,  476129940,\n",
       "       2367895515,  645574243, 1568654939,  805430157, 3473153041,\n",
       "       3706007035, 2908685637,  530236474, 2688130700, 1220735324,\n",
       "       2077353483,  199730369, 2104723447,  617930518, 2575262930,\n",
       "       2970898486, 2034697899, 3749407955,  204044819, 2482920064,\n",
       "       4191012578,  935632678, 2720816971, 2966996056, 1619576479,\n",
       "       3946872664, 2268753998, 3049322118,  348221738,  865614742,\n",
       "       2950413438, 2236314718, 2160965497, 2512420336, 4072409432,\n",
       "       3212782222, 1448198293, 3585004396,  137596308, 2667459717,\n",
       "        229778536, 1276465213, 2124196513, 4176870973, 1975176819,\n",
       "       3395991594, 1923838094,  386772842, 2532660188, 2831130379,\n",
       "       2479547699, 3281120882, 1653088403, 2582638197,  917490365,\n",
       "        959262676,  865750154, 3377497368, 3973062776, 1337081287,\n",
       "       1833482997,  241281631, 3493687768, 2489346186, 2882365917,\n",
       "       3984777413, 1247855043,   99382865, 2446243304, 2438341582,\n",
       "        290747010, 4264197637,   84678145, 2179580418,  684260559,\n",
       "       1962032521, 2672933131, 2997667211,    4822419, 2016551234,\n",
       "       1078708488, 4256349018, 1453425605,  537658048, 3333499211,\n",
       "       2933328674, 1991978961, 3773686596, 1345070079, 1113574826,\n",
       "        952040179,  535822949, 2298369786, 1767976103, 2989846366,\n",
       "       1422228235,  244132563, 2223987780, 3687388732,  227853095,\n",
       "       1745419975, 1741652758, 2755204213, 3405532720,  637626032,\n",
       "        160314254, 3491268581, 2771928393, 1771938007, 1761426575,\n",
       "       3754198454,  302769344, 3232680447,  130428744, 4233994867,\n",
       "       4235937765,  368973834,  385417441, 3343627916, 2894790761,\n",
       "       2317419001, 1476547300,  805631726, 3436168468, 1770092059,\n",
       "        605174591, 3376839816,  168373496, 3909068037, 1656126354,\n",
       "       4257597952, 1734561476,   46588558, 2094587238, 1128524765,\n",
       "        208522740, 1134081839, 1060950235,  244308657,  419888386,\n",
       "       3740575937, 4243236974, 2540878710, 2674954203, 1846128590,\n",
       "       1648123239, 2172963133, 2089667215, 3047730781, 3731239637,\n",
       "       2517532865, 1297922574, 3114064166, 1212286932, 4267484553,\n",
       "       3182161409, 2304060133, 1365618384, 3815029803, 2317700301,\n",
       "        350869980, 3176166241, 3100111315,  277895529,  824792760,\n",
       "       2410353828, 3647251638, 1765832241, 1101032487,  519116426,\n",
       "        613573157,  775806795, 3402983258, 3407874236, 2201174054,\n",
       "       1767026291, 3606665000, 2554558395, 1074107298, 3989160013,\n",
       "       1297581584, 1969633280, 4290262398, 1687573423,  765082014,\n",
       "       3444611744, 1590911337, 2656506423,  391595853,  660426668,\n",
       "       1677223554, 3677587616, 1499538350,   42027400, 1420762047,\n",
       "       3889776608, 1810759097, 1722458971,  842257642, 2199125230,\n",
       "       1396118248, 1886685765, 3546931769, 3598347778, 3919249039,\n",
       "       3546602466, 2917784452, 2366669756,  363925522,  465783166,\n",
       "        632085462,   80987612, 1674429024,  816550370, 1790663672,\n",
       "       1708187222,  916872740, 1509203289, 2812259116,  592807784,\n",
       "       3374494117, 2358909851, 2967044597, 2932727290, 3680047803,\n",
       "        350164867,  772446094, 1528121002, 2312607349,  343844223,\n",
       "       1418720908, 1377480028, 2426493023, 3255674188, 2006548254,\n",
       "       3063522395,  593805610,  133545246, 3461602448, 2474553187,\n",
       "       4050938618,  120306377, 3088014867, 1034873256, 3118447484,\n",
       "        337563929, 1979262384, 1585873413, 2368638252, 3302651186,\n",
       "       4102689517, 3007101715, 2435619638, 3268115436, 2776585556,\n",
       "       3426355673,   90907455, 1262525776,  260778981,  650684770,\n",
       "       3638378199, 1792818301, 3696844108, 3184498325, 2400398879,\n",
       "       2343397642,  652012046, 1471681366, 2157889786, 2538393540,\n",
       "       1780823932, 1433129028, 1438298543, 2674587024, 1602850901,\n",
       "        882377646, 1249592909, 3172504308, 3743101229, 2446509636,\n",
       "       1001137682, 1747179552, 3619094908, 1557219809, 1891881357,\n",
       "       2069734932, 4171773887, 3359855308, 3478016455, 1234813446,\n",
       "        959403032,    1152288,  338721521,  103982539, 3539097271,\n",
       "        359606995, 2556683679, 1248455814, 2248805902,  925866249,\n",
       "       2389968223, 2030080562, 2732638132,   66116994, 3849407984,\n",
       "       1689890795, 2114719095, 2338677895,  907611689, 1206417830,\n",
       "       1168163418,   38365447,   87089398, 1363601620, 1093603177,\n",
       "       2162718234,  741641156, 1350417599, 1331277543,  125181122,\n",
       "       1578485295, 3379930073,  215442199,  246259679, 3053180289,\n",
       "       1507484989, 3271134186, 2210025540, 3902152302, 3525222380,\n",
       "       3250408203, 3245372310,  694560154, 3449394594, 1233698776,\n",
       "       2634495101,   56028773, 3893029027, 1948524182,  404210214,\n",
       "       1851023576,  995192365, 1592235329, 2872034086,  686394055,\n",
       "       3249710883, 4076639201, 3822573025, 2166658536,  437738307,\n",
       "       1335046348, 1621053241,   54644883, 2990649580,   35807055,\n",
       "       4139209128, 3512537614, 1199224672, 1409013269, 3440062638,\n",
       "        662938747, 2458033321, 3897937366, 1980884491, 1993593806,\n",
       "       1955703917,  606484049, 1960401309, 1971790820, 1147650661,\n",
       "       1624697540, 2201739945, 2812477826, 1246371034, 3472818349,\n",
       "       1573532474, 4127519952,  401991933, 1905843875,  364784441,\n",
       "       2789211041,  601623385, 3307642394, 4272237819, 1536861625,\n",
       "       3239190554, 2412757604, 3465796981, 4119970881, 1501697613,\n",
       "       3255558463, 3325852024, 3992550677, 4239997864, 3095636571,\n",
       "       2072032058, 1972243632,  257171378,  757937702, 2907820692,\n",
       "       3794224682, 3202998209, 1304798955,  950095040, 3384199375,\n",
       "       3811846681, 2427356809, 2609155983, 3448405714, 1759631482,\n",
       "       1361329276, 3570997295,  481233773, 1241811905, 1738755403,\n",
       "       2497815250, 2017092071,  867020897, 1353008873, 3563026038,\n",
       "       2967611994, 3002639380, 4071647972, 1944266356,  166601258,\n",
       "       1106584931, 2313001164, 1079007316,  170805895, 4245703798,\n",
       "       1991127954,  455995349, 2685951410, 4234457632, 1049010494,\n",
       "        553429010, 3069866206, 3946387712, 3096064419, 4207755226,\n",
       "       1677007052, 2169396420, 3336411978, 3225267601, 4096078283,\n",
       "        752560790, 3611410098, 3779247007, 1938974341, 1335905359,\n",
       "       1278222593,  365176192,   41010809, 3522262374, 3459408292,\n",
       "        516517888, 3725099605, 1168544291, 3793852650,  623130290,\n",
       "       3052590882, 3588629872, 2611911521, 2605905121, 2377914697,\n",
       "        788904903, 1857164011, 1774665199, 2604434969, 3805367647,\n",
       "       1697309747,  928946289,   80778604, 3554662690, 4172839822,\n",
       "         70274191, 1791554614,  266044179, 1171300510, 3304900348,\n",
       "        644614826, 3168419903, 3712203398, 1851811668, 3020555581,\n",
       "       1430676416, 1752343691,   74430228, 3912930090, 1204282189,\n",
       "        745612058, 3211936771, 1963232735, 2064896457, 4031012759,\n",
       "       2540407974,  881487375, 1728837592, 4015970122, 3916251222,\n",
       "       3223181732,   12702828, 3500507587, 4262054271, 3613155828,\n",
       "       3520150696, 3351350814, 3876163122, 3203311215, 3721771174,\n",
       "        732298607,  938101659,  483316217,  703865756, 4114918416,\n",
       "       3938829216, 2707361178, 1891506855, 1668377152, 3652415180,\n",
       "        235291356, 3743156226, 3420998472, 1010218136, 3071221802,\n",
       "         53993357,  350925542,  628271628, 3134807272,  524399999,\n",
       "       3031514326, 2740235199, 3348644582,  888737054, 1908514095,\n",
       "       2346581795,  546740421, 4176787053, 3534964519,  609778981,\n",
       "       2180174978, 3627516979,  129729222, 3583782232, 4126570098,\n",
       "       4139800410, 1173770170,  680008677, 2484377583, 3402347407,\n",
       "       1709971669,  680797531,  116077792, 2899228009, 3330617410,\n",
       "       2233195163, 3399000621, 1153787818,  682981272,  977962607,\n",
       "       3101608861, 1091754273, 1986942303, 3974796456, 4056419079,\n",
       "       2233336612, 3644892231,  720602082, 1581858166, 2493714242,\n",
       "       3022548285, 2287500076, 2886858978, 4117013554, 3213586801,\n",
       "       2016655362, 1555261400,  724417457, 2579503983, 2854946239,\n",
       "       4092745394, 2211802034, 2883038424, 2955418239,  390291894,\n",
       "       3602339144,  114507553, 4229869888,  537465883, 1502701764,\n",
       "        966392657,  624178560, 2941981918, 2043793773, 3087207146,\n",
       "       1569630206,  969774795,  855110139, 2561703343, 1325024895,\n",
       "       3190756047, 2924655344,  478001976, 2269853042], dtype=uint32), 385, 0, 0.0))"
      ]
     },
     "execution_count": 217,
     "metadata": {},
     "output_type": "execute_result"
    }
   ],
   "source": [
    "steps=10000\n",
    "nwalkers=25\n",
    "\n",
    "#mockParamsA=[0.12,3.2]\n",
    "#mockParamsW=[8,230]\n",
    "\n",
    "#inValuesA=[0.,0,0.5]\n",
    "inValuesW=[0,0,50]\n",
    "\n",
    "inValues=inValuesW\n",
    "\n",
    "\n",
    "pos = inValues+ [3,2,10] * np.random.randn(nwalkers,len(inValues) )\n",
    "nwalkers, ndim = np.shape(pos)\n",
    "\n",
    "#mp_pool = multiproc.ProcessPool(nodes=8)\n",
    "#with mp_pool as pool:\n",
    "sampler = emcee.EnsembleSampler(\n",
    "    nwalkers, ndim, log_probability, args=(EW_obs,dEW,Muv,Beta)\n",
    ")\n",
    "sampler.run_mcmc(pos, steps, progress=True)"
   ]
  },
  {
   "cell_type": "code",
   "execution_count": 218,
   "metadata": {},
   "outputs": [
    {
     "data": {
      "image/png": "[encoded data removed]",
      "text/plain": [
       "<Figure size 720x504 with 3 Axes>"
      ]
     },
     "metadata": {
      "needs_background": "light"
     },
     "output_type": "display_data"
    }
   ],
   "source": [
    "dis=1000\n",
    "labels = [r\"W$_{\\mathrm{UV}}$\",r\"W$_{\\mathrm{\\beta}}$\",r\"W$_{\\mathrm{c}}$\"]\n",
    "fig, axes = plt.subplots(len(labels), figsize=(10, 7), sharex=True)\n",
    "samples = sampler.get_chain(discard=dis)\n",
    "logProb=sampler.get_log_prob(discard=dis)\n",
    "maskWalkers=[False if np.isinf(logProb[steps-dis-10,i]) else True for i in range(0,nwalkers)]\n",
    "samples=np.array([s[maskWalkers] for s in samples])\n",
    "for i in range(len(labels)):\n",
    "    ax = axes[i]\n",
    "    ax.plot(samples[:, :, i], \"k\", alpha=0.3)\n",
    "    ax.set_xlim(0, len(samples))\n",
    "    ax.set_ylabel(labels[i])\n",
    "    ax.yaxis.set_label_coords(-0.1, 0.5)\n",
    "axes[-1].set_xlabel(\"step number\")\n",
    "plt.show()\n",
    "\n",
    "\n"
   ]
  },
  {
   "cell_type": "code",
   "execution_count": 219,
   "metadata": {},
   "outputs": [
    {
     "name": "stdout",
     "output_type": "stream",
     "text": [
      "(225000, 3)\n"
     ]
    },
    {
     "data": {
      "image/png": "[encoded data removed]",
      "text/plain": [
       "<Figure size 547.2x547.2 with 9 Axes>"
      ]
     },
     "metadata": {
      "needs_background": "light"
     },
     "output_type": "display_data"
    },
    {
     "data": {
      "text/latex": [
       "$\\displaystyle \\mathrm{W_{UV}} = 10.519_{-1.241}^{1.228}$"
      ],
      "text/plain": [
       "<IPython.core.display.Math object>"
      ]
     },
     "metadata": {},
     "output_type": "display_data"
    },
    {
     "data": {
      "text/latex": [
       "$\\displaystyle \\mathrm{W_b} = -1.285_{-1.680}^{2.312}$"
      ],
      "text/plain": [
       "<IPython.core.display.Math object>"
      ]
     },
     "metadata": {},
     "output_type": "display_data"
    },
    {
     "data": {
      "text/latex": [
       "$\\displaystyle \\mathrm{W_c} = 35.918_{-2.830}^{3.142}$"
      ],
      "text/plain": [
       "<IPython.core.display.Math object>"
      ]
     },
     "metadata": {},
     "output_type": "display_data"
    }
   ],
   "source": [
    "import corner\n",
    "from palettable import cmocean\n",
    "import matplotlib.pyplot as plt\n",
    "\n",
    "\n",
    "ndim=len(labels)\n",
    "samples = sampler.get_chain(discard=dis)\n",
    "samples=np.array([s[maskWalkers] for s in samples])\n",
    "samples=samples.reshape(np.shape(samples)[0]*np.shape(samples)[1],np.shape(samples)[2])\n",
    "print(np.shape(samples))\n",
    "\n",
    "cmap=cmocean.sequential.Matter_3_r.mpl_colormap\n",
    "\n",
    "labels = [r\"W$_{\\mathrm{UV}}$\",r\"W$_{\\mathrm{\\beta}}$\",r\"W$_{\\mathrm{c}}$\"]\n",
    "\n",
    "fig = corner.corner(\n",
    "    samples, labels=labels,quantiles=[.16,.50,.84],label_kwargs={\"fontsize\": 20},color=cmap(0.1), show_titles=True, title_kwargs={\"fontsize\": 15}\n",
    ")\n",
    "axes = np.array(fig.axes).reshape((ndim, ndim))\n",
    "for i in range(ndim):\n",
    "    for j in range(ndim):\n",
    "        ax = axes[i, j]\n",
    "        ax.tick_params(axis='both', direction='inout', length=5, width=1., which='both', top=True, right=True, labelsize=18)\n",
    "\n",
    "plt.rcParams[\"figure.figsize\"] = (30, 8)\n",
    "\n",
    "plt.savefig(\"/Users/gonzalo/Desktop/Code/Gonzalo_Binospec/A-Project/E-Plots/MakeFigures/Figures/CornerPlot.png\",dpi=300,bbox_inches='tight')\n",
    "plt.show()\n",
    "labels = [\"W_{UV}\",\"W_b\",\"W_c\"]\n",
    "\n",
    "results=[]\n",
    "r16,r84=[],[]\n",
    "for i in range(ndim):\n",
    "    mcmc = np.percentile(samples[:, i], [16, 50, 84])\n",
    "    results.append(mcmc[1])\n",
    "    r16.append(mcmc[0])\n",
    "    r84.append(mcmc[2])\n",
    "    q = np.diff(mcmc)\n",
    "    txt = \"\\mathrm{{{3}}} = {0:.3f}_{{-{1:.3f}}}^{{{2:.3f}}}\"\n",
    "    txt = txt.format(mcmc[1], q[0], q[1], labels[i])\n",
    "    display(Math(txt))\n",
    "    "
   ]
  },
  {
   "cell_type": "code",
   "execution_count": null,
   "metadata": {},
   "outputs": [],
   "source": []
  },
  {
   "cell_type": "code",
   "execution_count": 50,
   "metadata": {},
   "outputs": [
    {
     "name": "stdout",
     "output_type": "stream",
     "text": [
      "The autoreload extension is already loaded. To reload it, use:\n",
      "  %reload_ext autoreload\n"
     ]
    },
    {
     "data": {
      "image/png": "[encoded data removed]",
      "text/plain": [
       "<Figure size 432x288 with 1 Axes>"
      ]
     },
     "metadata": {
      "needs_background": "light"
     },
     "output_type": "display_data"
    },
    {
     "name": "stdout",
     "output_type": "stream",
     "text": [
      "Median True values : \n",
      "Median Result values : \n",
      "A :  0.9385140500559692\n",
      "W0 :  33.85099284148528\n"
     ]
    },
    {
     "data": {
      "image/png": "[encoded data removed]",
      "text/plain": [
       "<Figure size 432x288 with 1 Axes>"
      ]
     },
     "metadata": {
      "needs_background": "light"
     },
     "output_type": "display_data"
    },
    {
     "data": {
      "image/png": "[encoded data removed]",
      "text/plain": [
       "<Figure size 432x288 with 1 Axes>"
      ]
     },
     "metadata": {
      "needs_background": "light"
     },
     "output_type": "display_data"
    }
   ],
   "source": [
    "%load_ext autoreload\n",
    "%autoreload\n",
    "\n",
    "mParamsA=results[:2]\n",
    "mParamsW=results[2:]\n",
    "\n",
    "#print(\"Initial : \")\n",
    "#print(mockParamsA[0]*np.nanmedian(BInf.Muv)+mockParamsA[1]*np.nanmedian(BInf.UVslope)+mockParamsA[2])\n",
    "#print(mockParamsW[0]*np.nanmedian(BInf.Muv) + mockParamsW[1]*np.nanmedian(BInf.UVslope) +mockParamsW[2])\n",
    "\n",
    "#,probSets,As,Ws=BInf.GenerateMockDataConvolved(mockParamsA,mockParamsW)\n",
    "#for prob in probSets[:]:\n",
    "#    plt.plot(x,prob,color=\"black\",alpha=0.05)\n",
    "#    #plt.ylim(-0.001,0.05)\n",
    "#    #plt.xlim(-100,300)\n",
    "#    plt.xlabel(\"EW [A]\")\n",
    "#plt.plot(x,prob,color=\"black\",alpha=0.05,label=\"TrueAs\")\n",
    "#TrueAs=np.array(As)\n",
    "#TrueWs=np.array(Ws)\n",
    "\n",
    "\n",
    "\n",
    "\n",
    "x,probSets,As,Ws=BInf.GenerateMockDataConvolved_real(mParamsA,mParamsW)\n",
    "for prob in probSets[:]:\n",
    "    plt.plot(x,prob,color=\"red\",alpha=0.05)\n",
    "    plt.ylim(-0.001,0.05)\n",
    "    plt.xlim(-50,300)\n",
    "    plt.xlabel(\"EW [A]\")\n",
    "    plt.title(\"results\")\n",
    "plt.hist(BInf.EW_obs,bins=10,density=True,range=[-50,300])\n",
    "plt.plot(x,prob,color=\"red\",alpha=0.05,label=\"ResultAs\")\n",
    "plt.legend()\n",
    "plt.show()\n",
    "\n",
    "resultAs=np.array(As)\n",
    "resultWs=np.array(Ws)\n",
    "mParamsA=r16[:2]\n",
    "mParamsW=r16[2:]\n",
    "x,probSets,As,Ws=BInf.GenerateMockDataConvolved_real(mParamsA,mParamsW)\n",
    "r16As=np.array(As)\n",
    "r16Ws=np.array(Ws)\n",
    "mParamsA=r84[:2]\n",
    "mParamsW=r84[2:]\n",
    "x,probSets,As,Ws=BInf.GenerateMockDataConvolved_real(mParamsA,mParamsW)\n",
    "r84As=np.array(As)\n",
    "r84Ws=np.array(Ws)\n",
    "\n",
    "print(\"Median True values : \")\n",
    "#print(\"A : \",np.median(TrueAs))\n",
    "#print(\"W0 : \",np.median(TrueWs))\n",
    "\n",
    "print(\"Median Result values : \")\n",
    "print(\"A : \",np.median(resultAs))\n",
    "print(\"W0 : \",np.median(resultWs))\n",
    "\n",
    "#plt.hist(TrueAs,label=\"True\",range=[0.4,1])\n",
    "plt.hist(As,label=\"result\",alpha=0.8,range=[0.4,1])\n",
    "plt.xlabel(\"A\")\n",
    "plt.legend()\n",
    "plt.show()\n",
    "\n",
    "#plt.hist(TrueWs,label=\"True\",range=[30,100])\n",
    "plt.hist(Ws,label=\"result\",alpha=0.8,range=[30,100])\n",
    "plt.xlabel(\"W\")\n",
    "plt.legend()\n",
    "plt.show()\n",
    "\n"
   ]
  },
  {
   "cell_type": "code",
   "execution_count": 206,
   "metadata": {},
   "outputs": [
    {
     "data": {
      "image/png": "[encoded data removed]",
      "text/plain": [
       "<Figure size 540x504 with 1 Axes>"
      ]
     },
     "metadata": {},
     "output_type": "display_data"
    },
    {
     "data": {
      "image/png": "[encoded data removed]",
      "text/plain": [
       "<Figure size 540x504 with 1 Axes>"
      ]
     },
     "metadata": {},
     "output_type": "display_data"
    }
   ],
   "source": [
    "plt.errorbar(TrueWs,resultWs,yerr=resultWs-r16Ws,fmt=\"o\")\n",
    "plt.plot([40,90],[40,90],color=\"black\")\n",
    "plt.xlabel(\"True W\")\n",
    "plt.ylabel(\"Result W\")\n",
    "plt.show()\n",
    "\n",
    "plt.errorbar(TrueAs,resultAs,yerr=resultAs-r16As,fmt=\"o\")\n",
    "plt.plot([0.4,1],[0.4,1],color=\"black\")\n",
    "plt.xlabel(\"True A\")\n",
    "plt.ylabel(\"Result A\")\n",
    "plt.show()"
   ]
  },
  {
   "cell_type": "code",
   "execution_count": 190,
   "metadata": {},
   "outputs": [
    {
     "data": {
      "text/plain": [
       "[0.09478523709390935, 0.4997505479897571, 5.056698362165138, 66.41316215539557]"
      ]
     },
     "execution_count": 190,
     "metadata": {},
     "output_type": "execute_result"
    }
   ],
   "source": [
    "results"
   ]
  },
  {
   "cell_type": "code",
   "execution_count": 61,
   "metadata": {},
   "outputs": [
    {
     "data": {
      "image/png": "[encoded data removed]",
      "text/plain": [
       "<Figure size 540x504 with 1 Axes>"
      ]
     },
     "metadata": {},
     "output_type": "display_data"
    },
    {
     "name": "stderr",
     "output_type": "stream",
     "text": [
      "<ipython-input-61-d256421bfd9d>:22: RuntimeWarning: More than 20 figures have been opened. Figures created through the pyplot interface (`matplotlib.pyplot.figure`) are retained until explicitly closed and may consume too much memory. (To control this warning, see the rcParam `figure.max_open_warning`).\n",
      "  fig, ax = plt.subplots()\n"
     ]
    },
    {
     "data": {
      "text/plain": [
       "<Figure size 540x504 with 0 Axes>"
      ]
     },
     "metadata": {},
     "output_type": "display_data"
    },
    {
     "data": {
      "text/plain": [
       "<Figure size 540x504 with 0 Axes>"
      ]
     },
     "metadata": {},
     "output_type": "display_data"
    },
    {
     "data": {
      "text/plain": [
       "<Figure size 540x504 with 0 Axes>"
      ]
     },
     "metadata": {},
     "output_type": "display_data"
    },
    {
     "data": {
      "text/plain": [
       "<Figure size 540x504 with 0 Axes>"
      ]
     },
     "metadata": {},
     "output_type": "display_data"
    },
    {
     "data": {
      "text/plain": [
       "<Figure size 540x504 with 0 Axes>"
      ]
     },
     "metadata": {},
     "output_type": "display_data"
    },
    {
     "data": {
      "text/plain": [
       "<Figure size 540x504 with 0 Axes>"
      ]
     },
     "metadata": {},
     "output_type": "display_data"
    },
    {
     "data": {
      "text/plain": [
       "<Figure size 540x504 with 0 Axes>"
      ]
     },
     "metadata": {},
     "output_type": "display_data"
    },
    {
     "data": {
      "text/plain": [
       "<Figure size 540x504 with 0 Axes>"
      ]
     },
     "metadata": {},
     "output_type": "display_data"
    },
    {
     "data": {
      "text/plain": [
       "<Figure size 540x504 with 0 Axes>"
      ]
     },
     "metadata": {},
     "output_type": "display_data"
    },
    {
     "data": {
      "text/plain": [
       "<Figure size 540x504 with 0 Axes>"
      ]
     },
     "metadata": {},
     "output_type": "display_data"
    },
    {
     "data": {
      "text/plain": [
       "<Figure size 540x504 with 0 Axes>"
      ]
     },
     "metadata": {},
     "output_type": "display_data"
    },
    {
     "data": {
      "text/plain": [
       "<Figure size 540x504 with 0 Axes>"
      ]
     },
     "metadata": {},
     "output_type": "display_data"
    },
    {
     "data": {
      "text/plain": [
       "<Figure size 540x504 with 0 Axes>"
      ]
     },
     "metadata": {},
     "output_type": "display_data"
    },
    {
     "data": {
      "text/plain": [
       "<Figure size 540x504 with 0 Axes>"
      ]
     },
     "metadata": {},
     "output_type": "display_data"
    },
    {
     "data": {
      "text/plain": [
       "<Figure size 540x504 with 0 Axes>"
      ]
     },
     "metadata": {},
     "output_type": "display_data"
    },
    {
     "data": {
      "text/plain": [
       "<Figure size 540x504 with 0 Axes>"
      ]
     },
     "metadata": {},
     "output_type": "display_data"
    },
    {
     "data": {
      "text/plain": [
       "<Figure size 540x504 with 0 Axes>"
      ]
     },
     "metadata": {},
     "output_type": "display_data"
    },
    {
     "data": {
      "text/plain": [
       "<Figure size 540x504 with 0 Axes>"
      ]
     },
     "metadata": {},
     "output_type": "display_data"
    },
    {
     "data": {
      "text/plain": [
       "<Figure size 540x504 with 0 Axes>"
      ]
     },
     "metadata": {},
     "output_type": "display_data"
    },
    {
     "data": {
      "text/plain": [
       "<Figure size 540x504 with 0 Axes>"
      ]
     },
     "metadata": {},
     "output_type": "display_data"
    },
    {
     "data": {
      "text/plain": [
       "<Figure size 540x504 with 0 Axes>"
      ]
     },
     "metadata": {},
     "output_type": "display_data"
    },
    {
     "data": {
      "text/plain": [
       "<Figure size 540x504 with 0 Axes>"
      ]
     },
     "metadata": {},
     "output_type": "display_data"
    },
    {
     "data": {
      "text/plain": [
       "<Figure size 540x504 with 0 Axes>"
      ]
     },
     "metadata": {},
     "output_type": "display_data"
    },
    {
     "data": {
      "text/plain": [
       "<Figure size 540x504 with 0 Axes>"
      ]
     },
     "metadata": {},
     "output_type": "display_data"
    },
    {
     "data": {
      "text/plain": [
       "<Figure size 540x504 with 0 Axes>"
      ]
     },
     "metadata": {},
     "output_type": "display_data"
    },
    {
     "data": {
      "text/plain": [
       "<Figure size 540x504 with 0 Axes>"
      ]
     },
     "metadata": {},
     "output_type": "display_data"
    },
    {
     "data": {
      "text/plain": [
       "<Figure size 540x504 with 0 Axes>"
      ]
     },
     "metadata": {},
     "output_type": "display_data"
    },
    {
     "data": {
      "text/plain": [
       "<Figure size 540x504 with 0 Axes>"
      ]
     },
     "metadata": {},
     "output_type": "display_data"
    },
    {
     "data": {
      "text/plain": [
       "<Figure size 540x504 with 0 Axes>"
      ]
     },
     "metadata": {},
     "output_type": "display_data"
    },
    {
     "data": {
      "text/plain": [
       "<Figure size 540x504 with 0 Axes>"
      ]
     },
     "metadata": {},
     "output_type": "display_data"
    },
    {
     "data": {
      "text/plain": [
       "<Figure size 540x504 with 0 Axes>"
      ]
     },
     "metadata": {},
     "output_type": "display_data"
    },
    {
     "data": {
      "text/plain": [
       "<Figure size 540x504 with 0 Axes>"
      ]
     },
     "metadata": {},
     "output_type": "display_data"
    },
    {
     "data": {
      "text/plain": [
       "<Figure size 540x504 with 0 Axes>"
      ]
     },
     "metadata": {},
     "output_type": "display_data"
    },
    {
     "data": {
      "text/plain": [
       "<Figure size 540x504 with 0 Axes>"
      ]
     },
     "metadata": {},
     "output_type": "display_data"
    },
    {
     "data": {
      "text/plain": [
       "<Figure size 540x504 with 0 Axes>"
      ]
     },
     "metadata": {},
     "output_type": "display_data"
    },
    {
     "data": {
      "text/plain": [
       "<Figure size 540x504 with 0 Axes>"
      ]
     },
     "metadata": {},
     "output_type": "display_data"
    },
    {
     "data": {
      "text/plain": [
       "<Figure size 540x504 with 0 Axes>"
      ]
     },
     "metadata": {},
     "output_type": "display_data"
    },
    {
     "data": {
      "text/plain": [
       "<Figure size 540x504 with 0 Axes>"
      ]
     },
     "metadata": {},
     "output_type": "display_data"
    },
    {
     "data": {
      "text/plain": [
       "<Figure size 540x504 with 0 Axes>"
      ]
     },
     "metadata": {},
     "output_type": "display_data"
    },
    {
     "data": {
      "text/plain": [
       "<Figure size 540x504 with 0 Axes>"
      ]
     },
     "metadata": {},
     "output_type": "display_data"
    },
    {
     "data": {
      "text/plain": [
       "<Figure size 540x504 with 0 Axes>"
      ]
     },
     "metadata": {},
     "output_type": "display_data"
    },
    {
     "data": {
      "text/plain": [
       "<Figure size 540x504 with 0 Axes>"
      ]
     },
     "metadata": {},
     "output_type": "display_data"
    },
    {
     "data": {
      "text/plain": [
       "<Figure size 540x504 with 0 Axes>"
      ]
     },
     "metadata": {},
     "output_type": "display_data"
    },
    {
     "data": {
      "text/plain": [
       "<Figure size 540x504 with 0 Axes>"
      ]
     },
     "metadata": {},
     "output_type": "display_data"
    },
    {
     "data": {
      "text/plain": [
       "<Figure size 540x504 with 0 Axes>"
      ]
     },
     "metadata": {},
     "output_type": "display_data"
    },
    {
     "data": {
      "text/plain": [
       "<Figure size 540x504 with 0 Axes>"
      ]
     },
     "metadata": {},
     "output_type": "display_data"
    },
    {
     "data": {
      "text/plain": [
       "<Figure size 540x504 with 0 Axes>"
      ]
     },
     "metadata": {},
     "output_type": "display_data"
    },
    {
     "data": {
      "text/plain": [
       "<Figure size 540x504 with 0 Axes>"
      ]
     },
     "metadata": {},
     "output_type": "display_data"
    },
    {
     "data": {
      "text/plain": [
       "<Figure size 540x504 with 0 Axes>"
      ]
     },
     "metadata": {},
     "output_type": "display_data"
    },
    {
     "data": {
      "text/plain": [
       "<Figure size 540x504 with 0 Axes>"
      ]
     },
     "metadata": {},
     "output_type": "display_data"
    },
    {
     "data": {
      "text/plain": [
       "<Figure size 540x504 with 0 Axes>"
      ]
     },
     "metadata": {},
     "output_type": "display_data"
    },
    {
     "data": {
      "text/plain": [
       "<Figure size 540x504 with 0 Axes>"
      ]
     },
     "metadata": {},
     "output_type": "display_data"
    },
    {
     "data": {
      "text/plain": [
       "<Figure size 540x504 with 0 Axes>"
      ]
     },
     "metadata": {},
     "output_type": "display_data"
    },
    {
     "data": {
      "text/plain": [
       "<Figure size 540x504 with 0 Axes>"
      ]
     },
     "metadata": {},
     "output_type": "display_data"
    },
    {
     "data": {
      "text/plain": [
       "<Figure size 540x504 with 0 Axes>"
      ]
     },
     "metadata": {},
     "output_type": "display_data"
    },
    {
     "data": {
      "text/plain": [
       "<Figure size 540x504 with 0 Axes>"
      ]
     },
     "metadata": {},
     "output_type": "display_data"
    },
    {
     "data": {
      "text/plain": [
       "<Figure size 540x504 with 0 Axes>"
      ]
     },
     "metadata": {},
     "output_type": "display_data"
    },
    {
     "data": {
      "text/plain": [
       "<Figure size 540x504 with 0 Axes>"
      ]
     },
     "metadata": {},
     "output_type": "display_data"
    },
    {
     "data": {
      "text/plain": [
       "<Figure size 540x504 with 0 Axes>"
      ]
     },
     "metadata": {},
     "output_type": "display_data"
    },
    {
     "data": {
      "text/plain": [
       "<Figure size 540x504 with 0 Axes>"
      ]
     },
     "metadata": {},
     "output_type": "display_data"
    },
    {
     "data": {
      "text/plain": [
       "<Figure size 540x504 with 0 Axes>"
      ]
     },
     "metadata": {},
     "output_type": "display_data"
    },
    {
     "data": {
      "text/plain": [
       "<Figure size 540x504 with 0 Axes>"
      ]
     },
     "metadata": {},
     "output_type": "display_data"
    },
    {
     "data": {
      "text/plain": [
       "<Figure size 540x504 with 0 Axes>"
      ]
     },
     "metadata": {},
     "output_type": "display_data"
    },
    {
     "data": {
      "text/plain": [
       "<Figure size 540x504 with 0 Axes>"
      ]
     },
     "metadata": {},
     "output_type": "display_data"
    },
    {
     "data": {
      "text/plain": [
       "<Figure size 540x504 with 0 Axes>"
      ]
     },
     "metadata": {},
     "output_type": "display_data"
    },
    {
     "data": {
      "text/plain": [
       "<Figure size 540x504 with 0 Axes>"
      ]
     },
     "metadata": {},
     "output_type": "display_data"
    },
    {
     "data": {
      "text/plain": [
       "<Figure size 540x504 with 0 Axes>"
      ]
     },
     "metadata": {},
     "output_type": "display_data"
    },
    {
     "data": {
      "text/plain": [
       "<Figure size 540x504 with 0 Axes>"
      ]
     },
     "metadata": {},
     "output_type": "display_data"
    },
    {
     "data": {
      "text/plain": [
       "<Figure size 540x504 with 0 Axes>"
      ]
     },
     "metadata": {},
     "output_type": "display_data"
    },
    {
     "data": {
      "text/plain": [
       "<Figure size 540x504 with 0 Axes>"
      ]
     },
     "metadata": {},
     "output_type": "display_data"
    },
    {
     "data": {
      "text/plain": [
       "<Figure size 540x504 with 0 Axes>"
      ]
     },
     "metadata": {},
     "output_type": "display_data"
    },
    {
     "data": {
      "text/plain": [
       "<Figure size 540x504 with 0 Axes>"
      ]
     },
     "metadata": {},
     "output_type": "display_data"
    },
    {
     "data": {
      "text/plain": [
       "<Figure size 540x504 with 0 Axes>"
      ]
     },
     "metadata": {},
     "output_type": "display_data"
    },
    {
     "data": {
      "text/plain": [
       "<Figure size 540x504 with 0 Axes>"
      ]
     },
     "metadata": {},
     "output_type": "display_data"
    },
    {
     "data": {
      "text/plain": [
       "<Figure size 540x504 with 0 Axes>"
      ]
     },
     "metadata": {},
     "output_type": "display_data"
    },
    {
     "data": {
      "text/plain": [
       "<Figure size 540x504 with 0 Axes>"
      ]
     },
     "metadata": {},
     "output_type": "display_data"
    },
    {
     "data": {
      "text/plain": [
       "<Figure size 540x504 with 0 Axes>"
      ]
     },
     "metadata": {},
     "output_type": "display_data"
    },
    {
     "data": {
      "text/plain": [
       "<Figure size 540x504 with 0 Axes>"
      ]
     },
     "metadata": {},
     "output_type": "display_data"
    },
    {
     "data": {
      "text/plain": [
       "<Figure size 540x504 with 0 Axes>"
      ]
     },
     "metadata": {},
     "output_type": "display_data"
    },
    {
     "data": {
      "text/plain": [
       "<Figure size 540x504 with 0 Axes>"
      ]
     },
     "metadata": {},
     "output_type": "display_data"
    },
    {
     "data": {
      "text/plain": [
       "<Figure size 540x504 with 0 Axes>"
      ]
     },
     "metadata": {},
     "output_type": "display_data"
    },
    {
     "data": {
      "text/plain": [
       "<Figure size 540x504 with 0 Axes>"
      ]
     },
     "metadata": {},
     "output_type": "display_data"
    },
    {
     "data": {
      "text/plain": [
       "<Figure size 540x504 with 0 Axes>"
      ]
     },
     "metadata": {},
     "output_type": "display_data"
    },
    {
     "data": {
      "text/plain": [
       "<Figure size 540x504 with 0 Axes>"
      ]
     },
     "metadata": {},
     "output_type": "display_data"
    },
    {
     "data": {
      "text/plain": [
       "<Figure size 540x504 with 0 Axes>"
      ]
     },
     "metadata": {},
     "output_type": "display_data"
    },
    {
     "data": {
      "text/plain": [
       "<Figure size 540x504 with 0 Axes>"
      ]
     },
     "metadata": {},
     "output_type": "display_data"
    },
    {
     "data": {
      "text/plain": [
       "<Figure size 540x504 with 0 Axes>"
      ]
     },
     "metadata": {},
     "output_type": "display_data"
    },
    {
     "data": {
      "text/plain": [
       "<Figure size 540x504 with 0 Axes>"
      ]
     },
     "metadata": {},
     "output_type": "display_data"
    },
    {
     "data": {
      "text/plain": [
       "<Figure size 540x504 with 0 Axes>"
      ]
     },
     "metadata": {},
     "output_type": "display_data"
    },
    {
     "data": {
      "text/plain": [
       "<Figure size 540x504 with 0 Axes>"
      ]
     },
     "metadata": {},
     "output_type": "display_data"
    },
    {
     "data": {
      "text/plain": [
       "<Figure size 540x504 with 0 Axes>"
      ]
     },
     "metadata": {},
     "output_type": "display_data"
    },
    {
     "data": {
      "text/plain": [
       "<Figure size 540x504 with 0 Axes>"
      ]
     },
     "metadata": {},
     "output_type": "display_data"
    },
    {
     "data": {
      "text/plain": [
       "<Figure size 540x504 with 0 Axes>"
      ]
     },
     "metadata": {},
     "output_type": "display_data"
    },
    {
     "data": {
      "text/plain": [
       "<Figure size 540x504 with 0 Axes>"
      ]
     },
     "metadata": {},
     "output_type": "display_data"
    },
    {
     "data": {
      "text/plain": [
       "<Figure size 540x504 with 0 Axes>"
      ]
     },
     "metadata": {},
     "output_type": "display_data"
    },
    {
     "data": {
      "text/plain": [
       "<Figure size 540x504 with 0 Axes>"
      ]
     },
     "metadata": {},
     "output_type": "display_data"
    },
    {
     "data": {
      "text/plain": [
       "<Figure size 540x504 with 0 Axes>"
      ]
     },
     "metadata": {},
     "output_type": "display_data"
    },
    {
     "data": {
      "text/plain": [
       "<Figure size 540x504 with 0 Axes>"
      ]
     },
     "metadata": {},
     "output_type": "display_data"
    },
    {
     "data": {
      "text/plain": [
       "<Figure size 540x504 with 0 Axes>"
      ]
     },
     "metadata": {},
     "output_type": "display_data"
    },
    {
     "data": {
      "text/plain": [
       "<Figure size 540x504 with 0 Axes>"
      ]
     },
     "metadata": {},
     "output_type": "display_data"
    },
    {
     "data": {
      "text/plain": [
       "<Figure size 540x504 with 0 Axes>"
      ]
     },
     "metadata": {},
     "output_type": "display_data"
    },
    {
     "data": {
      "text/plain": [
       "<Figure size 540x504 with 0 Axes>"
      ]
     },
     "metadata": {},
     "output_type": "display_data"
    },
    {
     "data": {
      "text/plain": [
       "<Figure size 540x504 with 0 Axes>"
      ]
     },
     "metadata": {},
     "output_type": "display_data"
    },
    {
     "data": {
      "text/plain": [
       "<Figure size 540x504 with 0 Axes>"
      ]
     },
     "metadata": {},
     "output_type": "display_data"
    },
    {
     "data": {
      "text/plain": [
       "<Figure size 540x504 with 0 Axes>"
      ]
     },
     "metadata": {},
     "output_type": "display_data"
    },
    {
     "data": {
      "text/plain": [
       "<Figure size 540x504 with 0 Axes>"
      ]
     },
     "metadata": {},
     "output_type": "display_data"
    },
    {
     "data": {
      "text/plain": [
       "<Figure size 540x504 with 0 Axes>"
      ]
     },
     "metadata": {},
     "output_type": "display_data"
    },
    {
     "data": {
      "text/plain": [
       "<Figure size 540x504 with 0 Axes>"
      ]
     },
     "metadata": {},
     "output_type": "display_data"
    },
    {
     "data": {
      "text/plain": [
       "<Figure size 540x504 with 0 Axes>"
      ]
     },
     "metadata": {},
     "output_type": "display_data"
    },
    {
     "data": {
      "text/plain": [
       "<Figure size 540x504 with 0 Axes>"
      ]
     },
     "metadata": {},
     "output_type": "display_data"
    },
    {
     "data": {
      "text/plain": [
       "<Figure size 540x504 with 0 Axes>"
      ]
     },
     "metadata": {},
     "output_type": "display_data"
    },
    {
     "data": {
      "text/plain": [
       "<Figure size 540x504 with 0 Axes>"
      ]
     },
     "metadata": {},
     "output_type": "display_data"
    },
    {
     "data": {
      "text/plain": [
       "<Figure size 540x504 with 0 Axes>"
      ]
     },
     "metadata": {},
     "output_type": "display_data"
    },
    {
     "data": {
      "text/plain": [
       "<Figure size 540x504 with 0 Axes>"
      ]
     },
     "metadata": {},
     "output_type": "display_data"
    },
    {
     "data": {
      "text/plain": [
       "<Figure size 540x504 with 0 Axes>"
      ]
     },
     "metadata": {},
     "output_type": "display_data"
    },
    {
     "data": {
      "text/plain": [
       "<Figure size 540x504 with 0 Axes>"
      ]
     },
     "metadata": {},
     "output_type": "display_data"
    },
    {
     "data": {
      "text/plain": [
       "<Figure size 540x504 with 0 Axes>"
      ]
     },
     "metadata": {},
     "output_type": "display_data"
    },
    {
     "data": {
      "text/plain": [
       "<Figure size 540x504 with 0 Axes>"
      ]
     },
     "metadata": {},
     "output_type": "display_data"
    },
    {
     "data": {
      "text/plain": [
       "<Figure size 540x504 with 0 Axes>"
      ]
     },
     "metadata": {},
     "output_type": "display_data"
    },
    {
     "data": {
      "text/plain": [
       "<Figure size 540x504 with 0 Axes>"
      ]
     },
     "metadata": {},
     "output_type": "display_data"
    },
    {
     "data": {
      "text/plain": [
       "<Figure size 540x504 with 0 Axes>"
      ]
     },
     "metadata": {},
     "output_type": "display_data"
    },
    {
     "data": {
      "text/plain": [
       "<Figure size 540x504 with 0 Axes>"
      ]
     },
     "metadata": {},
     "output_type": "display_data"
    },
    {
     "data": {
      "text/plain": [
       "<Figure size 540x504 with 0 Axes>"
      ]
     },
     "metadata": {},
     "output_type": "display_data"
    },
    {
     "data": {
      "text/plain": [
       "<Figure size 540x504 with 0 Axes>"
      ]
     },
     "metadata": {},
     "output_type": "display_data"
    },
    {
     "data": {
      "text/plain": [
       "<Figure size 540x504 with 0 Axes>"
      ]
     },
     "metadata": {},
     "output_type": "display_data"
    },
    {
     "data": {
      "text/plain": [
       "<Figure size 540x504 with 0 Axes>"
      ]
     },
     "metadata": {},
     "output_type": "display_data"
    },
    {
     "data": {
      "text/plain": [
       "<Figure size 540x504 with 0 Axes>"
      ]
     },
     "metadata": {},
     "output_type": "display_data"
    },
    {
     "data": {
      "text/plain": [
       "<Figure size 540x504 with 0 Axes>"
      ]
     },
     "metadata": {},
     "output_type": "display_data"
    },
    {
     "data": {
      "text/plain": [
       "<Figure size 540x504 with 0 Axes>"
      ]
     },
     "metadata": {},
     "output_type": "display_data"
    },
    {
     "data": {
      "text/plain": [
       "<Figure size 540x504 with 0 Axes>"
      ]
     },
     "metadata": {},
     "output_type": "display_data"
    },
    {
     "data": {
      "text/plain": [
       "<Figure size 540x504 with 0 Axes>"
      ]
     },
     "metadata": {},
     "output_type": "display_data"
    },
    {
     "data": {
      "text/plain": [
       "<Figure size 540x504 with 0 Axes>"
      ]
     },
     "metadata": {},
     "output_type": "display_data"
    },
    {
     "data": {
      "text/plain": [
       "<Figure size 540x504 with 0 Axes>"
      ]
     },
     "metadata": {},
     "output_type": "display_data"
    },
    {
     "data": {
      "text/plain": [
       "<Figure size 540x504 with 0 Axes>"
      ]
     },
     "metadata": {},
     "output_type": "display_data"
    },
    {
     "data": {
      "text/plain": [
       "<Figure size 540x504 with 0 Axes>"
      ]
     },
     "metadata": {},
     "output_type": "display_data"
    },
    {
     "data": {
      "text/plain": [
       "<Figure size 540x504 with 0 Axes>"
      ]
     },
     "metadata": {},
     "output_type": "display_data"
    },
    {
     "data": {
      "text/plain": [
       "<Figure size 540x504 with 0 Axes>"
      ]
     },
     "metadata": {},
     "output_type": "display_data"
    },
    {
     "data": {
      "text/plain": [
       "<Figure size 540x504 with 0 Axes>"
      ]
     },
     "metadata": {},
     "output_type": "display_data"
    },
    {
     "data": {
      "text/plain": [
       "<Figure size 540x504 with 0 Axes>"
      ]
     },
     "metadata": {},
     "output_type": "display_data"
    },
    {
     "data": {
      "text/plain": [
       "<Figure size 540x504 with 0 Axes>"
      ]
     },
     "metadata": {},
     "output_type": "display_data"
    },
    {
     "data": {
      "text/plain": [
       "<Figure size 540x504 with 0 Axes>"
      ]
     },
     "metadata": {},
     "output_type": "display_data"
    },
    {
     "data": {
      "text/plain": [
       "<Figure size 540x504 with 0 Axes>"
      ]
     },
     "metadata": {},
     "output_type": "display_data"
    },
    {
     "data": {
      "text/plain": [
       "<Figure size 540x504 with 0 Axes>"
      ]
     },
     "metadata": {},
     "output_type": "display_data"
    },
    {
     "data": {
      "text/plain": [
       "<Figure size 540x504 with 0 Axes>"
      ]
     },
     "metadata": {},
     "output_type": "display_data"
    },
    {
     "data": {
      "text/plain": [
       "<Figure size 540x504 with 0 Axes>"
      ]
     },
     "metadata": {},
     "output_type": "display_data"
    },
    {
     "data": {
      "text/plain": [
       "<Figure size 540x504 with 0 Axes>"
      ]
     },
     "metadata": {},
     "output_type": "display_data"
    },
    {
     "data": {
      "text/plain": [
       "<Figure size 540x504 with 0 Axes>"
      ]
     },
     "metadata": {},
     "output_type": "display_data"
    },
    {
     "data": {
      "text/plain": [
       "<Figure size 540x504 with 0 Axes>"
      ]
     },
     "metadata": {},
     "output_type": "display_data"
    },
    {
     "data": {
      "text/plain": [
       "<Figure size 540x504 with 0 Axes>"
      ]
     },
     "metadata": {},
     "output_type": "display_data"
    },
    {
     "data": {
      "text/plain": [
       "<Figure size 540x504 with 0 Axes>"
      ]
     },
     "metadata": {},
     "output_type": "display_data"
    },
    {
     "data": {
      "text/plain": [
       "<Figure size 540x504 with 0 Axes>"
      ]
     },
     "metadata": {},
     "output_type": "display_data"
    },
    {
     "data": {
      "text/plain": [
       "<Figure size 540x504 with 0 Axes>"
      ]
     },
     "metadata": {},
     "output_type": "display_data"
    },
    {
     "data": {
      "text/plain": [
       "<Figure size 540x504 with 0 Axes>"
      ]
     },
     "metadata": {},
     "output_type": "display_data"
    },
    {
     "data": {
      "text/plain": [
       "<Figure size 540x504 with 0 Axes>"
      ]
     },
     "metadata": {},
     "output_type": "display_data"
    },
    {
     "data": {
      "text/plain": [
       "<Figure size 540x504 with 0 Axes>"
      ]
     },
     "metadata": {},
     "output_type": "display_data"
    },
    {
     "data": {
      "text/plain": [
       "<Figure size 540x504 with 0 Axes>"
      ]
     },
     "metadata": {},
     "output_type": "display_data"
    },
    {
     "data": {
      "text/plain": [
       "<Figure size 540x504 with 0 Axes>"
      ]
     },
     "metadata": {},
     "output_type": "display_data"
    },
    {
     "data": {
      "text/plain": [
       "<Figure size 540x504 with 0 Axes>"
      ]
     },
     "metadata": {},
     "output_type": "display_data"
    },
    {
     "data": {
      "text/plain": [
       "<Figure size 540x504 with 0 Axes>"
      ]
     },
     "metadata": {},
     "output_type": "display_data"
    },
    {
     "data": {
      "text/plain": [
       "<Figure size 540x504 with 0 Axes>"
      ]
     },
     "metadata": {},
     "output_type": "display_data"
    },
    {
     "data": {
      "text/plain": [
       "<Figure size 540x504 with 0 Axes>"
      ]
     },
     "metadata": {},
     "output_type": "display_data"
    },
    {
     "data": {
      "text/plain": [
       "<Figure size 540x504 with 0 Axes>"
      ]
     },
     "metadata": {},
     "output_type": "display_data"
    },
    {
     "data": {
      "text/plain": [
       "<Figure size 540x504 with 0 Axes>"
      ]
     },
     "metadata": {},
     "output_type": "display_data"
    },
    {
     "data": {
      "text/plain": [
       "<Figure size 540x504 with 0 Axes>"
      ]
     },
     "metadata": {},
     "output_type": "display_data"
    },
    {
     "data": {
      "text/plain": [
       "<Figure size 540x504 with 0 Axes>"
      ]
     },
     "metadata": {},
     "output_type": "display_data"
    },
    {
     "data": {
      "text/plain": [
       "<Figure size 540x504 with 0 Axes>"
      ]
     },
     "metadata": {},
     "output_type": "display_data"
    },
    {
     "data": {
      "text/plain": [
       "<Figure size 540x504 with 0 Axes>"
      ]
     },
     "metadata": {},
     "output_type": "display_data"
    },
    {
     "data": {
      "text/plain": [
       "<Figure size 540x504 with 0 Axes>"
      ]
     },
     "metadata": {},
     "output_type": "display_data"
    },
    {
     "data": {
      "text/plain": [
       "<Figure size 540x504 with 0 Axes>"
      ]
     },
     "metadata": {},
     "output_type": "display_data"
    },
    {
     "data": {
      "text/plain": [
       "<Figure size 540x504 with 0 Axes>"
      ]
     },
     "metadata": {},
     "output_type": "display_data"
    },
    {
     "data": {
      "text/plain": [
       "<Figure size 540x504 with 0 Axes>"
      ]
     },
     "metadata": {},
     "output_type": "display_data"
    },
    {
     "data": {
      "text/plain": [
       "<Figure size 540x504 with 0 Axes>"
      ]
     },
     "metadata": {},
     "output_type": "display_data"
    },
    {
     "data": {
      "text/plain": [
       "<Figure size 540x504 with 0 Axes>"
      ]
     },
     "metadata": {},
     "output_type": "display_data"
    },
    {
     "data": {
      "text/plain": [
       "<Figure size 540x504 with 0 Axes>"
      ]
     },
     "metadata": {},
     "output_type": "display_data"
    },
    {
     "data": {
      "text/plain": [
       "<Figure size 540x504 with 0 Axes>"
      ]
     },
     "metadata": {},
     "output_type": "display_data"
    },
    {
     "data": {
      "text/plain": [
       "<Figure size 540x504 with 0 Axes>"
      ]
     },
     "metadata": {},
     "output_type": "display_data"
    },
    {
     "data": {
      "text/plain": [
       "<Figure size 540x504 with 0 Axes>"
      ]
     },
     "metadata": {},
     "output_type": "display_data"
    },
    {
     "data": {
      "text/plain": [
       "<Figure size 540x504 with 0 Axes>"
      ]
     },
     "metadata": {},
     "output_type": "display_data"
    },
    {
     "data": {
      "text/plain": [
       "<Figure size 540x504 with 0 Axes>"
      ]
     },
     "metadata": {},
     "output_type": "display_data"
    },
    {
     "data": {
      "text/plain": [
       "<Figure size 540x504 with 0 Axes>"
      ]
     },
     "metadata": {},
     "output_type": "display_data"
    },
    {
     "data": {
      "text/plain": [
       "<Figure size 540x504 with 0 Axes>"
      ]
     },
     "metadata": {},
     "output_type": "display_data"
    },
    {
     "data": {
      "text/plain": [
       "<Figure size 540x504 with 0 Axes>"
      ]
     },
     "metadata": {},
     "output_type": "display_data"
    },
    {
     "data": {
      "text/plain": [
       "<Figure size 540x504 with 0 Axes>"
      ]
     },
     "metadata": {},
     "output_type": "display_data"
    },
    {
     "data": {
      "text/plain": [
       "<Figure size 540x504 with 0 Axes>"
      ]
     },
     "metadata": {},
     "output_type": "display_data"
    },
    {
     "data": {
      "text/plain": [
       "<Figure size 540x504 with 0 Axes>"
      ]
     },
     "metadata": {},
     "output_type": "display_data"
    },
    {
     "data": {
      "text/plain": [
       "<Figure size 540x504 with 0 Axes>"
      ]
     },
     "metadata": {},
     "output_type": "display_data"
    },
    {
     "data": {
      "text/plain": [
       "<Figure size 540x504 with 0 Axes>"
      ]
     },
     "metadata": {},
     "output_type": "display_data"
    },
    {
     "data": {
      "text/plain": [
       "<Figure size 540x504 with 0 Axes>"
      ]
     },
     "metadata": {},
     "output_type": "display_data"
    },
    {
     "data": {
      "text/plain": [
       "<Figure size 540x504 with 0 Axes>"
      ]
     },
     "metadata": {},
     "output_type": "display_data"
    },
    {
     "data": {
      "text/plain": [
       "<Figure size 540x504 with 0 Axes>"
      ]
     },
     "metadata": {},
     "output_type": "display_data"
    },
    {
     "data": {
      "text/plain": [
       "<Figure size 540x504 with 0 Axes>"
      ]
     },
     "metadata": {},
     "output_type": "display_data"
    },
    {
     "data": {
      "text/plain": [
       "<Figure size 540x504 with 0 Axes>"
      ]
     },
     "metadata": {},
     "output_type": "display_data"
    },
    {
     "data": {
      "text/plain": [
       "<Figure size 540x504 with 0 Axes>"
      ]
     },
     "metadata": {},
     "output_type": "display_data"
    },
    {
     "data": {
      "text/plain": [
       "<Figure size 540x504 with 0 Axes>"
      ]
     },
     "metadata": {},
     "output_type": "display_data"
    },
    {
     "data": {
      "text/plain": [
       "<Figure size 540x504 with 0 Axes>"
      ]
     },
     "metadata": {},
     "output_type": "display_data"
    },
    {
     "data": {
      "text/plain": [
       "<Figure size 540x504 with 0 Axes>"
      ]
     },
     "metadata": {},
     "output_type": "display_data"
    },
    {
     "data": {
      "text/plain": [
       "<Figure size 540x504 with 0 Axes>"
      ]
     },
     "metadata": {},
     "output_type": "display_data"
    },
    {
     "data": {
      "text/plain": [
       "<Figure size 540x504 with 0 Axes>"
      ]
     },
     "metadata": {},
     "output_type": "display_data"
    },
    {
     "data": {
      "text/plain": [
       "<Figure size 540x504 with 0 Axes>"
      ]
     },
     "metadata": {},
     "output_type": "display_data"
    },
    {
     "data": {
      "text/plain": [
       "<Figure size 540x504 with 0 Axes>"
      ]
     },
     "metadata": {},
     "output_type": "display_data"
    },
    {
     "data": {
      "text/plain": [
       "<Figure size 540x504 with 0 Axes>"
      ]
     },
     "metadata": {},
     "output_type": "display_data"
    },
    {
     "data": {
      "text/plain": [
       "<Figure size 540x504 with 0 Axes>"
      ]
     },
     "metadata": {},
     "output_type": "display_data"
    },
    {
     "data": {
      "text/plain": [
       "<Figure size 540x504 with 0 Axes>"
      ]
     },
     "metadata": {},
     "output_type": "display_data"
    },
    {
     "data": {
      "text/plain": [
       "<Figure size 540x504 with 0 Axes>"
      ]
     },
     "metadata": {},
     "output_type": "display_data"
    },
    {
     "data": {
      "text/plain": [
       "<Figure size 540x504 with 0 Axes>"
      ]
     },
     "metadata": {},
     "output_type": "display_data"
    },
    {
     "data": {
      "text/plain": [
       "<Figure size 540x504 with 0 Axes>"
      ]
     },
     "metadata": {},
     "output_type": "display_data"
    },
    {
     "data": {
      "text/plain": [
       "<Figure size 540x504 with 0 Axes>"
      ]
     },
     "metadata": {},
     "output_type": "display_data"
    },
    {
     "data": {
      "text/plain": [
       "<Figure size 540x504 with 0 Axes>"
      ]
     },
     "metadata": {},
     "output_type": "display_data"
    },
    {
     "data": {
      "text/plain": [
       "<Figure size 540x504 with 0 Axes>"
      ]
     },
     "metadata": {},
     "output_type": "display_data"
    },
    {
     "data": {
      "text/plain": [
       "<Figure size 540x504 with 0 Axes>"
      ]
     },
     "metadata": {},
     "output_type": "display_data"
    },
    {
     "data": {
      "text/plain": [
       "<Figure size 540x504 with 0 Axes>"
      ]
     },
     "metadata": {},
     "output_type": "display_data"
    },
    {
     "data": {
      "text/plain": [
       "<Figure size 540x504 with 0 Axes>"
      ]
     },
     "metadata": {},
     "output_type": "display_data"
    },
    {
     "data": {
      "text/plain": [
       "<Figure size 540x504 with 0 Axes>"
      ]
     },
     "metadata": {},
     "output_type": "display_data"
    },
    {
     "data": {
      "text/plain": [
       "<Figure size 540x504 with 0 Axes>"
      ]
     },
     "metadata": {},
     "output_type": "display_data"
    },
    {
     "data": {
      "text/plain": [
       "<Figure size 540x504 with 0 Axes>"
      ]
     },
     "metadata": {},
     "output_type": "display_data"
    },
    {
     "data": {
      "text/plain": [
       "<Figure size 540x504 with 0 Axes>"
      ]
     },
     "metadata": {},
     "output_type": "display_data"
    },
    {
     "data": {
      "text/plain": [
       "<Figure size 540x504 with 0 Axes>"
      ]
     },
     "metadata": {},
     "output_type": "display_data"
    },
    {
     "data": {
      "text/plain": [
       "<Figure size 540x504 with 0 Axes>"
      ]
     },
     "metadata": {},
     "output_type": "display_data"
    },
    {
     "data": {
      "text/plain": [
       "<Figure size 540x504 with 0 Axes>"
      ]
     },
     "metadata": {},
     "output_type": "display_data"
    },
    {
     "data": {
      "text/plain": [
       "<Figure size 540x504 with 0 Axes>"
      ]
     },
     "metadata": {},
     "output_type": "display_data"
    },
    {
     "data": {
      "text/plain": [
       "<Figure size 540x504 with 0 Axes>"
      ]
     },
     "metadata": {},
     "output_type": "display_data"
    },
    {
     "data": {
      "text/plain": [
       "<Figure size 540x504 with 0 Axes>"
      ]
     },
     "metadata": {},
     "output_type": "display_data"
    },
    {
     "data": {
      "text/plain": [
       "<Figure size 540x504 with 0 Axes>"
      ]
     },
     "metadata": {},
     "output_type": "display_data"
    },
    {
     "data": {
      "text/plain": [
       "<Figure size 540x504 with 0 Axes>"
      ]
     },
     "metadata": {},
     "output_type": "display_data"
    },
    {
     "data": {
      "text/plain": [
       "<Figure size 540x504 with 0 Axes>"
      ]
     },
     "metadata": {},
     "output_type": "display_data"
    },
    {
     "data": {
      "text/plain": [
       "<Figure size 540x504 with 0 Axes>"
      ]
     },
     "metadata": {},
     "output_type": "display_data"
    },
    {
     "data": {
      "text/plain": [
       "<Figure size 540x504 with 0 Axes>"
      ]
     },
     "metadata": {},
     "output_type": "display_data"
    },
    {
     "data": {
      "text/plain": [
       "<Figure size 540x504 with 0 Axes>"
      ]
     },
     "metadata": {},
     "output_type": "display_data"
    },
    {
     "data": {
      "text/plain": [
       "<Figure size 540x504 with 0 Axes>"
      ]
     },
     "metadata": {},
     "output_type": "display_data"
    },
    {
     "data": {
      "text/plain": [
       "<Figure size 540x504 with 0 Axes>"
      ]
     },
     "metadata": {},
     "output_type": "display_data"
    },
    {
     "data": {
      "text/plain": [
       "<Figure size 540x504 with 0 Axes>"
      ]
     },
     "metadata": {},
     "output_type": "display_data"
    },
    {
     "data": {
      "text/plain": [
       "<Figure size 540x504 with 0 Axes>"
      ]
     },
     "metadata": {},
     "output_type": "display_data"
    },
    {
     "data": {
      "text/plain": [
       "<Figure size 540x504 with 0 Axes>"
      ]
     },
     "metadata": {},
     "output_type": "display_data"
    },
    {
     "data": {
      "text/plain": [
       "<Figure size 540x504 with 0 Axes>"
      ]
     },
     "metadata": {},
     "output_type": "display_data"
    },
    {
     "data": {
      "text/plain": [
       "<Figure size 540x504 with 0 Axes>"
      ]
     },
     "metadata": {},
     "output_type": "display_data"
    },
    {
     "data": {
      "text/plain": [
       "<Figure size 540x504 with 0 Axes>"
      ]
     },
     "metadata": {},
     "output_type": "display_data"
    }
   ],
   "source": [
    "import imageio\n",
    "from PIL import Image\n",
    "\n",
    "results_transposed = np.transpose(results)\n",
    "plt.rcParams[\"figure.figsize\"] = (7.5,7.)\n",
    "sns.set_theme(style=\"ticks\",font_scale=1.8)\n",
    "\n",
    "#x,probSets1,As,Ws=BInf.GenerateMockDataConvolved(mockParamsA,mockParamsW)\n",
    "#plt.scatter(As,Ws)\n",
    "x2,probSets2,Asr,Wsr=BInf.GenerateMockDataConvolved_real([np.median(results_transposed[0]),np.median(results_transposed[1])],[np.median(results_transposed[2]),np.median(results_transposed[3])])\n",
    "plt.scatter(Asr,Wsr)\n",
    "plt.show()\n",
    "# Create a list to store the images\n",
    "images = []\n",
    "\n",
    "# Loop through the probSets1 and probSets2\n",
    "delay = 1.5\n",
    "\n",
    "# Loop through the probSets1 and probSets2\n",
    "for p2, muv,a,w,ar,wr in zip( probSets2, BInf.Muv,As,Ws,Asr,Wsr):\n",
    "    # Create a new figure\n",
    "    fig, ax = plt.subplots()\n",
    "    \n",
    "    # Plot p1 and p2\n",
    "    ax.plot(x, p2,lw=5, label='Result')\n",
    "    ax.set_xlim(-50, 200)\n",
    "    #ax.set_ylim(0, 0.013)\n",
    "    # Add text for Muv in the top right corner\n",
    "    ax.text(0.95, 0.85, f'Muv: {np.round(muv,1)}', transform=ax.transAxes, ha='right', va='top')\n",
    "    ax.text(0.95, 0.75, f'A: {np.round(a,2)}', transform=ax.transAxes, ha='right', va='top')\n",
    "    ax.text(0.95, 0.65, f'W: {np.round(w,1)}', transform=ax.transAxes, ha='right', va='top')\n",
    "    #ax.text(0.95, 0.65, f'Ares: {ar}', transform=ax.transAxes, ha='right', va='top')\n",
    "    #ax.text(0.95, 0.55, f'Wres: {wr}', transform=ax.transAxes, ha='right', va='top')\n",
    "    # Save the figure as an image\n",
    "    plt.legend()\n",
    "    ax.set_xlabel(r\"EW$_{\\mathrm{Ly\\alpha}}$ [A]\")\n",
    "    ax.set_ylabel(r\"P(EW$_{\\mathrm{Ly\\alpha}}$|Muv)\")\n",
    "    plt.tight_layout()\n",
    "\n",
    "    fig.canvas.draw()\n",
    "    image = Image.frombytes('RGB', fig.canvas.get_width_height(), fig.canvas.tostring_rgb())\n",
    "    images.append(image)\n",
    "    plt.clf()\n",
    " \n",
    "# Save the images as a GIF with a slower frame rate\n",
    "imageio.mimsave('plots_real.gif', images, duration=delay)\n"
   ]
  },
  {
   "cell_type": "code",
   "execution_count": null,
   "metadata": {},
   "outputs": [],
   "source": [
    "steps=1000\n",
    "nwalkers=10\n",
    "\n",
    "#mockParamsA=[0.12,3.2]\n",
    "#mockParamsW=[8,230]\n",
    "\n",
    "inValuesA=[0.,0.9]\n",
    "inValuesW=[0,50]\n",
    "\n",
    "inValues=inValuesA+inValuesW\n",
    "\n",
    "All_results=[]\n",
    "for i in range(0,1):\n",
    "    pos = inValues+ [0.01,0.2,1,30] * np.random.randn(nwalkers,len(inValues) )\n",
    "    nwalkers, ndim = np.shape(pos)\n",
    "\n",
    "    #mp_pool = multiproc.ProcessPool(nodes=8)\n",
    "    #with mp_pool as pool:\n",
    "    sampler = emcee.EnsembleSampler(\n",
    "        nwalkers, ndim, log_probability, args=(EW_obs , dEW,)\n",
    "    )\n",
    "    sampler.run_mcmc(pos, steps, progress=True)\n",
    "\n",
    "\n",
    "    dis=200\n",
    "    labels = [\"Auv\",\"Ac\",\"Wuv\",\"Wc\"]\n",
    "    fig, axes = plt.subplots(len(labels), figsize=(10, 7), sharex=True)\n",
    "    samples = sampler.get_chain(discard=dis)\n",
    "    logProb=sampler.get_log_prob(discard=dis)\n",
    "    maskWalkers=[False if np.isinf(logProb[steps-dis-10,i]) else True for i in range(0,nwalkers)]\n",
    "    samples=np.array([s[maskWalkers] for s in samples])\n",
    "    for i in range(len(labels)):\n",
    "        ax = axes[i]\n",
    "        ax.plot(samples[:, :, i], \"k\", alpha=0.3)\n",
    "        ax.set_xlim(0, len(samples))\n",
    "        ax.set_ylabel(labels[i])\n",
    "        ax.yaxis.set_label_coords(-0.1, 0.5)\n",
    "    axes[-1].set_xlabel(\"step number\")\n",
    "    plt.show()\n",
    "\n",
    "\n",
    "    ndim=len(labels)\n",
    "    samples = sampler.get_chain(discard=dis)\n",
    "    samples=np.array([s[maskWalkers] for s in samples])\n",
    "    samples=samples.reshape(np.shape(samples)[0]*np.shape(samples)[1],np.shape(samples)[2])\n",
    "    print(np.shape(samples))\n",
    "\n",
    "\n",
    "    fig = corner.corner(\n",
    "        samples, labels=labels,quantiles=[.16,.50,.84],truths=[*mockParamsA,*mockParamsW]\n",
    "    )\n",
    "    plt.show()\n",
    "\n",
    "    results=[]\n",
    "    r16,r84=[],[]\n",
    "    for i in range(ndim):\n",
    "        mcmc = np.percentile(samples[:, i], [16, 50, 84])\n",
    "        results.append(mcmc[1])\n",
    "        r16.append(mcmc[0])\n",
    "        r84.append(mcmc[2])\n",
    "        q = np.diff(mcmc)\n",
    "        txt = \"\\mathrm{{{3}}} = {0:.3f}_{{-{1:.3f}}}^{{{2:.3f}}}\"\n",
    "        txt = txt.format(mcmc[1], q[0], q[1], labels[i])\n",
    "        display(Math(txt))\n",
    "\n",
    "    All_results.append(results)"
   ]
  },
  {
   "cell_type": "code",
   "execution_count": null,
   "metadata": {},
   "outputs": [],
   "source": [
    "%load_ext autoreload\n",
    "%autoreload\n",
    "\n",
    "mParamsA=results[:2]\n",
    "mParamsW=results[2:]\n",
    "\n",
    "#print(\"Initial : \")\n",
    "#print(mockParamsA[0]*np.nanmedian(BInf.Muv)+mockParamsA[1]*np.nanmedian(BInf.UVslope)+mockParamsA[2])\n",
    "#print(mockParamsW[0]*np.nanmedian(BInf.Muv) + mockParamsW[1]*np.nanmedian(BInf.UVslope) +mockParamsW[2])\n",
    "\n",
    "x1,probSets1,As,Ws=BInf.GenerateMockDataConvolved(mockParamsA,mockParamsW)\n",
    "for prob in probSets1[:]:\n",
    "    plt.plot(x,prob,color=\"black\",alpha=0.05)\n",
    "    #plt.ylim(-0.001,0.05)\n",
    "    #plt.xlim(-100,300)\n",
    "    plt.xlabel(\"EW [A]\")\n",
    "plt.plot(x,prob,color=\"black\",alpha=0.8,label=\"TrueAs\")\n",
    "TrueAs=np.array(As)\n",
    "TrueWs=np.array(Ws)\n",
    "\n",
    "\n",
    "\n",
    "\n",
    "x2,probSets2,As,Ws=BInf.GenerateMockDataConvolved(mParamsA,mParamsW)\n",
    "for prob in probSets2[:]:\n",
    "    plt.plot(x,prob,color=\"red\",alpha=0.05)\n",
    "    #plt.ylim(-0.001,0.05)\n",
    "    #plt.xlim(-100,300)\n",
    "    plt.xlabel(\"EW [A]\")\n",
    "    plt.title(\"results\")\n",
    "plt.plot(x,prob,color=\"red\",alpha=0.8,label=\"ResultAs\")\n",
    "plt.legend()\n",
    "plt.show()\n",
    "\n",
    "\n",
    "\n",
    "\n",
    "import imageio\n",
    "from PIL import Image\n",
    "\n",
    "# Create a list to store the images\n",
    "images = []\n",
    "\n",
    "# Loop through the probSets1 and probSets2\n",
    "for p1, p2 in zip(probSets1, probSets2):\n",
    "    # Create a new figure\n",
    "    fig, ax = plt.subplots()\n",
    "    \n",
    "    # Plot p1 and p2\n",
    "    ax.plot(x, p1)\n",
    "    ax.plot(x, p2)\n",
    "    ax.set_xlim(-10, 200)\n",
    "    \n",
    "    # Save the figure as an image\n",
    "    fig.canvas.draw()\n",
    "    image = Image.frombytes('RGB', fig.canvas.get_width_height(), fig.canvas.tostring_rgb())\n",
    "    images.append(image)\n",
    "    plt.close(fig)\n",
    "\n",
    "# Save the images as a GIF\n",
    "imageio.mimsave('plots.gif', images)\n",
    "\n",
    "resultAs=np.array(As)\n",
    "resultWs=np.array(Ws)\n",
    "mParamsA=r16[:2]\n",
    "mParamsW=r16[2:]\n",
    "x,probSets,As,Ws=BInf.GenerateMockDataConvolved(mParamsA,mParamsW)\n",
    "r16As=np.array(As)\n",
    "r16Ws=np.array(Ws)\n",
    "mParamsA=r84[:2]\n",
    "mParamsW=r84[2:]\n",
    "x,probSets,As,Ws=BInf.GenerateMockDataConvolved(mParamsA,mParamsW)\n",
    "r84As=np.array(As)\n",
    "r84Ws=np.array(Ws)\n",
    "\n",
    "print(\"Median True values : \")\n",
    "print(\"A : \",np.median(TrueAs))\n",
    "print(\"W0 : \",np.median(TrueWs))\n",
    "\n",
    "print(\"Median Result values : \")\n",
    "print(\"A : \",np.median(resultAs))\n",
    "print(\"W0 : \",np.median(resultWs))\n",
    "\n",
    "plt.hist(TrueAs,label=\"True\",range=[0.4,1])\n",
    "plt.hist(As,label=\"result\",alpha=0.8,range=[0.4,1])\n",
    "plt.xlabel(\"A\")\n",
    "plt.legend()\n",
    "plt.show()\n",
    "\n",
    "plt.hist(TrueWs,label=\"True\",range=[30,100])\n",
    "plt.hist(Ws,label=\"result\",alpha=0.8,range=[30,100])\n",
    "plt.xlabel(\"W\")\n",
    "plt.legend()\n",
    "plt.show()\n"
   ]
  },
  {
   "cell_type": "code",
   "execution_count": null,
   "metadata": {},
   "outputs": [],
   "source": []
  },
  {
   "cell_type": "code",
   "execution_count": null,
   "metadata": {},
   "outputs": [],
   "source": [
    "plt.errorbar(TrueWs,resultWs,yerr=resultWs-r16Ws,fmt=\"o\")\n",
    "plt.plot([40,90],[40,90],color=\"black\")\n",
    "plt.xlabel(\"True W\")\n",
    "plt.ylabel(\"Result W\")\n",
    "plt.show()\n",
    "\n",
    "plt.errorbar(TrueAs,resultAs,yerr=resultAs-r16As,fmt=\"o\")\n",
    "plt.plot([0.4,1],[0.4,1],color=\"black\")\n",
    "plt.xlabel(\"True A\")\n",
    "plt.ylabel(\"Result A\")\n",
    "plt.show()"
   ]
  },
  {
   "cell_type": "code",
   "execution_count": null,
   "metadata": {},
   "outputs": [],
   "source": [
    "for iiii in range(0,50):    \n",
    "    steps=3000\n",
    "    nwalkers=10\n",
    "\n",
    "    #mockParamsA=[0.12,3.2]\n",
    "    #mockParamsW=[8,230]\n",
    "\n",
    "    inValuesA=[0.,0.9]\n",
    "    inValuesW=[0,50]\n",
    "\n",
    "    inValues=inValuesA+inValuesW\n",
    "\n",
    "\n",
    "    pos = inValues+ [0.01,0.2,1,30] * np.random.randn(nwalkers,len(inValues) )\n",
    "    nwalkers, ndim = np.shape(pos)\n",
    "\n",
    "    #mp_pool = multiproc.ProcessPool(nodes=8)\n",
    "    #with mp_pool as pool:\n",
    "    sampler = emcee.EnsembleSampler(\n",
    "        nwalkers, ndim, log_probability, args=(EW_obs , dEW,)\n",
    "    )\n",
    "    sampler.run_mcmc(pos, steps, progress=True)\n",
    "\n",
    "\n",
    "\n",
    "\n",
    "    dis=1000\n",
    "    labels = [\"Auv\",\"Ac\",\"Wuv\",\"Wc\"]\n",
    "    fig, axes = plt.subplots(len(labels), figsize=(10, 7), sharex=True)\n",
    "    samples = sampler.get_chain(discard=dis)\n",
    "    logProb=sampler.get_log_prob(discard=dis)\n",
    "    maskWalkers=[False if np.isinf(logProb[steps-dis-10,i]) else True for i in range(0,nwalkers)]\n",
    "    samples=np.array([s[maskWalkers] for s in samples])\n",
    "    for i in range(len(labels)):\n",
    "        ax = axes[i]\n",
    "        ax.plot(samples[:, :, i], \"k\", alpha=0.3)\n",
    "        ax.set_xlim(0, len(samples))\n",
    "        ax.set_ylabel(labels[i])\n",
    "        ax.yaxis.set_label_coords(-0.1, 0.5)\n",
    "    axes[-1].set_xlabel(\"step number\")\n",
    "    plt.show()\n",
    "\n",
    "\n",
    "\n",
    "    ndim=len(labels)\n",
    "    samples = sampler.get_chain(discard=dis)\n",
    "    samples=np.array([s[maskWalkers] for s in samples])\n",
    "    np.save(\"results/samples\"+str(iiii)+\".npy\",samples)\n",
    "    samples=samples.reshape(np.shape(samples)[0]*np.shape(samples)[1],np.shape(samples)[2])\n",
    "    print(np.shape(samples))\n",
    "\n",
    "\n",
    "    fig = corner.corner(\n",
    "        samples, labels=labels,quantiles=[.16,.50,.84],truths=[*mockParamsA,*mockParamsW]\n",
    "    )\n",
    "    plt.show()\n",
    "\n",
    "    results=[]\n",
    "    r16,r84=[],[]\n",
    "    for i in range(ndim):\n",
    "        mcmc = np.percentile(samples[:, i], [16, 50, 84])\n",
    "        results.append(mcmc[1])\n",
    "        r16.append(mcmc[0])\n",
    "        r84.append(mcmc[2])\n",
    "        q = np.diff(mcmc)\n",
    "        txt = \"\\mathrm{{{3}}} = {0:.3f}_{{-{1:.3f}}}^{{{2:.3f}}}\"\n",
    "        txt = txt.format(mcmc[1], q[0], q[1], labels[i])\n",
    "        display(Math(txt))\n",
    "\n",
    "\n",
    "    np.save(\"results_uplim/results\"+str(iiii)+\".npy\",results)"
   ]
  },
  {
   "cell_type": "code",
   "execution_count": null,
   "metadata": {},
   "outputs": [],
   "source": [
    "import glob\n",
    "resultados=glob.glob(\"results_uplim/results*.npy\")\n",
    "\n",
    "results=[]\n",
    "for res in resultados:\n",
    "    results.append(np.load(res))\n",
    "\n",
    "resultWs=[]\n",
    "resultAs=[]\n",
    "for r in results:\n",
    "    Amuv,Ac=r[0],r[1]\n",
    "    Wmuv,Wc=r[2],r[3]                                                                                                      \n",
    "    __,__,As,Ws=BInf.GenerateMockDataConvolved([Amuv,Ac],[Wmuv,Wc])\n",
    "    resultWs.append(Ws)\n",
    "    resultAs.append(As)"
   ]
  },
  {
   "cell_type": "code",
   "execution_count": null,
   "metadata": {},
   "outputs": [],
   "source": [
    "\n",
    "for rW,rA in zip(resultWs,resultAs):\n",
    "    plt.errorbar(TrueWs,rW,fmt=\"-\",alpha=0.5,color=\"black\")\n",
    "    plt.plot([40,90],[40,90],color=\"black\",ls=\"--\")\n",
    "    plt.xlabel(\"True W\")\n",
    "    plt.ylabel(\"Result W\")\n",
    "plt.show()\n",
    "for rW,rA in zip(resultWs,resultAs):\n",
    "    plt.errorbar(TrueAs,rA,alpha=0.5,fmt=\"-\",color=\"black\")\n",
    "    plt.plot([0.4,1],[0.4,1],color=\"black\",ls=\"--\")\n",
    "    plt.xlabel(\"True A\")\n",
    "    plt.ylabel(\"Result A\")\n",
    "plt.show()\n"
   ]
  },
  {
   "cell_type": "code",
   "execution_count": null,
   "metadata": {},
   "outputs": [],
   "source": [
    "mParamsA=results[:2]\n",
    "mParamsW=results[2:]\n",
    "\n",
    "#print(\"Initial : \")\n",
    "#print(mockParamsA[0]*np.nanmedian(BInf.Muv)+mockParamsA[1]*np.nanmedian(BInf.UVslope)+mockParamsA[2])\n",
    "#print(mockParamsW[0]*np.nanmedian(BInf.Muv) + mockParamsW[1]*np.nanmedian(BInf.UVslope) +mockParamsW[2])\n",
    "\n",
    "x,probSets,As,Ws=BInf.GenerateMockData(mockParamsA,mockParamsW)\n",
    "for prob in probSets[:]:\n",
    "    plt.plot(x,prob,color=\"black\",alpha=0.05)\n",
    "    #plt.ylim(-0.001,0.05)\n",
    "    #plt.xlim(-100,300)\n",
    "    plt.xlabel(\"EW [A]\")\n",
    "plt.plot(x,prob,color=\"black\",alpha=0.05,label=\"TrueAs\")\n",
    "TrueAs=np.array(As)\n",
    "TrueWs=np.array(Ws)"
   ]
  },
  {
   "cell_type": "code",
   "execution_count": null,
   "metadata": {},
   "outputs": [],
   "source": []
  },
  {
   "cell_type": "code",
   "execution_count": null,
   "metadata": {},
   "outputs": [],
   "source": []
  },
  {
   "cell_type": "code",
   "execution_count": null,
   "metadata": {},
   "outputs": [],
   "source": []
  },
  {
   "cell_type": "code",
   "execution_count": null,
   "metadata": {},
   "outputs": [],
   "source": []
  },
  {
   "cell_type": "code",
   "execution_count": null,
   "metadata": {},
   "outputs": [],
   "source": [
    "%load_ext autoreload\n",
    "%autoreload\n",
    "\n",
    "import imageio\n",
    "from PIL import Image\n",
    "\n",
    "results=[]\n",
    "for res in resultados:\n",
    "    results.append(np.load(res))\n",
    "\n",
    "results_transposed = np.transpose(results)\n",
    "\n",
    "x,probSets1,As,Ws=BInf.GenerateMockData(mockParamsA,mockParamsW)\n",
    "x2,probSets2,As,Ws=BInf.GenerateMockData([np.median(results_transposed[0]),np.median(results_transposed[1])],[np.median(results_transposed[2]),np.median(results_transposed[3])])\n",
    "\n",
    "# Create a list to store the images\n",
    "images = []\n",
    "\n",
    "# Set the delay between frames (in seconds)\n",
    "delay = 0.5\n",
    "\n",
    "# Loop through the probSets1 and probSets2\n",
    "for p1, p2, muv in zip(probSets1, probSets2, BInf.Muv):\n",
    "    # Create a new figure\n",
    "    fig, ax = plt.subplots()\n",
    "    \n",
    "    # Plot p1 and p2\n",
    "    ax.plot(x, p1,color=\"black\",ls=\"--\")\n",
    "    ax.plot(x, p2)\n",
    "    ax.set_xlim(-10, 200)\n",
    "    #ax.set_ylim(0, 0.013)\n",
    "    # Add text for Muv in the top right corner\n",
    "    ax.text(0.95, 0.95, f'Muv: {muv}', transform=ax.transAxes, ha='right', va='top')\n",
    "    \n",
    "    # Save the figure as an image\n",
    "    fig.canvas.draw()\n",
    "    image = Image.frombytes('RGB', fig.canvas.get_width_height(), fig.canvas.tostring_rgb())\n",
    "    images.append(image)\n",
    "    plt.show()\n",
    "\n",
    "# Save the images as a GIF with a slower frame rate\n",
    "imageio.mimsave('plots_uplim.gif', images, duration=delay)\n",
    "\n"
   ]
  },
  {
   "cell_type": "code",
   "execution_count": 117,
   "metadata": {},
   "outputs": [
    {
     "name": "stdout",
     "output_type": "stream",
     "text": [
      "The autoreload extension is already loaded. To reload it, use:\n",
      "  %reload_ext autoreload\n",
      "0.010591825077094415\n"
     ]
    },
    {
     "ename": "ValueError",
     "evalue": "x and y must have same first dimension, but have shapes (2,) and (5501,)",
     "output_type": "error",
     "traceback": [
      "\u001b[0;31m---------------------------------------------------------------------------\u001b[0m",
      "\u001b[0;31mValueError\u001b[0m                                Traceback (most recent call last)",
      "\u001b[0;32m<ipython-input-117-8425447d52b4>\u001b[0m in \u001b[0;36m<module>\u001b[0;34m\u001b[0m\n\u001b[1;32m     12\u001b[0m     \u001b[0mfig\u001b[0m\u001b[0;34m,\u001b[0m \u001b[0max\u001b[0m \u001b[0;34m=\u001b[0m \u001b[0mplt\u001b[0m\u001b[0;34m.\u001b[0m\u001b[0msubplots\u001b[0m\u001b[0;34m(\u001b[0m\u001b[0;34m)\u001b[0m\u001b[0;34m\u001b[0m\u001b[0;34m\u001b[0m\u001b[0m\n\u001b[1;32m     13\u001b[0m \u001b[0;34m\u001b[0m\u001b[0m\n\u001b[0;32m---> 14\u001b[0;31m     \u001b[0max\u001b[0m\u001b[0;34m.\u001b[0m\u001b[0mplot\u001b[0m\u001b[0;34m(\u001b[0m\u001b[0mx\u001b[0m\u001b[0;34m,\u001b[0m \u001b[0mp1\u001b[0m\u001b[0;34m,\u001b[0m\u001b[0mcolor\u001b[0m\u001b[0;34m=\u001b[0m\u001b[0;34m\"black\"\u001b[0m\u001b[0;34m,\u001b[0m\u001b[0mls\u001b[0m\u001b[0;34m=\u001b[0m\u001b[0;34m\"--\"\u001b[0m\u001b[0;34m)\u001b[0m\u001b[0;34m\u001b[0m\u001b[0;34m\u001b[0m\u001b[0m\n\u001b[0m\u001b[1;32m     15\u001b[0m     \u001b[0max\u001b[0m\u001b[0;34m.\u001b[0m\u001b[0mplot\u001b[0m\u001b[0;34m(\u001b[0m\u001b[0mx\u001b[0m\u001b[0;34m,\u001b[0m \u001b[0mp2\u001b[0m\u001b[0;34m)\u001b[0m\u001b[0;34m\u001b[0m\u001b[0;34m\u001b[0m\u001b[0m\n\u001b[1;32m     16\u001b[0m     \u001b[0max\u001b[0m\u001b[0;34m.\u001b[0m\u001b[0mplot\u001b[0m\u001b[0;34m(\u001b[0m\u001b[0mx2\u001b[0m\u001b[0;34m,\u001b[0m \u001b[0mOGLikelihood\u001b[0m\u001b[0;34m(\u001b[0m\u001b[0mx2\u001b[0m\u001b[0;34m,\u001b[0m\u001b[0;36m0.73\u001b[0m\u001b[0;34m,\u001b[0m\u001b[0;36m63.55\u001b[0m\u001b[0;34m)\u001b[0m\u001b[0;34m)\u001b[0m\u001b[0;34m\u001b[0m\u001b[0;34m\u001b[0m\u001b[0m\n",
      "\u001b[0;32m~/opt/anaconda3/lib/python3.8/site-packages/matplotlib/axes/_axes.py\u001b[0m in \u001b[0;36mplot\u001b[0;34m(self, scalex, scaley, data, *args, **kwargs)\u001b[0m\n\u001b[1;32m   1741\u001b[0m         \"\"\"\n\u001b[1;32m   1742\u001b[0m         \u001b[0mkwargs\u001b[0m \u001b[0;34m=\u001b[0m \u001b[0mcbook\u001b[0m\u001b[0;34m.\u001b[0m\u001b[0mnormalize_kwargs\u001b[0m\u001b[0;34m(\u001b[0m\u001b[0mkwargs\u001b[0m\u001b[0;34m,\u001b[0m \u001b[0mmlines\u001b[0m\u001b[0;34m.\u001b[0m\u001b[0mLine2D\u001b[0m\u001b[0;34m)\u001b[0m\u001b[0;34m\u001b[0m\u001b[0;34m\u001b[0m\u001b[0m\n\u001b[0;32m-> 1743\u001b[0;31m         \u001b[0mlines\u001b[0m \u001b[0;34m=\u001b[0m \u001b[0;34m[\u001b[0m\u001b[0;34m*\u001b[0m\u001b[0mself\u001b[0m\u001b[0;34m.\u001b[0m\u001b[0m_get_lines\u001b[0m\u001b[0;34m(\u001b[0m\u001b[0;34m*\u001b[0m\u001b[0margs\u001b[0m\u001b[0;34m,\u001b[0m \u001b[0mdata\u001b[0m\u001b[0;34m=\u001b[0m\u001b[0mdata\u001b[0m\u001b[0;34m,\u001b[0m \u001b[0;34m**\u001b[0m\u001b[0mkwargs\u001b[0m\u001b[0;34m)\u001b[0m\u001b[0;34m]\u001b[0m\u001b[0;34m\u001b[0m\u001b[0;34m\u001b[0m\u001b[0m\n\u001b[0m\u001b[1;32m   1744\u001b[0m         \u001b[0;32mfor\u001b[0m \u001b[0mline\u001b[0m \u001b[0;32min\u001b[0m \u001b[0mlines\u001b[0m\u001b[0;34m:\u001b[0m\u001b[0;34m\u001b[0m\u001b[0;34m\u001b[0m\u001b[0m\n\u001b[1;32m   1745\u001b[0m             \u001b[0mself\u001b[0m\u001b[0;34m.\u001b[0m\u001b[0madd_line\u001b[0m\u001b[0;34m(\u001b[0m\u001b[0mline\u001b[0m\u001b[0;34m)\u001b[0m\u001b[0;34m\u001b[0m\u001b[0;34m\u001b[0m\u001b[0m\n",
      "\u001b[0;32m~/opt/anaconda3/lib/python3.8/site-packages/matplotlib/axes/_base.py\u001b[0m in \u001b[0;36m__call__\u001b[0;34m(self, data, *args, **kwargs)\u001b[0m\n\u001b[1;32m    271\u001b[0m                 \u001b[0mthis\u001b[0m \u001b[0;34m+=\u001b[0m \u001b[0margs\u001b[0m\u001b[0;34m[\u001b[0m\u001b[0;36m0\u001b[0m\u001b[0;34m]\u001b[0m\u001b[0;34m,\u001b[0m\u001b[0;34m\u001b[0m\u001b[0;34m\u001b[0m\u001b[0m\n\u001b[1;32m    272\u001b[0m                 \u001b[0margs\u001b[0m \u001b[0;34m=\u001b[0m \u001b[0margs\u001b[0m\u001b[0;34m[\u001b[0m\u001b[0;36m1\u001b[0m\u001b[0;34m:\u001b[0m\u001b[0;34m]\u001b[0m\u001b[0;34m\u001b[0m\u001b[0;34m\u001b[0m\u001b[0m\n\u001b[0;32m--> 273\u001b[0;31m             \u001b[0;32myield\u001b[0m \u001b[0;32mfrom\u001b[0m \u001b[0mself\u001b[0m\u001b[0;34m.\u001b[0m\u001b[0m_plot_args\u001b[0m\u001b[0;34m(\u001b[0m\u001b[0mthis\u001b[0m\u001b[0;34m,\u001b[0m \u001b[0mkwargs\u001b[0m\u001b[0;34m)\u001b[0m\u001b[0;34m\u001b[0m\u001b[0;34m\u001b[0m\u001b[0m\n\u001b[0m\u001b[1;32m    274\u001b[0m \u001b[0;34m\u001b[0m\u001b[0m\n\u001b[1;32m    275\u001b[0m     \u001b[0;32mdef\u001b[0m \u001b[0mget_next_color\u001b[0m\u001b[0;34m(\u001b[0m\u001b[0mself\u001b[0m\u001b[0;34m)\u001b[0m\u001b[0;34m:\u001b[0m\u001b[0;34m\u001b[0m\u001b[0;34m\u001b[0m\u001b[0m\n",
      "\u001b[0;32m~/opt/anaconda3/lib/python3.8/site-packages/matplotlib/axes/_base.py\u001b[0m in \u001b[0;36m_plot_args\u001b[0;34m(self, tup, kwargs)\u001b[0m\n\u001b[1;32m    397\u001b[0m \u001b[0;34m\u001b[0m\u001b[0m\n\u001b[1;32m    398\u001b[0m         \u001b[0;32mif\u001b[0m \u001b[0mx\u001b[0m\u001b[0;34m.\u001b[0m\u001b[0mshape\u001b[0m\u001b[0;34m[\u001b[0m\u001b[0;36m0\u001b[0m\u001b[0;34m]\u001b[0m \u001b[0;34m!=\u001b[0m \u001b[0my\u001b[0m\u001b[0;34m.\u001b[0m\u001b[0mshape\u001b[0m\u001b[0;34m[\u001b[0m\u001b[0;36m0\u001b[0m\u001b[0;34m]\u001b[0m\u001b[0;34m:\u001b[0m\u001b[0;34m\u001b[0m\u001b[0;34m\u001b[0m\u001b[0m\n\u001b[0;32m--> 399\u001b[0;31m             raise ValueError(f\"x and y must have same first dimension, but \"\n\u001b[0m\u001b[1;32m    400\u001b[0m                              f\"have shapes {x.shape} and {y.shape}\")\n\u001b[1;32m    401\u001b[0m         \u001b[0;32mif\u001b[0m \u001b[0mx\u001b[0m\u001b[0;34m.\u001b[0m\u001b[0mndim\u001b[0m \u001b[0;34m>\u001b[0m \u001b[0;36m2\u001b[0m \u001b[0;32mor\u001b[0m \u001b[0my\u001b[0m\u001b[0;34m.\u001b[0m\u001b[0mndim\u001b[0m \u001b[0;34m>\u001b[0m \u001b[0;36m2\u001b[0m\u001b[0;34m:\u001b[0m\u001b[0;34m\u001b[0m\u001b[0;34m\u001b[0m\u001b[0m\n",
      "\u001b[0;31mValueError\u001b[0m: x and y must have same first dimension, but have shapes (2,) and (5501,)"
     ]
    },
    {
     "data": {
      "image/png": "[encoded data removed]",
      "text/plain": [
       "<Figure size 540x504 with 1 Axes>"
      ]
     },
     "metadata": {},
     "output_type": "display_data"
    }
   ],
   "source": [
    "%load_ext autoreload\n",
    "%autoreload\n",
    "\n",
    "def OGLikelihood(ew,A,Wo):\n",
    "    return ((A/Wo)*np.exp(-ew/Wo)*np.heaviside(ew,0.0) + (1-A)*DeltaFunc(ew) )\n",
    "\n",
    "x2,probSets2,As,Ws=BInf.GenerateMockData([0.106,2.91],[10.29,280.22])\n",
    "for p1, p2, muv in zip(probSets1[:10], probSets2[:10], BInf.Muv[:10]):\n",
    "    #print(10.28*muv+280.22)\n",
    "    #print(0.106*muv+2.91)\n",
    "    print((0.106*muv+2.91)/(10.28*muv+280.22)*np.exp(-0.1/(10.28*muv+280.22)))\n",
    "    fig, ax = plt.subplots()\n",
    "    \n",
    "    ax.plot(x, p1,color=\"black\",ls=\"--\")\n",
    "    ax.plot(x, p2)\n",
    "    ax.plot(x2, OGLikelihood(x2,0.73,63.55))\n",
    "\n",
    "\n",
    "    ax.set_xlim(-10, 200)\n",
    "    ax.set_ylim(0, 0.013)\n",
    "    ax.axhline(0.0105, color='red')\n",
    "    ax.text(0.95, 0.95, f'Muv: {muv}', transform=ax.transAxes, ha='right', va='top')\n",
    "    ax.text(0.95, 0.75, f'A: {0.106*muv+2.91}', transform=ax.transAxes, ha='right', va='top')\n",
    "plt.show()\n"
   ]
  },
  {
   "cell_type": "code",
   "execution_count": 130,
   "metadata": {},
   "outputs": [
    {
     "data": {
      "text/plain": [
       "0.010311284046692607"
      ]
     },
     "execution_count": 130,
     "metadata": {},
     "output_type": "execute_result"
    }
   ],
   "source": [
    "0.106/10.28"
   ]
  },
  {
   "cell_type": "code",
   "execution_count": 128,
   "metadata": {},
   "outputs": [
    {
     "data": {
      "image/png": "[encoded data removed]",
      "text/plain": [
       "<Figure size 540x504 with 1 Axes>"
      ]
     },
     "metadata": {},
     "output_type": "display_data"
    }
   ],
   "source": [
    "\n",
    "for p1, p2, muv in zip(probSets1[:], probSets2[:], BInf.Muv[:]):\n",
    "    #print(10.28*muv+280.22)\n",
    "    #print(0.106*muv+2.91)\n",
    "    plt.scatter((0.106*muv+2.91),(10.28*muv+280.22),color=\"black\")\n",
    "\n",
    "\n",
    "\n",
    "plt.scatter(TrueAs,TrueWs,color=\"blue\")\n",
    "\n",
    "x = [0.4, 1]\n",
    "y = [35, 35 + (8/0.12 * (1 - 0.4))]\n",
    "\n",
    "plt.plot(x, y, color='red')\n",
    "plt.xlabel('X')\n",
    "plt.ylabel('Y')\n",
    "plt.show()\n"
   ]
  },
  {
   "cell_type": "code",
   "execution_count": 116,
   "metadata": {},
   "outputs": [
    {
     "data": {
      "image/png": "[encoded data removed]",
      "text/plain": [
       "<Figure size 540x504 with 1 Axes>"
      ]
     },
     "metadata": {},
     "output_type": "display_data"
    }
   ],
   "source": [
    "import matplotlib.pyplot as plt\n",
    "\n",
    "x = [0, 1]\n",
    "y = [0, 100]\n",
    "\n",
    "plt.plot(x, y, 'r--')\n",
    "plt.xlabel('x')\n",
    "plt.ylabel('y')\n",
    "plt.title('1-to-1 Line')\n",
    "plt.xlim(0, 1)\n",
    "plt.ylim(0, 100)\n",
    "plt.show()\n"
   ]
  },
  {
   "cell_type": "code",
   "execution_count": null,
   "metadata": {},
   "outputs": [],
   "source": []
  }
 ],
 "metadata": {
  "kernelspec": {
   "display_name": "base",
   "language": "python",
   "name": "python3"
  },
  "language_info": {
   "codemirror_mode": {
    "name": "ipython",
    "version": 3
   },
   "file_extension": ".py",
   "mimetype": "text/x-python",
   "name": "python",
   "nbconvert_exporter": "python",
   "pygments_lexer": "ipython3",
   "version": "3.8.8"
  }
 },
 "nbformat": 4,
 "nbformat_minor": 2
}
