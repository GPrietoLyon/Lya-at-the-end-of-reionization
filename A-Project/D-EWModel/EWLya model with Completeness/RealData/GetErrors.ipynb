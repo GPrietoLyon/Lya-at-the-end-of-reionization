{
 "cells": [
  {
   "cell_type": "code",
   "execution_count": 36,
   "metadata": {},
   "outputs": [],
   "source": [
    "from Tools import *\n",
    "from photoObject import *\n",
    "import emcee\n",
    "import numpy as np\n",
    "import seaborn as sns\n",
    "import pandas as pd\n",
    "import matplotlib.pyplot as plt\n",
    "import numpy as np\n",
    "from astropy.io import fits"
   ]
  },
  {
   "cell_type": "code",
   "execution_count": 37,
   "metadata": {},
   "outputs": [],
   "source": [
    "def angstromTokms(centralA,As):\n",
    "    c=299792\n",
    "    v=c*(As-centralA)/centralA\n",
    "    return v\n",
    "\n",
    "def LineToRedshift(Obs,Rest):\n",
    "    return (Obs/Rest)-1\n",
    "\n",
    "def RedshiftToLine(Obs,z):\n",
    "    return (Obs/(1+z))\n",
    "\n",
    "def kmsToangstrom(v,centralA):\n",
    "    c=299792\n",
    "    As = centralA*(v+c)/c\n",
    "    return np.abs(centralA-As)"
   ]
  },
  {
   "cell_type": "code",
   "execution_count": 38,
   "metadata": {},
   "outputs": [],
   "source": [
    "#LAE\n",
    "cat=ascii.read(\"../Catalogs/Binospec-Candels.cat\")\n",
    "Err=cat[\"LyaErr\"]\n"
   ]
  },
  {
   "cell_type": "code",
   "execution_count": 39,
   "metadata": {},
   "outputs": [],
   "source": [
    "#NONLAE\n",
    "Spectra=np.load(\"../Catalogs/ALLSpectra.npy\",allow_pickle=True).tolist()\n",
    "FWHM=np.load(\"../Catalogs/FWHM.npy\")\n",
    "\n",
    "stuff={}\n",
    "for gal in cat:\n",
    "    stuff[gal[\"id_charlotte\"]]=[gal[\"Type\"],gal[\"photoz\"]]\n",
    "IDs=list(Spectra.keys())\n",
    "\n",
    "\n",
    "Err2=[]\n",
    "fw=[]\n",
    "for id in IDs:\n",
    "    type,zphot=stuff[id]\n",
    "    if type==\"NonDetect\":\n",
    "        spec=Spectra[id]\n",
    "        wave,flux,err=spec\n",
    "        fwhm=10**np.random.normal(loc=np.nanmean(np.log10(FWHM)),scale=np.nanstd(np.log10(FWHM)))\n",
    "        fw.append(fwhm)\n",
    "        lya,eks,fwhm=1215.335*(1+zphot) ,    20  ,fwhm/2\n",
    "\n",
    "        mask=(wave>lya-eks) & (wave<lya+eks)\n",
    "        wave,flux,err=wave[mask],flux[mask],err[mask]\n",
    "\n",
    "        if np.isnan(np.mean(flux))==True or np.mean(flux)==0.0:\n",
    "            continue\n",
    "\n",
    "        extractSize=kmsToangstrom(fwhm,lya)\n",
    "        mask=(wave>lya-extractSize) & (wave<lya+extractSize)\n",
    "        wave,flux,err=wave[mask],flux[mask],err[mask]\n",
    "\n",
    "        Err2.append(np.log10(np.sum(err)))\n",
    "\n",
    "\n",
    "        #plt.plot(wave,flux)\n",
    "        #plt.plot(wave,err)\n",
    "        #plt.show()\n",
    "\n"
   ]
  },
  {
   "cell_type": "code",
   "execution_count": 40,
   "metadata": {},
   "outputs": [
    {
     "name": "stdout",
     "output_type": "stream",
     "text": [
      "-17.553766121327108\n",
      "-17.950244061566725\n"
     ]
    }
   ],
   "source": [
    "print(np.median(Err2))\n",
    "print(np.nanmedian(Err))"
   ]
  },
  {
   "cell_type": "code",
   "execution_count": 41,
   "metadata": {},
   "outputs": [
    {
     "data": {
      "text/plain": [
       "Text(0.5, 0, 'log10 Lya error [erg/s/cm2/A]')"
      ]
     },
     "execution_count": 41,
     "metadata": {},
     "output_type": "execute_result"
    },
    {
     "data": {
      "image/png": "[encoded data removed]",
      "text/plain": [
       "<Figure size 432x288 with 1 Axes>"
      ]
     },
     "metadata": {
      "needs_background": "light"
     },
     "output_type": "display_data"
    }
   ],
   "source": [
    "plt.hist(Err,bins=30)\n",
    "plt.xlabel(\"log10 Lya error [erg/s/cm2/A]\")"
   ]
  },
  {
   "cell_type": "code",
   "execution_count": 42,
   "metadata": {},
   "outputs": [],
   "source": [
    "Errs=list(Err2)\n",
    "np.save(\"../Catalogs/Errors.npy\",Err)\n",
    "np.save(\"../Catalogs/ErrorsLAE.npy\",Err)"
   ]
  },
  {
   "cell_type": "code",
   "execution_count": 43,
   "metadata": {},
   "outputs": [
    {
     "data": {
      "text/plain": [
       "array([         nan,          nan,          nan,          nan,\n",
       "                nan,          nan,          nan,          nan,\n",
       "                nan,          nan,          nan, -17.90925924,\n",
       "                nan,          nan,          nan, -17.90671576,\n",
       "                nan,          nan, -17.6443605 ,          nan,\n",
       "                nan,          nan,          nan,          nan,\n",
       "       -17.86614243,          nan,          nan, -17.81123598,\n",
       "                nan,          nan,          nan, -17.98974817,\n",
       "                nan, -18.0024054 , -17.97167523,          nan,\n",
       "                nan,          nan,          nan,          nan,\n",
       "                nan, -17.62265349,          nan,          nan,\n",
       "                nan,          nan,          nan,          nan,\n",
       "       -17.99902708, -18.54156353,          nan,          nan,\n",
       "                nan,          nan,          nan,          nan,\n",
       "       -17.64471968,          nan,          nan,          nan,\n",
       "                nan,          nan,          nan,          nan,\n",
       "                nan,          nan,          nan,          nan,\n",
       "                nan,          nan,          nan, -18.1830983 ,\n",
       "                nan, -17.64947088,          nan,          nan,\n",
       "                nan,          nan,          nan,          nan,\n",
       "       -17.36257805,          nan,          nan,          nan,\n",
       "                nan,          nan, -18.54236191,          nan,\n",
       "                nan,          nan,          nan,          nan,\n",
       "                nan,          nan,          nan,          nan,\n",
       "                nan,          nan, -17.7917131 ,          nan,\n",
       "       -17.84864009, -18.07541088,          nan,          nan,\n",
       "                nan,          nan,          nan,          nan,\n",
       "                nan, -17.17732186,          nan,          nan,\n",
       "                nan,          nan,          nan,          nan,\n",
       "                nan,          nan, -17.95024406,          nan,\n",
       "                nan, -18.03155523,          nan,          nan,\n",
       "                nan,          nan,          nan,          nan,\n",
       "       -19.1543387 , -17.68232486, -17.54884281,          nan,\n",
       "                nan,          nan, -17.81370412,          nan,\n",
       "       -18.2277943 ,          nan,          nan,          nan,\n",
       "                nan,          nan, -18.04918009,          nan,\n",
       "                nan,          nan,          nan,          nan,\n",
       "       -17.26387506, -18.02983307, -17.69554738,          nan,\n",
       "                nan,          nan,          nan,          nan,\n",
       "                nan,          nan,          nan, -19.12938112,\n",
       "                nan,          nan, -17.6306916 ,          nan,\n",
       "       -17.44323259,          nan,          nan,          nan,\n",
       "       -18.19195499, -17.87938725,          nan,          nan,\n",
       "                nan,          nan, -17.42727952, -17.74077753,\n",
       "                nan,          nan,          nan,          nan,\n",
       "                nan,          nan,          nan,          nan,\n",
       "       -18.28677864,          nan,          nan,          nan,\n",
       "                nan,          nan,          nan,          nan,\n",
       "                nan,          nan,          nan, -18.2871774 ,\n",
       "                nan,          nan,          nan,          nan,\n",
       "                nan,          nan,          nan,          nan,\n",
       "                nan,          nan,          nan,          nan,\n",
       "                nan, -18.05462788,          nan,          nan,\n",
       "                nan,          nan,          nan,          nan,\n",
       "                nan,          nan,          nan,          nan,\n",
       "                nan,          nan,          nan,          nan,\n",
       "                nan, -17.98176231,          nan,          nan,\n",
       "                nan,          nan,          nan,          nan,\n",
       "                nan,          nan,          nan,          nan,\n",
       "                nan,          nan,          nan,          nan,\n",
       "                nan,          nan, -17.98176857,          nan,\n",
       "                nan,          nan, -17.85527554,          nan,\n",
       "                nan,          nan,          nan,          nan,\n",
       "                nan,          nan, -18.18073396,          nan,\n",
       "       -17.48438547, -17.93509457,          nan,          nan,\n",
       "       -18.26582215,          nan, -17.72676728,          nan,\n",
       "                nan,          nan, -17.93509457,          nan,\n",
       "                nan,          nan,          nan,          nan,\n",
       "                nan,          nan,          nan,          nan,\n",
       "                nan,          nan,          nan,          nan,\n",
       "                nan,          nan,          nan,          nan,\n",
       "                nan,          nan,          nan,          nan,\n",
       "                nan,          nan,          nan,          nan,\n",
       "                nan,          nan,          nan,          nan,\n",
       "       -18.1749886 ,          nan, -18.18412768, -18.29500765,\n",
       "                nan,          nan, -18.09193007, -18.04745243,\n",
       "                nan, -17.69057672, -18.00128412, -17.90684913,\n",
       "       -17.55642841, -17.9890277 , -17.24665728, -18.0697422 ,\n",
       "       -17.77929497, -18.18417515, -17.99933775, -18.16719315,\n",
       "                nan, -17.74136265,          nan, -16.67451744,\n",
       "                nan, -19.20782915])"
      ]
     },
     "execution_count": 43,
     "metadata": {},
     "output_type": "execute_result"
    }
   ],
   "source": []
  },
  {
   "cell_type": "code",
   "execution_count": 44,
   "metadata": {},
   "outputs": [
    {
     "data": {
      "text/plain": [
       "-17.93352342631863"
      ]
     },
     "execution_count": 44,
     "metadata": {},
     "output_type": "execute_result"
    }
   ],
   "source": [
    "np.nanmean(np.load(\"../Catalogs/ErrorsLAE.npy\"))"
   ]
  },
  {
   "cell_type": "code",
   "execution_count": null,
   "metadata": {},
   "outputs": [],
   "source": []
  }
 ],
 "metadata": {
  "kernelspec": {
   "display_name": "base",
   "language": "python",
   "name": "python3"
  },
  "language_info": {
   "codemirror_mode": {
    "name": "ipython",
    "version": 3
   },
   "file_extension": ".py",
   "mimetype": "text/x-python",
   "name": "python",
   "nbconvert_exporter": "python",
   "pygments_lexer": "ipython3",
   "version": "3.8.8"
  },
  "orig_nbformat": 4
 },
 "nbformat": 4,
 "nbformat_minor": 2
}
