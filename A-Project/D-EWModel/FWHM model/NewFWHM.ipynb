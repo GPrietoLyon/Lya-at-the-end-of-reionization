{
 "cells": [
  {
   "cell_type": "code",
   "execution_count": 3,
   "metadata": {},
   "outputs": [
    {
     "name": "stderr",
     "output_type": "stream",
     "text": [
      "<frozen importlib._bootstrap>:219: RuntimeWarning: numpy.ndarray size changed, may indicate binary incompatibility. Expected 80 from C header, got 88 from PyObject\n"
     ]
    }
   ],
   "source": [
    "import glob\n",
    "import numpy as np\n",
    "import matplotlib.pyplot as plt\n",
    "from astropy.io import fits\n",
    "from astropy.io import ascii"
   ]
  },
  {
   "cell_type": "code",
   "execution_count": 17,
   "metadata": {},
   "outputs": [
    {
     "name": "stdout",
     "output_type": "stream",
     "text": [
      "     LyaFWHM         LyaFWHM_int    \n",
      "----------------- ------------------\n",
      "217.6863416660393 215.48873979484216\n"
     ]
    }
   ],
   "source": [
    "Catalog=ascii.read(\"/Users/gonzalo/Desktop/Code/Gonzalo_Binospec/A-Project/A-Catalogs/Binospec-Candels.cat\")\n",
    "id=\"z5_GND_27819\"\n",
    "print(Catalog[Catalog[\"id_charlotte\"]==id][\"LyaFWHM\",\"LyaFWHM_int\"])"
   ]
  },
  {
   "cell_type": "code",
   "execution_count": null,
   "metadata": {},
   "outputs": [
    {
     "data": {
      "text/plain": [
       "<bound method Row.keys of <Row index=0>\n",
       "id_candels id_charlotte  ra_candels  dec_candels    KPNO_U_FLUX    LBC_U_FLUX ACS_F435W_FLUX   ACS_F606W_FLUX    ACS_F775W_FLUX     ACS_F814W_FLUX   ACS_F850LP_FLUX    WFC3_F105W_FLUX    WFC3_F125W_FLUX  WFC3_F140W_FLUX  WFC3_F160W_FLUX     KPNO_U_FLUXERR   LBC_U_FLUXERR ACS_F435W_FLUXERR ACS_F606W_FLUXERR   ACS_F775W_FLUXERR  ACS_F814W_FLUXERR   ACS_F850LP_FLUXERR  WFC3_F105W_FLUXERR  WFC3_F125W_FLUXERR WFC3_F140W_FLUXERR WFC3_F160W_FLUXERR    z    LyaFlux  LyaErr LyaFWHM Skewness  photoz IDFink       FluxLim          Type    HaFlux dHaFlux   EWHa   dEWHa   HaFWHM dHaFWHM   fesc   dfesc    voff   dvoff    zsys         Muv               dMuv               slope              dslope            EWLya             dEWLya      LyaFWHM_int dLyaFWHM_int Asymmetry inFresco line f090w_mag_aper_1 f090w_magerr_aper_1 f115w_mag_aper_1 f115w_magerr_aper_1 f150w_mag_aper_1 f150w_magerr_aper_1 f200w_mag_aper_1 f200w_magerr_aper_1 f277w_mag_aper_1 f277w_magerr_aper_1 f335m_mag_aper_1 f335m_magerr_aper_1 f356w_mag_aper_1 f356w_magerr_aper_1 f410m_mag_aper_1 f410m_magerr_aper_1 f444w_mag_aper_1 f444w_magerr_aper_1 Slit_loss? f090w_mag_aper_2 f090w_magerr_aper_2 f115w_mag_aper_2 f115w_magerr_aper_2 f150w_mag_aper_2 f150w_magerr_aper_2 f200w_mag_aper_2 f200w_magerr_aper_2 f277w_mag_aper_2 f277w_magerr_aper_2 f335m_mag_aper_2 f335m_magerr_aper_2 f356w_mag_aper_2 f356w_magerr_aper_2 f410m_mag_aper_2 f410m_magerr_aper_2 f444w_mag_aper_2 f444w_magerr_aper_2 f090w_tot_2 f090w_etot_2 f115w_tot_2 f115w_etot_2 f150w_tot_2 f150w_etot_2 f200w_tot_2 f200w_etot_2 f277w_tot_2 f277w_etot_2 f335m_tot_2 f335m_etot_2 f356w_tot_2 f356w_etot_2 f410m_tot_2 f410m_etot_2 f444w_tot_2 f444w_etot_2 f435w_tot_2 f435w_etot_2 f606w_tot_2 f606w_etot_2 f770w_tot_2 f770w_etot_2 f775w_tot_2 f775w_etot_2 f814w_tot_2 f814w_etot_2 f850lp_tot_2 f850lp_etot_2 f105w_tot_2 f105w_etot_2 f110w_tot_2 f110w_etot_2 f125w_tot_2 f125w_etot_2 f140w_tot_2 f140w_etot_2 f160w_tot_2 f160w_etot_2      f_F160W           e_F160W         f_U     e_U        f_F435W            e_F435W              f_B          e_B     f_G     e_G     f_V     e_V        f_F606W            e_F606W              f_R           e_R     f_Rs    e_Rs         f_I               e_I             f_F775W          e_F775W             f_Z          e_Z        f_F850LP           e_F850LP           f_F125W             e_F125W              f_J                e_J         f_F140W e_F140W        f_H                e_H         dLyaFWHM\n",
       "  int64       str19       float64      float64        float64       float64      float64          float64           float64            float64           float64            float64            float64          float64          float64            float64          float64         float64           float64             float64            float64             float64             float64             float64            float64            float64       float64 float64 float64 float64 float64  float64 str12        float64          str9   float64 float64 float64 float64 float64 float64 float64 float64 float64 float64 float64      float64           float64             float64            float64           float64           float64        float64     float64     float64    str8   str4     float64            float64           float64            float64           float64            float64           float64            float64           float64            float64           float64            float64           float64            float64           float64            float64           float64            float64         int64        float64            float64           float64            float64           float64            float64           float64            float64           float64            float64           float64            float64           float64            float64           float64            float64           float64            float64         float64     float64      float64     float64      float64     float64      float64     float64      float64     float64      float64     float64      float64     float64      float64     float64      float64     float64      float64     float64      float64     float64      float64     float64      float64     float64      float64     float64      float64       float64      float64     float64      float64     float64      float64     float64      float64     float64      float64     float64         float64           float64       float64 float64      float64            float64            float64      float64 float64 float64 float64 float64      float64            float64            float64       float64 float64 float64      float64           float64           float64          float64           float64      float64      float64            float64            float64             float64            float64            float64       float64 float64      float64            float64       float64 \n",
       "---------- ------------ ------------ ----------- ----------------- ---------- -------------- ----------------- ------------------ ----------------- ------------------ ------------------ ----------------- --------------- ------------------ ------------------ ------------- ----------------- ------------------ ------------------- ------------------ ------------------- ------------------- ------------------- ------------------ ------------------ ------- ------- ------- ------- -------- ------- ------ ------------------- --------- ------- ------- ------- ------- ------- ------- ------- ------- ------- ------- ------- ----------------- ------------------ ------------------- ------------------ ---------------- ----------------- ----------- ------------ --------- -------- ---- ---------------- ------------------- ---------------- ------------------- ---------------- ------------------- ---------------- ------------------- ---------------- ------------------- ---------------- ------------------- ---------------- ------------------- ---------------- ------------------- ---------------- ------------------- ---------- ---------------- ------------------- ---------------- ------------------- ---------------- ------------------- ---------------- ------------------- ---------------- ------------------- ---------------- ------------------- ---------------- ------------------- ---------------- ------------------- ---------------- ------------------- ----------- ------------ ----------- ------------ ----------- ------------ ----------- ------------ ----------- ------------ ----------- ------------ ----------- ------------ ----------- ------------ ----------- ------------ ----------- ------------ ----------- ------------ ----------- ------------ ----------- ------------ ----------- ------------ ------------ ------------- ----------- ------------ ----------- ------------ ----------- ------------ ----------- ------------ ----------- ------------ ----------------- ------------------ ------- ------- ------------------ ------------------ ----------------- ------- ------- ------- ------- ------- ------------------ ------------------ ------------------ ------- ------- ------- ----------------- ------------------ --------------- ------------------ ---------------- ------- ----------------- ------------------- ------------------ ------------------- ------------------ ------------------ ------- ------- ------------------ ------------------ --------\n",
       "     32510 z6_GNW_30051 189.45517858 62.26062072 29.49706046711067      -99.0          -99.0 31.02695221836155 27.494862925859053 26.84507045589489 26.306234555770807 26.410144592518627 26.21827261246783           -99.0 26.044417520513214 1.2626397088354082         -99.0             -99.0 2.1684910872544947 0.35223104131294036 0.3377711050396428 0.15197839700754656 0.26622885672196617 0.18529751940750572              -99.0 0.2155467472992143     nan     nan     nan     nan      nan    5.58    nan -16.746018322441426 NonDetect     nan     nan     nan     nan     nan     nan     nan     nan     nan     nan     nan -20.0846440102755 0.2737170943580711 -1.1414918819619744 0.8618937431714134 75.7213395890055 41.93922412531013         nan          nan       nan noFresco   --              nan                 nan              nan                 nan              nan                 nan              nan                 nan              nan                 nan              nan                 nan              nan                 nan              nan                 nan              nan                 nan          1              nan                 nan              nan                 nan              nan                 nan              nan                 nan              nan                 nan              nan                 nan              nan                 nan              nan                 nan              nan                 nan         nan          nan         nan          nan         nan          nan         nan          nan         nan          nan         nan          nan         nan          nan         nan          nan         nan          nan         nan          nan         nan          nan         nan          nan         nan          nan         nan          nan          nan           nan         nan          nan         nan          nan         nan          nan         nan          nan         nan          nan 25.70583622229256 0.2642011983752184     nan     nan 28.153623324302227 0.7178216077481903 28.94467493589928     nan     nan     nan     nan     nan 28.379588053564998 0.6200941182779172 28.788645405780784     nan     nan     nan 26.34540988300492 0.5494087104012984 27.261928378405 0.3383951937385703 26.9788428609169     nan 25.88161104672325 0.11184050292416892 25.950334426215655 0.16621775662474647 25.437408896946614 0.7785674136421736     nan     nan 24.201199079726425 0.3530625120136843      0.0>"
      ]
     },
     "execution_count": 14,
     "metadata": {},
     "output_type": "execute_result"
    }
   ],
   "source": []
  },
  {
   "cell_type": "code",
   "execution_count": null,
   "metadata": {},
   "outputs": [],
   "source": []
  }
 ],
 "metadata": {
  "kernelspec": {
   "display_name": "base",
   "language": "python",
   "name": "python3"
  },
  "language_info": {
   "codemirror_mode": {
    "name": "ipython",
    "version": 3
   },
   "file_extension": ".py",
   "mimetype": "text/x-python",
   "name": "python",
   "nbconvert_exporter": "python",
   "pygments_lexer": "ipython3",
   "version": "3.8.8"
  }
 },
 "nbformat": 4,
 "nbformat_minor": 2
}
