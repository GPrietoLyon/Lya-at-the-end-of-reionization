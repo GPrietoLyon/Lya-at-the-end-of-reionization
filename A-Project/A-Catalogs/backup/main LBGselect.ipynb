{
 "cells": [
  {
   "cell_type": "code",
   "execution_count": 1,
   "metadata": {},
   "outputs": [],
   "source": [
    "from astropy.io import ascii\n",
    "from astropy.io import fits\n",
    "import numpy as np\n",
    "import xmatch\n",
    "import matplotlib.pyplot as plt"
   ]
  },
  {
   "cell_type": "code",
   "execution_count": 12,
   "metadata": {},
   "outputs": [
    {
     "name": "stderr",
     "output_type": "stream",
     "text": [
      "WARNING: VerifyWarning: Invalid keyword for column 7: ASCII table null option (TNULLn) is longer than the column's character width and will be truncated (got '-32768'). [astropy.io.fits.column]\n",
      "WARNING: VerifyWarning: Invalid keyword for column 36: ASCII table null option (TNULLn) is longer than the column's character width and will be truncated (got '-32768'). [astropy.io.fits.column]\n",
      "WARNING: VerifyWarning: Invalid keyword for column 37: ASCII table null option (TNULLn) is longer than the column's character width and will be truncated (got '-32768'). [astropy.io.fits.column]\n"
     ]
    }
   ],
   "source": [
    "f1              =   ascii.read(\"Binospec-Candels.cat\")\n",
    "#f2              =   ascii.read(\"CandelsPhotometry.txt\")\n",
    "catPhot              =   fits.open(\"Newest_Candels_GOODSN.fit\")[1].data\n",
    "catZ              =   fits.open(\"Newest_Candels_GOODSN_sfr.fit\")[1].data\n",
    "ids             =   f1[\"id_candels\"]\n",
    "filterNames     =   ['ACS_F435W_FLUX', 'ACS_F606W_FLUX', 'ACS_F775W_FLUX', 'ACS_F814W_FLUX', 'ACS_F850LP_FLUX', 'WFC3_F105W_FLUX', 'WFC3_F125W_FLUX', 'WFC3_F140W_FLUX', 'WFC3_F160W_FLUX']\n",
    "nfilterNames     =   [ 'F435W', 'F606W', 'F775W', 'F814W', 'F850LP', 'F105W', 'F125W', 'F140W', 'F160W']\n",
    "nfiltErrNames     =   [\"e_\"+f for f in nfilterNames]"
   ]
  },
  {
   "cell_type": "code",
   "execution_count": 65,
   "metadata": {},
   "outputs": [],
   "source": [
    "maskZ=(catZ[\"zbest\"]<7) & (catZ[\"zbest\"]>5.)\n",
    "\n",
    "#ZphotSelected=[]\n",
    "#for gal in catPhot:\n",
    "#    if gal[\"ID\"] in catZ[maskZ][\"ID\"]:\n",
    "#        ZphotSelected.append(gal)\n",
    "#        print(gal)\n",
    "#ZphotSelected=np.array(ZphotSelected)\n",
    "my_dict = {}\n",
    "for i in range(0,len(catPhot[\"ID\"])):\n",
    "    my_dict[catPhot[\"ID\"][i]] = catPhot[i]\n",
    "\n",
    "ZphotSelected=[]\n",
    "for id in catZ[maskZ][\"ID\"]:\n",
    "    ZphotSelected.append(my_dict[id])\n"
   ]
  },
  {
   "cell_type": "code",
   "execution_count": null,
   "metadata": {},
   "outputs": [],
   "source": []
  }
 ],
 "metadata": {
  "kernelspec": {
   "display_name": "base",
   "language": "python",
   "name": "python3"
  },
  "language_info": {
   "codemirror_mode": {
    "name": "ipython",
    "version": 3
   },
   "file_extension": ".py",
   "mimetype": "text/x-python",
   "name": "python",
   "nbconvert_exporter": "python",
   "pygments_lexer": "ipython3",
   "version": "3.8.8"
  },
  "orig_nbformat": 4
 },
 "nbformat": 4,
 "nbformat_minor": 2
}
