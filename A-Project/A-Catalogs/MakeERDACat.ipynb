{
 "cells": [
  {
   "cell_type": "code",
   "execution_count": 1,
   "metadata": {},
   "outputs": [],
   "source": [
    "from astropy.io import ascii"
   ]
  },
  {
   "cell_type": "code",
   "execution_count": 16,
   "metadata": {},
   "outputs": [],
   "source": [
    "f1=ascii.read(\"Binospec-Candels.cat\")\n",
    "f2=ascii.read(\"Binospec.cat\")"
   ]
  },
  {
   "cell_type": "code",
   "execution_count": 17,
   "metadata": {},
   "outputs": [
    {
     "name": "stdout",
     "output_type": "stream",
     "text": [
      "         ID              RA      ...       EWLya              dEWLya      \n",
      "------------------- ------------ ... ------------------ ------------------\n",
      "       z6_GNW_30051 189.45517858 ...   75.7213395890055  41.93922412531013\n",
      "       z5_GNW_10084 189.05730265 ...  98.75129584744155  47.87894281430924\n",
      "       z5_GNW_15423  188.9793094 ...  164.5672841947936 102.79370527349295\n",
      "       z6_GND_16819 189.32822851 ... 12.720122933702283     4.816923439634\n",
      "       z5_GND_30190 189.24895977 ...  136.4155515406246 53.936970607081605\n",
      "       z5_GND_15562 189.10639407 ... 124.52246463224022  62.18740391035929\n",
      "       z5_GND_44499 189.10594705 ... 114.45215323266659 37.467709847877444\n",
      "       z6_GNW_27915 189.47420593 ...  66.43211193242105 40.266467177170156\n",
      "       z6_GNW_25538 189.48193975 ...  57.12032509130222  32.92420513990025\n",
      "       z6_GNW_25971   189.334732 ...  38.12697190529507  32.18618958546328\n",
      "                ...          ... ...                ...                ...\n",
      "   Stark11_32_16773 189.19779551 ...  37.25798249186799  7.190433112484183\n",
      "   Stark11_34_24923 189.28453766 ... 29.698106516965158 13.841842936276706\n",
      "Jung18_z6_GND_28438 189.17802256 ... 29.972057108218753 10.777936778544543\n",
      "          Hu10_z7_1 189.35825962 ... 165.58002458093227  51.15626408815532\n",
      "   Stark11_35_22381  189.2553892 ... 12.431221482988265  6.323627108382593\n",
      "   Stark11_24_28120  189.3214621 ...  54.55639642769739 18.096573785476853\n",
      "   Stark11_24_26902 189.30761042 ... 197.33674764099453 215.43341572910478\n",
      "   Stark11_41_13100 189.15667412 ... 142.19035005116356 179.21723578992805\n",
      "    Stark11_42_6706   189.079712 ... 31.177220533216488 21.274718222849426\n",
      "Jung18_z7_GND_10402 189.17928734 ...  30.00151272395512 13.715763403728097\n",
      "          Hu10_z7_2 189.35688782 ...  24.06414458491106 3.8052581650249437\n",
      "Length = 225 rows\n"
     ]
    }
   ],
   "source": [
    "print(f2)"
   ]
  },
  {
   "cell_type": "code",
   "execution_count": 15,
   "metadata": {},
   "outputs": [],
   "source": [
    "for gal in f2:\n",
    "    id=gal['ID']\n",
    "    fwhm=f1[f1[\"id_charlotte\"]==id][\"LyaFWHM_int\"].value[0]\n",
    "    dfwhm=f1[f1[\"id_charlotte\"]==id][\"dLyaFWHM_int\"].value[0]\n",
    "    gal[\"FWHMLya\"]=fwhm\n",
    "    gal[\"dFWHMLya\"]=dfwhm\n",
    "\n",
    "ascii.write(f2, \"Binospec.cat\", overwrite=True)\n",
    "\n",
    "\n",
    "    "
   ]
  },
  {
   "cell_type": "code",
   "execution_count": null,
   "metadata": {},
   "outputs": [],
   "source": []
  }
 ],
 "metadata": {
  "kernelspec": {
   "display_name": "base",
   "language": "python",
   "name": "python3"
  },
  "language_info": {
   "codemirror_mode": {
    "name": "ipython",
    "version": 3
   },
   "file_extension": ".py",
   "mimetype": "text/x-python",
   "name": "python",
   "nbconvert_exporter": "python",
   "pygments_lexer": "ipython3",
   "version": "3.8.8"
  }
 },
 "nbformat": 4,
 "nbformat_minor": 2
}
